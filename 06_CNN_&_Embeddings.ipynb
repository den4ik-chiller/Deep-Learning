{
  "cells": [
    {
      "cell_type": "code",
      "execution_count": null,
      "metadata": {
        "colab": {
          "base_uri": "https://localhost:8080/"
        },
        "id": "XtFQP3RNll3c",
        "outputId": "14b6a605-c302-430d-ea4b-2c31bb84fc6b"
      },
      "outputs": [
        {
          "output_type": "stream",
          "name": "stderr",
          "text": [
            "[nltk_data] Downloading package punkt to /root/nltk_data...\n",
            "[nltk_data]   Package punkt is already up-to-date!\n"
          ]
        },
        {
          "output_type": "execute_result",
          "data": {
            "text/plain": [
              "True"
            ]
          },
          "metadata": {},
          "execution_count": 11
        }
      ],
      "source": [
        "import re\n",
        "import nltk\n",
        "\n",
        "import torch\n",
        "from torch.utils.data import Dataset, DataLoader\n",
        "import torch.nn as nn\n",
        "import torch.optim as optim\n",
        "\n",
        "import pandas as pd\n",
        "from sklearn.model_selection import train_test_split\n",
        "from sklearn.metrics import accuracy_score\n",
        "from nltk.tokenize import word_tokenize\n",
        "from sklearn.preprocessing import LabelEncoder\n",
        "from sklearn.metrics import confusion_matrix, classification_report, roc_auc_score\n",
        "nltk.download('punkt')"
      ]
    },
    {
      "cell_type": "markdown",
      "metadata": {
        "id": "tx75RigN8xIJ"
      },
      "source": [
        "## 1. Представление и предобработка текстовых данных в виде последовательностей"
      ]
    },
    {
      "cell_type": "markdown",
      "metadata": {
        "id": "LScKIAey9dAM"
      },
      "source": [
        "1.1 Представьте первое предложение из строки `text` как последовательность из индексов слов, входящих в это предложение"
      ]
    },
    {
      "cell_type": "code",
      "execution_count": null,
      "metadata": {
        "id": "phEw721T9SYW"
      },
      "outputs": [],
      "source": [
        "text = 'Select your preferences and run the install command. Stable represents the most currently tested and supported version of PyTorch. Note that LibTorch is only available for C++'"
      ]
    },
    {
      "cell_type": "code",
      "execution_count": null,
      "metadata": {
        "colab": {
          "base_uri": "https://localhost:8080/"
        },
        "id": "L5nK7pPS4_on",
        "outputId": "730fc388-def7-4ee5-d5a4-1e51705fb4c6"
      },
      "outputs": [
        {
          "output_type": "execute_result",
          "data": {
            "text/plain": [
              "{'install': 0,\n",
              " 'most': 1,\n",
              " 'your': 2,\n",
              " 'of': 3,\n",
              " 'pytorch': 4,\n",
              " 'represents': 5,\n",
              " 'note': 6,\n",
              " 'tested': 7,\n",
              " 'is': 8,\n",
              " 'only': 9,\n",
              " 'command': 10,\n",
              " 'available': 11,\n",
              " 'libtorch': 12,\n",
              " 'preferences': 13,\n",
              " 'supported': 14,\n",
              " 'and': 15,\n",
              " 'c++': 16,\n",
              " 'version': 17,\n",
              " 'for': 18,\n",
              " 'that': 19,\n",
              " 'run': 20,\n",
              " 'select': 21,\n",
              " 'the': 22,\n",
              " 'stable': 23,\n",
              " 'currently': 24}"
            ]
          },
          "metadata": {},
          "execution_count": 13
        }
      ],
      "source": [
        "sub = re.compile(\"[A-Za-z]+\")\n",
        "text_words = set(word for word in nltk.word_tokenize(text.lower()) if sub.search(word))\n",
        "ind_to_word = dict(enumerate(text_words))\n",
        "word_to_ind = {j:i for i,j in ind_to_word.items()}\n",
        "word_to_ind"
      ]
    },
    {
      "cell_type": "code",
      "execution_count": null,
      "metadata": {
        "colab": {
          "base_uri": "https://localhost:8080/"
        },
        "id": "nje3DVCNmyln",
        "outputId": "a3db99fd-2896-48ec-d800-8e2587c74137"
      },
      "outputs": [
        {
          "output_type": "execute_result",
          "data": {
            "text/plain": [
              "['select', 'your', 'preferences', 'and', 'run', 'the', 'install', 'command']"
            ]
          },
          "metadata": {},
          "execution_count": 14
        }
      ],
      "source": [
        "fs = 'Select your preferences and run the install command'\n",
        "fs = fs.lower()\n",
        "fs = nltk.word_tokenize(fs)\n",
        "fs"
      ]
    },
    {
      "cell_type": "code",
      "execution_count": null,
      "metadata": {
        "colab": {
          "base_uri": "https://localhost:8080/"
        },
        "id": "EY_qM8wZoCFm",
        "outputId": "34031a4e-ba56-4df5-c4bd-4a18d8b1f7ca"
      },
      "outputs": [
        {
          "output_type": "execute_result",
          "data": {
            "text/plain": [
              "tensor([21.,  2., 13., 15., 20., 22.,  0., 10.])"
            ]
          },
          "metadata": {},
          "execution_count": 15
        }
      ],
      "source": [
        "fs_vect = torch.zeros(len(fs))\n",
        "for i,word in enumerate(fs):\n",
        "    fs_vect[i] = word_to_ind[word]\n",
        "fs_vect"
      ]
    },
    {
      "cell_type": "markdown",
      "metadata": {
        "id": "pSFQCPtD9x5J"
      },
      "source": [
        "1.2 Представьте первое предложение из строки `text` как последовательность векторов, соответствующих индексам слов. Для представления индекса в виде вектора используйте унитарное кодирование. В результате должен получиться двумерный тензор размера `количество слов в предложении` x `количество уникальных слов`"
      ]
    },
    {
      "cell_type": "code",
      "execution_count": null,
      "metadata": {
        "id": "RZS4XLV0-buf"
      },
      "outputs": [],
      "source": [
        "text = 'Select your preferences and run the install command. Stable represents the most currently tested and supported version of PyTorch. Note that LibTorch is only available for C++'"
      ]
    },
    {
      "cell_type": "code",
      "execution_count": null,
      "metadata": {
        "colab": {
          "base_uri": "https://localhost:8080/"
        },
        "id": "g-pixPN34_os",
        "outputId": "4ddbb8ca-8d7c-4658-f142-c0603788a51d"
      },
      "outputs": [
        {
          "output_type": "execute_result",
          "data": {
            "text/plain": [
              "tensor([[0., 0., 0., 0., 0., 0., 0., 0., 0., 0., 0., 0., 0., 0., 0., 0., 0., 0.,\n",
              "         0., 0., 0., 1., 0., 0., 0.],\n",
              "        [0., 0., 1., 0., 0., 0., 0., 0., 0., 0., 0., 0., 0., 0., 0., 0., 0., 0.,\n",
              "         0., 0., 0., 0., 0., 0., 0.],\n",
              "        [0., 0., 0., 0., 0., 0., 0., 0., 0., 0., 0., 0., 0., 1., 0., 0., 0., 0.,\n",
              "         0., 0., 0., 0., 0., 0., 0.],\n",
              "        [0., 0., 0., 0., 0., 0., 0., 0., 0., 0., 0., 0., 0., 0., 0., 1., 0., 0.,\n",
              "         0., 0., 0., 0., 0., 0., 0.],\n",
              "        [0., 0., 0., 0., 0., 0., 0., 0., 0., 0., 0., 0., 0., 0., 0., 0., 0., 0.,\n",
              "         0., 0., 1., 0., 0., 0., 0.],\n",
              "        [0., 0., 0., 0., 0., 0., 0., 0., 0., 0., 0., 0., 0., 0., 0., 0., 0., 0.,\n",
              "         0., 0., 0., 0., 1., 0., 0.],\n",
              "        [1., 0., 0., 0., 0., 0., 0., 0., 0., 0., 0., 0., 0., 0., 0., 0., 0., 0.,\n",
              "         0., 0., 0., 0., 0., 0., 0.],\n",
              "        [0., 0., 0., 0., 0., 0., 0., 0., 0., 0., 1., 0., 0., 0., 0., 0., 0., 0.,\n",
              "         0., 0., 0., 0., 0., 0., 0.]])"
            ]
          },
          "metadata": {},
          "execution_count": 7
        }
      ],
      "source": [
        "fs_matrx = torch.zeros((len(fs), len(word_to_ind)))\n",
        "for i, word in enumerate(fs):\n",
        "    fs_matrx[i, word_to_ind[word]] = 1\n",
        "fs_matrx"
      ]
    },
    {
      "cell_type": "markdown",
      "metadata": {
        "id": "9ZvQKHYA-mJN"
      },
      "source": [
        "1.3 Решите задачу 1.2, используя модуль `nn.Embedding`"
      ]
    },
    {
      "cell_type": "code",
      "execution_count": null,
      "metadata": {
        "colab": {
          "base_uri": "https://localhost:8080/"
        },
        "id": "dz57p0U-4_ou",
        "outputId": "95cb76db-2ddc-49d2-8e2b-459708401073"
      },
      "outputs": [
        {
          "output_type": "execute_result",
          "data": {
            "text/plain": [
              "tensor([21,  2, 13, 15, 20, 22,  0, 10])"
            ]
          },
          "metadata": {},
          "execution_count": 8
        }
      ],
      "source": [
        "fs_vect_ = fs_vect.type(torch.long)\n",
        "fs_vect_"
      ]
    },
    {
      "cell_type": "code",
      "execution_count": null,
      "metadata": {
        "colab": {
          "base_uri": "https://localhost:8080/"
        },
        "id": "t9BxlJlo4_ou",
        "outputId": "08b1e595-aca1-4155-c5ac-408eb927d496"
      },
      "outputs": [
        {
          "output_type": "execute_result",
          "data": {
            "text/plain": [
              "tensor([[ 1.0992, -0.1683,  1.0094, -0.7589,  1.3228, -0.5275, -0.4359,  1.0683,\n",
              "          1.4149,  0.4652, -0.0447, -0.7137, -0.3842, -0.9207,  1.2811, -1.1525,\n",
              "          0.3708, -0.6303, -0.0585,  0.7037,  0.2253,  1.3760,  2.6888,  0.2302,\n",
              "          1.0813],\n",
              "        [ 1.3644,  0.1512, -0.1766,  1.1294, -0.0839,  0.5845,  1.7069, -0.2723,\n",
              "         -1.2899,  0.8194,  0.7515,  1.3447,  0.1054,  0.0149, -1.1062, -0.8656,\n",
              "          1.4418, -1.3091,  1.1750,  1.1254, -0.3067, -1.0361,  0.6947,  1.0762,\n",
              "          0.0375],\n",
              "        [-0.0152,  0.9362, -0.2346,  0.5266,  0.8859, -0.1718,  0.5394, -0.8112,\n",
              "         -0.6210, -1.1764,  0.3807,  1.6046,  0.2806,  0.6278, -0.4732, -1.2241,\n",
              "          0.3288, -1.1888, -1.1433,  0.0530,  1.0203, -0.0894, -1.0066, -2.0035,\n",
              "         -0.3852],\n",
              "        [-1.0585, -0.1638, -1.5982,  0.4455,  1.3865,  0.2303, -1.0398, -0.0530,\n",
              "          0.5743, -0.1032,  0.6143,  0.7308,  1.1469, -0.3919, -1.3213,  0.0858,\n",
              "         -0.1502,  1.2708,  1.8871, -0.2735, -0.2882, -0.5209,  0.7852, -1.5135,\n",
              "         -0.7306],\n",
              "        [-0.1729, -1.4056, -0.4825,  0.3628, -0.9368, -0.5314, -1.6685, -0.2219,\n",
              "         -2.1565, -0.6066, -0.5893,  0.3150, -0.6352,  0.8802,  0.7274,  0.4777,\n",
              "         -1.3844, -0.2744,  1.7929,  0.1866,  0.3923, -2.1849,  0.1569,  1.0894,\n",
              "          0.0907],\n",
              "        [-2.0987,  1.1565,  0.2337, -0.0085,  1.9434, -1.3804, -1.6499, -0.8233,\n",
              "          0.8696, -1.2350, -0.3095, -0.7852,  0.6841,  0.1711,  0.6260, -0.0810,\n",
              "         -0.7344,  1.1522, -0.4569,  0.1628, -0.8026, -1.9903, -0.5665,  2.0221,\n",
              "          0.0937],\n",
              "        [-0.1811, -0.2981, -0.1395, -1.6060, -0.9337,  1.2597,  1.6473,  1.2097,\n",
              "         -1.0134, -0.4256,  0.6929, -1.5763, -1.8715, -0.6072, -0.6041,  0.4597,\n",
              "         -0.5778,  0.6194,  0.2989, -0.9776, -0.1185, -0.5398,  0.4746, -0.2612,\n",
              "          0.4359],\n",
              "        [-1.8781,  0.8960,  0.6417,  0.1422,  0.2805, -0.0713, -1.0248,  1.0723,\n",
              "          0.7814, -0.0057, -1.2288, -0.2932, -0.2031, -1.1395, -0.0731, -1.0538,\n",
              "          1.0237,  0.9202,  0.0479,  1.3393,  0.2657, -1.2381, -1.5245,  0.7409,\n",
              "          0.3080]], grad_fn=<EmbeddingBackward0>)"
            ]
          },
          "metadata": {},
          "execution_count": 9
        }
      ],
      "source": [
        "nn.Embedding(num_embeddings=len(text_words), embedding_dim=len(text_words))(fs_vect_)"
      ]
    },
    {
      "cell_type": "markdown",
      "metadata": {
        "id": "TXjM7qEUNFY_"
      },
      "source": [
        "## 2. Классификация фамилий по национальности (ConvNet)\n",
        "\n",
        "Датасет: https://disk.yandex.ru/d/owHew8hzPc7X9Q?w=1\n",
        "\n",
        "2.1 Считать файл `surnames/surnames.csv`."
      ]
    },
    {
      "cell_type": "code",
      "execution_count": null,
      "metadata": {
        "colab": {
          "base_uri": "https://localhost:8080/",
          "height": 333
        },
        "id": "iXFXfglw4_ov",
        "outputId": "6aefbdcd-5514-48d4-dbb9-9ffb7122d873"
      },
      "outputs": [
        {
          "output_type": "error",
          "ename": "FileNotFoundError",
          "evalue": "ignored",
          "traceback": [
            "\u001b[0;31m---------------------------------------------------------------------------\u001b[0m",
            "\u001b[0;31mFileNotFoundError\u001b[0m                         Traceback (most recent call last)",
            "\u001b[0;32m<ipython-input-10-f9038ed26d86>\u001b[0m in \u001b[0;36m<cell line: 1>\u001b[0;34m()\u001b[0m\n\u001b[0;32m----> 1\u001b[0;31m \u001b[0mdf\u001b[0m \u001b[0;34m=\u001b[0m \u001b[0mpd\u001b[0m\u001b[0;34m.\u001b[0m\u001b[0mread_csv\u001b[0m\u001b[0;34m(\u001b[0m\u001b[0;34m\"./data/surnames.csv\"\u001b[0m\u001b[0;34m)\u001b[0m\u001b[0;34m\u001b[0m\u001b[0;34m\u001b[0m\u001b[0m\n\u001b[0m",
            "\u001b[0;32m/usr/local/lib/python3.10/dist-packages/pandas/util/_decorators.py\u001b[0m in \u001b[0;36mwrapper\u001b[0;34m(*args, **kwargs)\u001b[0m\n\u001b[1;32m    209\u001b[0m                 \u001b[0;32melse\u001b[0m\u001b[0;34m:\u001b[0m\u001b[0;34m\u001b[0m\u001b[0;34m\u001b[0m\u001b[0m\n\u001b[1;32m    210\u001b[0m                     \u001b[0mkwargs\u001b[0m\u001b[0;34m[\u001b[0m\u001b[0mnew_arg_name\u001b[0m\u001b[0;34m]\u001b[0m \u001b[0;34m=\u001b[0m \u001b[0mnew_arg_value\u001b[0m\u001b[0;34m\u001b[0m\u001b[0;34m\u001b[0m\u001b[0m\n\u001b[0;32m--> 211\u001b[0;31m             \u001b[0;32mreturn\u001b[0m \u001b[0mfunc\u001b[0m\u001b[0;34m(\u001b[0m\u001b[0;34m*\u001b[0m\u001b[0margs\u001b[0m\u001b[0;34m,\u001b[0m \u001b[0;34m**\u001b[0m\u001b[0mkwargs\u001b[0m\u001b[0;34m)\u001b[0m\u001b[0;34m\u001b[0m\u001b[0;34m\u001b[0m\u001b[0m\n\u001b[0m\u001b[1;32m    212\u001b[0m \u001b[0;34m\u001b[0m\u001b[0m\n\u001b[1;32m    213\u001b[0m         \u001b[0;32mreturn\u001b[0m \u001b[0mcast\u001b[0m\u001b[0;34m(\u001b[0m\u001b[0mF\u001b[0m\u001b[0;34m,\u001b[0m \u001b[0mwrapper\u001b[0m\u001b[0;34m)\u001b[0m\u001b[0;34m\u001b[0m\u001b[0;34m\u001b[0m\u001b[0m\n",
            "\u001b[0;32m/usr/local/lib/python3.10/dist-packages/pandas/util/_decorators.py\u001b[0m in \u001b[0;36mwrapper\u001b[0;34m(*args, **kwargs)\u001b[0m\n\u001b[1;32m    329\u001b[0m                     \u001b[0mstacklevel\u001b[0m\u001b[0;34m=\u001b[0m\u001b[0mfind_stack_level\u001b[0m\u001b[0;34m(\u001b[0m\u001b[0;34m)\u001b[0m\u001b[0;34m,\u001b[0m\u001b[0;34m\u001b[0m\u001b[0;34m\u001b[0m\u001b[0m\n\u001b[1;32m    330\u001b[0m                 )\n\u001b[0;32m--> 331\u001b[0;31m             \u001b[0;32mreturn\u001b[0m \u001b[0mfunc\u001b[0m\u001b[0;34m(\u001b[0m\u001b[0;34m*\u001b[0m\u001b[0margs\u001b[0m\u001b[0;34m,\u001b[0m \u001b[0;34m**\u001b[0m\u001b[0mkwargs\u001b[0m\u001b[0;34m)\u001b[0m\u001b[0;34m\u001b[0m\u001b[0;34m\u001b[0m\u001b[0m\n\u001b[0m\u001b[1;32m    332\u001b[0m \u001b[0;34m\u001b[0m\u001b[0m\n\u001b[1;32m    333\u001b[0m         \u001b[0;31m# error: \"Callable[[VarArg(Any), KwArg(Any)], Any]\" has no\u001b[0m\u001b[0;34m\u001b[0m\u001b[0;34m\u001b[0m\u001b[0m\n",
            "\u001b[0;32m/usr/local/lib/python3.10/dist-packages/pandas/io/parsers/readers.py\u001b[0m in \u001b[0;36mread_csv\u001b[0;34m(filepath_or_buffer, sep, delimiter, header, names, index_col, usecols, squeeze, prefix, mangle_dupe_cols, dtype, engine, converters, true_values, false_values, skipinitialspace, skiprows, skipfooter, nrows, na_values, keep_default_na, na_filter, verbose, skip_blank_lines, parse_dates, infer_datetime_format, keep_date_col, date_parser, dayfirst, cache_dates, iterator, chunksize, compression, thousands, decimal, lineterminator, quotechar, quoting, doublequote, escapechar, comment, encoding, encoding_errors, dialect, error_bad_lines, warn_bad_lines, on_bad_lines, delim_whitespace, low_memory, memory_map, float_precision, storage_options)\u001b[0m\n\u001b[1;32m    948\u001b[0m     \u001b[0mkwds\u001b[0m\u001b[0;34m.\u001b[0m\u001b[0mupdate\u001b[0m\u001b[0;34m(\u001b[0m\u001b[0mkwds_defaults\u001b[0m\u001b[0;34m)\u001b[0m\u001b[0;34m\u001b[0m\u001b[0;34m\u001b[0m\u001b[0m\n\u001b[1;32m    949\u001b[0m \u001b[0;34m\u001b[0m\u001b[0m\n\u001b[0;32m--> 950\u001b[0;31m     \u001b[0;32mreturn\u001b[0m \u001b[0m_read\u001b[0m\u001b[0;34m(\u001b[0m\u001b[0mfilepath_or_buffer\u001b[0m\u001b[0;34m,\u001b[0m \u001b[0mkwds\u001b[0m\u001b[0;34m)\u001b[0m\u001b[0;34m\u001b[0m\u001b[0;34m\u001b[0m\u001b[0m\n\u001b[0m\u001b[1;32m    951\u001b[0m \u001b[0;34m\u001b[0m\u001b[0m\n\u001b[1;32m    952\u001b[0m \u001b[0;34m\u001b[0m\u001b[0m\n",
            "\u001b[0;32m/usr/local/lib/python3.10/dist-packages/pandas/io/parsers/readers.py\u001b[0m in \u001b[0;36m_read\u001b[0;34m(filepath_or_buffer, kwds)\u001b[0m\n\u001b[1;32m    603\u001b[0m \u001b[0;34m\u001b[0m\u001b[0m\n\u001b[1;32m    604\u001b[0m     \u001b[0;31m# Create the parser.\u001b[0m\u001b[0;34m\u001b[0m\u001b[0;34m\u001b[0m\u001b[0m\n\u001b[0;32m--> 605\u001b[0;31m     \u001b[0mparser\u001b[0m \u001b[0;34m=\u001b[0m \u001b[0mTextFileReader\u001b[0m\u001b[0;34m(\u001b[0m\u001b[0mfilepath_or_buffer\u001b[0m\u001b[0;34m,\u001b[0m \u001b[0;34m**\u001b[0m\u001b[0mkwds\u001b[0m\u001b[0;34m)\u001b[0m\u001b[0;34m\u001b[0m\u001b[0;34m\u001b[0m\u001b[0m\n\u001b[0m\u001b[1;32m    606\u001b[0m \u001b[0;34m\u001b[0m\u001b[0m\n\u001b[1;32m    607\u001b[0m     \u001b[0;32mif\u001b[0m \u001b[0mchunksize\u001b[0m \u001b[0;32mor\u001b[0m \u001b[0miterator\u001b[0m\u001b[0;34m:\u001b[0m\u001b[0;34m\u001b[0m\u001b[0;34m\u001b[0m\u001b[0m\n",
            "\u001b[0;32m/usr/local/lib/python3.10/dist-packages/pandas/io/parsers/readers.py\u001b[0m in \u001b[0;36m__init__\u001b[0;34m(self, f, engine, **kwds)\u001b[0m\n\u001b[1;32m   1440\u001b[0m \u001b[0;34m\u001b[0m\u001b[0m\n\u001b[1;32m   1441\u001b[0m         \u001b[0mself\u001b[0m\u001b[0;34m.\u001b[0m\u001b[0mhandles\u001b[0m\u001b[0;34m:\u001b[0m \u001b[0mIOHandles\u001b[0m \u001b[0;34m|\u001b[0m \u001b[0;32mNone\u001b[0m \u001b[0;34m=\u001b[0m \u001b[0;32mNone\u001b[0m\u001b[0;34m\u001b[0m\u001b[0;34m\u001b[0m\u001b[0m\n\u001b[0;32m-> 1442\u001b[0;31m         \u001b[0mself\u001b[0m\u001b[0;34m.\u001b[0m\u001b[0m_engine\u001b[0m \u001b[0;34m=\u001b[0m \u001b[0mself\u001b[0m\u001b[0;34m.\u001b[0m\u001b[0m_make_engine\u001b[0m\u001b[0;34m(\u001b[0m\u001b[0mf\u001b[0m\u001b[0;34m,\u001b[0m \u001b[0mself\u001b[0m\u001b[0;34m.\u001b[0m\u001b[0mengine\u001b[0m\u001b[0;34m)\u001b[0m\u001b[0;34m\u001b[0m\u001b[0;34m\u001b[0m\u001b[0m\n\u001b[0m\u001b[1;32m   1443\u001b[0m \u001b[0;34m\u001b[0m\u001b[0m\n\u001b[1;32m   1444\u001b[0m     \u001b[0;32mdef\u001b[0m \u001b[0mclose\u001b[0m\u001b[0;34m(\u001b[0m\u001b[0mself\u001b[0m\u001b[0;34m)\u001b[0m \u001b[0;34m->\u001b[0m \u001b[0;32mNone\u001b[0m\u001b[0;34m:\u001b[0m\u001b[0;34m\u001b[0m\u001b[0;34m\u001b[0m\u001b[0m\n",
            "\u001b[0;32m/usr/local/lib/python3.10/dist-packages/pandas/io/parsers/readers.py\u001b[0m in \u001b[0;36m_make_engine\u001b[0;34m(self, f, engine)\u001b[0m\n\u001b[1;32m   1733\u001b[0m                 \u001b[0;32mif\u001b[0m \u001b[0;34m\"b\"\u001b[0m \u001b[0;32mnot\u001b[0m \u001b[0;32min\u001b[0m \u001b[0mmode\u001b[0m\u001b[0;34m:\u001b[0m\u001b[0;34m\u001b[0m\u001b[0;34m\u001b[0m\u001b[0m\n\u001b[1;32m   1734\u001b[0m                     \u001b[0mmode\u001b[0m \u001b[0;34m+=\u001b[0m \u001b[0;34m\"b\"\u001b[0m\u001b[0;34m\u001b[0m\u001b[0;34m\u001b[0m\u001b[0m\n\u001b[0;32m-> 1735\u001b[0;31m             self.handles = get_handle(\n\u001b[0m\u001b[1;32m   1736\u001b[0m                 \u001b[0mf\u001b[0m\u001b[0;34m,\u001b[0m\u001b[0;34m\u001b[0m\u001b[0;34m\u001b[0m\u001b[0m\n\u001b[1;32m   1737\u001b[0m                 \u001b[0mmode\u001b[0m\u001b[0;34m,\u001b[0m\u001b[0;34m\u001b[0m\u001b[0;34m\u001b[0m\u001b[0m\n",
            "\u001b[0;32m/usr/local/lib/python3.10/dist-packages/pandas/io/common.py\u001b[0m in \u001b[0;36mget_handle\u001b[0;34m(path_or_buf, mode, encoding, compression, memory_map, is_text, errors, storage_options)\u001b[0m\n\u001b[1;32m    854\u001b[0m         \u001b[0;32mif\u001b[0m \u001b[0mioargs\u001b[0m\u001b[0;34m.\u001b[0m\u001b[0mencoding\u001b[0m \u001b[0;32mand\u001b[0m \u001b[0;34m\"b\"\u001b[0m \u001b[0;32mnot\u001b[0m \u001b[0;32min\u001b[0m \u001b[0mioargs\u001b[0m\u001b[0;34m.\u001b[0m\u001b[0mmode\u001b[0m\u001b[0;34m:\u001b[0m\u001b[0;34m\u001b[0m\u001b[0;34m\u001b[0m\u001b[0m\n\u001b[1;32m    855\u001b[0m             \u001b[0;31m# Encoding\u001b[0m\u001b[0;34m\u001b[0m\u001b[0;34m\u001b[0m\u001b[0m\n\u001b[0;32m--> 856\u001b[0;31m             handle = open(\n\u001b[0m\u001b[1;32m    857\u001b[0m                 \u001b[0mhandle\u001b[0m\u001b[0;34m,\u001b[0m\u001b[0;34m\u001b[0m\u001b[0;34m\u001b[0m\u001b[0m\n\u001b[1;32m    858\u001b[0m                 \u001b[0mioargs\u001b[0m\u001b[0;34m.\u001b[0m\u001b[0mmode\u001b[0m\u001b[0;34m,\u001b[0m\u001b[0;34m\u001b[0m\u001b[0;34m\u001b[0m\u001b[0m\n",
            "\u001b[0;31mFileNotFoundError\u001b[0m: [Errno 2] No such file or directory: './data/surnames.csv'"
          ]
        }
      ],
      "source": [
        "df = pd.read_csv(\"./data/surnames.csv\")"
      ]
    },
    {
      "cell_type": "markdown",
      "metadata": {
        "id": "DrKEaH2L4_ov"
      },
      "source": [
        "2.2 Закодировать национальности числами, начиная с 0."
      ]
    },
    {
      "cell_type": "code",
      "execution_count": null,
      "metadata": {
        "id": "0cGJYBTb4_ov"
      },
      "outputs": [],
      "source": [
        "class_encoder = LabelEncoder()\n",
        "df['nationality'] = class_encoder.fit_transform(df['nationality'])"
      ]
    },
    {
      "cell_type": "markdown",
      "metadata": {
        "id": "aVAzYYkO4_ow"
      },
      "source": [
        "2.3 Разбить датасет на обучающую и тестовую выборку"
      ]
    },
    {
      "cell_type": "code",
      "execution_count": null,
      "metadata": {
        "id": "gd6EKqwn4_ow"
      },
      "outputs": [],
      "source": [
        "X = df['surname'].str.lower().str.strip()\n",
        "y = df['nationality']\n",
        "n_classes = y.nunique()\n",
        "X_train, X_test, y_train, y_test = train_test_split(X, y, test_size=0.2, random_state=1)"
      ]
    },
    {
      "cell_type": "markdown",
      "metadata": {
        "id": "5nSKQh474_ow"
      },
      "source": [
        "2.4 Реализовать класс `Vocab` (токен = __символ__)\n",
        "  * добавьте в словарь специальный токен `<PAD>` с индексом 0\n",
        "  * при создании словаря сохраните длину самой длинной последовательности из набора данных в виде атрибута `max_seq_len`"
      ]
    },
    {
      "cell_type": "code",
      "execution_count": null,
      "metadata": {
        "id": "IdzlvwQ14_ow"
      },
      "outputs": [],
      "source": [
        "class Vocab:\n",
        "    def __init__(self, data):\n",
        "        self.max_seq_len = data.str.len().max()\n",
        "        tokens = set()\n",
        "        for item in data:\n",
        "            tokens.update(item)\n",
        "        tokens = list(tokens)\n",
        "        tokens.insert(0, \"<PAD>\")\n",
        "        self.idx_to_token = dict(enumerate(tokens))\n",
        "        self.token_to_idx = {token: idx for idx, token in self.idx_to_token.items()}\n",
        "        self.vocab_len = len(self.idx_to_token)"
      ]
    },
    {
      "cell_type": "markdown",
      "metadata": {
        "id": "mL7FtetT4_ox"
      },
      "source": [
        "2.5 Реализовать класс `SurnamesDataset`\n",
        "  * метод `__getitem__` возвращает пару: <последовательность индексов токенов (см. 1.1 ), номер класса>\n",
        "  * длина каждой такой последовательности должна быть одинаковой и равной `vocab.max_seq_len`. Чтобы добиться этого, дополните последовательность справа индексом токена `<PAD>` до нужной длины\n"
      ]
    },
    {
      "cell_type": "code",
      "execution_count": null,
      "metadata": {
        "id": "BdgoHt--4_ox"
      },
      "outputs": [],
      "source": [
        "class SurnamesDataset(Dataset):\n",
        "    def __init__(self, X, y, vocab: Vocab):\n",
        "        self.X = X\n",
        "        self.y = y\n",
        "        self.vocab = vocab\n",
        "\n",
        "    def vectorize(self, surname):\n",
        "        '''Генерирует представление фамилии surname в при помощи бинарного кодирования (см. 1.2)'''\n",
        "        surname_t = torch.zeros(self.vocab.max_seq_len).type(torch.long)\n",
        "        for i, token in enumerate(surname):\n",
        "            surname_t[i] = self.vocab.token_to_idx[token]\n",
        "        return surname_t\n",
        "\n",
        "    def __len__(self):\n",
        "        return len(self.X)\n",
        "\n",
        "    def __getitem__(self, idx):\n",
        "        return self.vectorize(self.X.iloc[idx]), self.y.iloc[idx]"
      ]
    },
    {
      "cell_type": "markdown",
      "metadata": {
        "id": "HstMGuAP4_ox"
      },
      "source": [
        "2.6. Обучить классификатор.\n",
        "  \n",
        "  * Для преобразования последовательности индексов в последовательность векторов используйте `nn.Embedding`. Рассмотрите два варианта:\n",
        "    - когда токен представляется в виде унитарного вектора и модуль `nn.Embedding` не обучается\n",
        "    - когда токен представляется в виде вектора небольшой размерности (меньше, чем размер словаря) и модуль `nn.Embedding` обучается\n",
        "\n",
        "  * Используйте одномерные свертки и пулинг (`nn.Conv1d`, `nn.MaxPool1d`)\n",
        "    - обратите внимание, что `nn.Conv1d` ожидает на вход трехмерный тензор размерности `(batch, embedding_dim, seq_len)`\n"
      ]
    },
    {
      "cell_type": "code",
      "execution_count": null,
      "metadata": {
        "id": "Qi-UuNOE4_ox"
      },
      "outputs": [],
      "source": [
        "def hard_training(model, criterion, optimizer, n_epochs=51):\n",
        "    for epoch in range(n_epochs):\n",
        "        epoch_loss = 0\n",
        "        y_pred = torch.empty(0)\n",
        "        y_true = torch.empty(0)\n",
        "\n",
        "        model.train()\n",
        "        for X_batch, y_batch in train_loader:\n",
        "            predictions = model.forward(X_batch, training=True)\n",
        "            loss = criterion(predictions, y_batch.type(torch.long))\n",
        "            loss.backward()\n",
        "            optimizer.step()\n",
        "            optimizer.zero_grad()\n",
        "            epoch_loss += loss.item()\n",
        "            with torch.no_grad():\n",
        "                y_true = torch.cat((y_true, y_batch))\n",
        "                y_pred = torch.cat((y_pred, predictions.argmax(dim=1).cpu().detach()))\n",
        "        trin_acc = accuracy_score(y_true, y_pred).item()\n",
        "\n",
        "\n",
        "        model.eval()\n",
        "        with torch.no_grad():\n",
        "            val_loss = 0\n",
        "            y_pred = torch.empty(0)\n",
        "            y_true = torch.empty(0)\n",
        "            for X_batch, y_batch in test_loader:\n",
        "                predictions = model(X_batch)\n",
        "                loss = criterion(predictions, y_batch.type(torch.long)).item()\n",
        "                y_true = torch.cat((y_true, y_batch))\n",
        "                y_pred = torch.cat((y_pred, predictions.argmax(dim=1).cpu().detach()))\n",
        "                val_loss += loss\n",
        "            val_acc = accuracy_score(y_true, y_pred).item()\n",
        "            if epoch % 5 == 0:\n",
        "                print(f'#{epoch} Training loss: {epoch_loss / len(train_loader):.4f}\\\n",
        " training_acc: {trin_acc:.4f} val_loss: {val_loss / len(test_loader):.4f} val_acc: {val_acc:.4f}')\n",
        "\n",
        "def GloP_boB(model):\n",
        "    y_pred = torch.empty(0)\n",
        "    y_ = torch.empty(0)\n",
        "\n",
        "    for X_batch, y_batch in test_loader:\n",
        "\n",
        "        predictions = model(X_batch).argmax(dim=1).cpu().detach()\n",
        "        y_pred = torch.cat((y_pred, predictions))\n",
        "        y_ = torch.cat((y_, y_batch))\n",
        "\n",
        "    print(classification_report(y_, y_pred, zero_division=0))"
      ]
    },
    {
      "cell_type": "code",
      "execution_count": null,
      "metadata": {
        "id": "IwNkf7RR4_oy"
      },
      "outputs": [],
      "source": [
        "vocab = Vocab(X)\n",
        "train_dataset = SurnamesDataset(X_train, y_train, vocab)\n",
        "test_dataset = SurnamesDataset(X_test, y_test, vocab)"
      ]
    },
    {
      "cell_type": "code",
      "execution_count": null,
      "metadata": {
        "id": "lVlnCUu04_oy"
      },
      "outputs": [],
      "source": [
        "train_loader = DataLoader(train_dataset, batch_size=128, shuffle=True)\n",
        "test_loader = DataLoader(test_dataset, batch_size=128, shuffle=False)"
      ]
    },
    {
      "cell_type": "code",
      "execution_count": null,
      "metadata": {
        "id": "dM1R0D2f4_oy",
        "outputId": "9867a30f-65fa-4d72-8fcd-d833bf152ac8"
      },
      "outputs": [
        {
          "data": {
            "text/plain": [
              "18"
            ]
          },
          "execution_count": 18,
          "metadata": {},
          "output_type": "execute_result"
        }
      ],
      "source": [
        "n_classes"
      ]
    },
    {
      "cell_type": "code",
      "execution_count": null,
      "metadata": {
        "id": "ieIKgOWI4_oz"
      },
      "outputs": [],
      "source": [
        "class MyOwnClassifier(nn.Module):\n",
        "    def __init__(self, num_embeddings, embedding_dim):\n",
        "        super(MyOwnClassifier, self).__init__()\n",
        "        self.embedding = nn.Embedding(num_embeddings, embedding_dim)\n",
        "        self.l1 = nn.Sequential(\n",
        "            nn.Conv1d(embedding_dim, 64, kernel_size=5),\n",
        "            nn.BatchNorm1d(64),\n",
        "            nn.MaxPool1d(2),\n",
        "        )\n",
        "\n",
        "        self.fc1 = nn.Sequential(\n",
        "            nn.Dropout(),\n",
        "            nn.Linear(6*64, 1024),\n",
        "            nn.ReLU(),\n",
        "\n",
        "        )\n",
        "        self.fc2 = nn.Sequential(\n",
        "            nn.Dropout(),\n",
        "            nn.Linear(1024, 18),\n",
        "            nn.Softmax(dim=1),\n",
        "        )\n",
        "\n",
        "    def forward(self, x, training=False):\n",
        "        x = self.embedding(x).transpose(1,2)\n",
        "        x = self.l1(x)\n",
        "#         x = self.l2(x)\n",
        "        x = x.view(x.size(0), -1)\n",
        "        x = self.fc1(x)\n",
        "        x = self.fc2(x)\n",
        "        return x"
      ]
    },
    {
      "cell_type": "code",
      "execution_count": null,
      "metadata": {
        "id": "LSwahrMF4_o0"
      },
      "outputs": [],
      "source": [
        "model = MyOwnClassifier(num_embeddings=vocab.vocab_len, embedding_dim=1)\n",
        "criterion = nn.CrossEntropyLoss()\n",
        "optimizer = optim.Adam(model.parameters(), lr=0.001)"
      ]
    },
    {
      "cell_type": "code",
      "execution_count": null,
      "metadata": {
        "id": "fmFHVlYm4_o0",
        "outputId": "f329fd5f-8676-475d-84f4-04d73a612ae2"
      },
      "outputs": [
        {
          "data": {
            "text/plain": [
              "413258"
            ]
          },
          "execution_count": 25,
          "metadata": {},
          "output_type": "execute_result"
        }
      ],
      "source": [
        "sum(p.numel() for p in model.parameters())"
      ]
    },
    {
      "cell_type": "code",
      "execution_count": null,
      "metadata": {
        "id": "P8elZyd_4_o1",
        "outputId": "31336b21-d22e-44de-9362-c7e88396541a"
      },
      "outputs": [
        {
          "ename": "NameError",
          "evalue": "name 'hard_training' is not defined",
          "output_type": "error",
          "traceback": [
            "\u001b[1;31m---------------------------------------------------------------------------\u001b[0m",
            "\u001b[1;31mNameError\u001b[0m                                 Traceback (most recent call last)",
            "Cell \u001b[1;32mIn[1], line 1\u001b[0m\n\u001b[1;32m----> 1\u001b[0m \u001b[43mhard_training\u001b[49m(model, criterion, optimizer)\n",
            "\u001b[1;31mNameError\u001b[0m: name 'hard_training' is not defined"
          ]
        }
      ],
      "source": [
        "hard_training(model, criterion, optimizer)"
      ]
    },
    {
      "cell_type": "code",
      "execution_count": null,
      "metadata": {
        "id": "qQrnzmvK4_o1",
        "outputId": "a0902beb-0793-4626-f4f7-7d3571ad4167"
      },
      "outputs": [
        {
          "name": "stdout",
          "output_type": "stream",
          "text": [
            "              precision    recall  f1-score   support\n",
            "\n",
            "         0.0       0.00      0.00      0.00       346\n",
            "         1.0       0.00      0.00      0.00        36\n",
            "         2.0       0.00      0.00      0.00        81\n",
            "         3.0       0.00      0.00      0.00        49\n",
            "         4.0       0.31      0.82      0.45       567\n",
            "         5.0       0.00      0.00      0.00        36\n",
            "         6.0       0.00      0.00      0.00       118\n",
            "         7.0       0.00      0.00      0.00        32\n",
            "         8.0       0.00      0.00      0.00        41\n",
            "         9.0       0.00      0.00      0.00       108\n",
            "        10.0       0.00      0.00      0.00       161\n",
            "        11.0       0.00      0.00      0.00        15\n",
            "        12.0       0.00      0.00      0.00        25\n",
            "        13.0       0.00      0.00      0.00        14\n",
            "        14.0       0.51      0.71      0.59       482\n",
            "        15.0       0.00      0.00      0.00        13\n",
            "        16.0       0.00      0.00      0.00        57\n",
            "        17.0       0.00      0.00      0.00        15\n",
            "\n",
            "    accuracy                           0.37      2196\n",
            "   macro avg       0.05      0.09      0.06      2196\n",
            "weighted avg       0.19      0.37      0.25      2196\n",
            "\n"
          ]
        }
      ],
      "source": [
        "GloP_boB(model)"
      ]
    },
    {
      "cell_type": "code",
      "execution_count": null,
      "metadata": {
        "id": "L1bNGxxf4_o2"
      },
      "outputs": [],
      "source": [
        "model2 = MyOwnClassifier(num_embeddings=vocab.vocab_len, embedding_dim=32)\n",
        "criterion = nn.CrossEntropyLoss()\n",
        "optimizer = optim.Adam(model2.parameters(), lr=0.001)"
      ]
    },
    {
      "cell_type": "code",
      "execution_count": null,
      "metadata": {
        "id": "2KJ1WSEV4_o2",
        "outputId": "a37c61b8-2629-4b94-83fb-94b9719272e4"
      },
      "outputs": [
        {
          "name": "stdout",
          "output_type": "stream",
          "text": [
            "#0 Training loss: 2.5730 training_acc: 0.4130 val_loss: 2.4885 val_acc: 0.4923\n",
            "#5 Training loss: 2.4303 training_acc: 0.5515 val_loss: 2.4282 val_acc: 0.5492\n",
            "#10 Training loss: 2.4144 training_acc: 0.5666 val_loss: 2.4228 val_acc: 0.5551\n",
            "#15 Training loss: 2.3763 training_acc: 0.6056 val_loss: 2.3815 val_acc: 0.5984\n",
            "#20 Training loss: 2.3502 training_acc: 0.6314 val_loss: 2.3693 val_acc: 0.6129\n",
            "#25 Training loss: 2.3439 training_acc: 0.6375 val_loss: 2.3584 val_acc: 0.6198\n",
            "#30 Training loss: 2.3147 training_acc: 0.6669 val_loss: 2.3265 val_acc: 0.6489\n",
            "#35 Training loss: 2.3039 training_acc: 0.6778 val_loss: 2.3206 val_acc: 0.6603\n",
            "#40 Training loss: 2.2925 training_acc: 0.6891 val_loss: 2.3228 val_acc: 0.6562\n",
            "#45 Training loss: 2.2905 training_acc: 0.6902 val_loss: 2.3171 val_acc: 0.6621\n",
            "#50 Training loss: 2.2871 training_acc: 0.6942 val_loss: 2.3108 val_acc: 0.6667\n",
            "#55 Training loss: 2.2832 training_acc: 0.6977 val_loss: 2.3088 val_acc: 0.6712\n",
            "#60 Training loss: 2.2801 training_acc: 0.7012 val_loss: 2.3111 val_acc: 0.6680\n",
            "#65 Training loss: 2.2791 training_acc: 0.7016 val_loss: 2.3046 val_acc: 0.6721\n",
            "#70 Training loss: 2.2770 training_acc: 0.7041 val_loss: 2.3000 val_acc: 0.6740\n",
            "#75 Training loss: 2.2718 training_acc: 0.7098 val_loss: 2.2990 val_acc: 0.6781\n",
            "#80 Training loss: 2.2735 training_acc: 0.7077 val_loss: 2.3064 val_acc: 0.6758\n",
            "#85 Training loss: 2.2709 training_acc: 0.7092 val_loss: 2.3023 val_acc: 0.6753\n",
            "#90 Training loss: 2.2662 training_acc: 0.7158 val_loss: 2.3041 val_acc: 0.6767\n",
            "#95 Training loss: 2.2697 training_acc: 0.7111 val_loss: 2.3027 val_acc: 0.6781\n",
            "#100 Training loss: 2.2669 training_acc: 0.7147 val_loss: 2.2958 val_acc: 0.6817\n"
          ]
        }
      ],
      "source": [
        "hard_training(model2, criterion, optimizer, n_epochs=101)"
      ]
    },
    {
      "cell_type": "code",
      "execution_count": null,
      "metadata": {
        "id": "FP1DHunb4_o2",
        "outputId": "da39dcaf-314d-4df1-a917-95fc5f29ee25"
      },
      "outputs": [
        {
          "name": "stdout",
          "output_type": "stream",
          "text": [
            "              precision    recall  f1-score   support\n",
            "\n",
            "         0.0       0.89      0.96      0.92       346\n",
            "         1.0       0.45      0.86      0.59        36\n",
            "         2.0       0.00      0.00      0.00        81\n",
            "         3.0       0.00      0.00      0.00        49\n",
            "         4.0       0.58      0.92      0.71       567\n",
            "         5.0       0.00      0.00      0.00        36\n",
            "         6.0       0.00      0.00      0.00       118\n",
            "         7.0       0.00      0.00      0.00        32\n",
            "         8.0       0.00      0.00      0.00        41\n",
            "         9.0       0.53      0.74      0.62       108\n",
            "        10.0       0.75      0.86      0.80       161\n",
            "        11.0       0.33      0.07      0.11        15\n",
            "        12.0       0.00      0.00      0.00        25\n",
            "        13.0       0.00      0.00      0.00        14\n",
            "        14.0       0.77      0.81      0.79       482\n",
            "        15.0       0.00      0.00      0.00        13\n",
            "        16.0       0.00      0.00      0.00        57\n",
            "        17.0       0.00      0.00      0.00        15\n",
            "\n",
            "    accuracy                           0.68      2196\n",
            "   macro avg       0.24      0.29      0.25      2196\n",
            "weighted avg       0.55      0.68      0.60      2196\n",
            "\n"
          ]
        }
      ],
      "source": [
        "GloP_boB(model2)"
      ]
    },
    {
      "cell_type": "markdown",
      "metadata": {
        "id": "oPcvfRk74_o3"
      },
      "source": [
        "2.7 Измерить точность на тестовой выборке. Проверить работоспособность модели: прогнать несколько фамилий студентов группы через модели и проверить результат. Для каждой фамилии выводить 3 наиболее вероятных предсказания."
      ]
    },
    {
      "cell_type": "code",
      "execution_count": null,
      "metadata": {
        "id": "ZGfJX2NP1sw4"
      },
      "outputs": [],
      "source": [
        "def test_surname(surname):\n",
        "    x = train_dataset.vectorize(surname).unsqueeze(0)\n",
        "    variety, predictions = model(x).topk(k=3, dim=1)\n",
        "    variety = variety.cpu().detach().squeeze()\n",
        "    pred_ = class_encoder.inverse_transform(predictions.cpu().detach().squeeze())\n",
        "    out_ = \", \".join([f\"{nat}:{frac:.2f}\" for nat, frac in zip(pred_, variety)])\n",
        "    print(f\"{surname} --- {out_}\")"
      ]
    },
    {
      "cell_type": "code",
      "execution_count": null,
      "metadata": {
        "id": "GHjCRqQg1sw5",
        "outputId": "fe0da0b0-8ae4-42b1-b097-607ac4b57211"
      },
      "outputs": [
        {
          "name": "stdout",
          "output_type": "stream",
          "text": [
            "bazoyan --- Russian:1.00, English:0.00, Italian:0.00\n",
            "gorshenev --- Russian:1.00, English:0.00, Arabic:0.00\n",
            "strizhov --- Russian:1.00, English:0.00, Italian:0.00\n",
            "petukhov --- English:1.00, Russian:0.00, Arabic:0.00\n",
            "trubadurov --- Russian:1.00, English:0.00, German:0.00\n",
            "atayanc --- English:1.00, Arabic:0.00, Czech:0.00\n"
          ]
        }
      ],
      "source": [
        "for surname in (\"bazoyan\", \"gorshenev\", \"strizhov\", \"petukhov\", \"trubadurov\", \"atayanc\"):\n",
        "    test_surname(surname)"
      ]
    },
    {
      "cell_type": "markdown",
      "metadata": {
        "id": "uo-hf5CQ0iWv"
      },
      "source": [
        "## 3. Классификация обзоров на фильмы (ConvNet)\n",
        "\n",
        "Датасет: https://disk.yandex.ru/d/tdinpb0nN_Dsrg\n",
        "\n",
        "2.1 Создайте набор данных на основе файлов polarity/positive_reviews.csv (положительные отзывы) и polarity/negative_reviews.csv (отрицательные отзывы). Разбейте на обучающую и тестовую выборку.\n",
        "  * токен = __слово__\n",
        "  * данные для обучения в датасете представляются в виде последовательности индексов токенов\n",
        "  * словарь создается на основе _только_ обучающей выборки. Для корректной обработки ситуаций, когда в тестовой выборке встретится токен, который не хранится в словаре, добавьте в словарь специальный токен `<UNK>`\n",
        "  * добавьте предобработку текста"
      ]
    },
    {
      "cell_type": "code",
      "execution_count": null,
      "metadata": {
        "id": "-q3Uts4n4_o-",
        "outputId": "8020ee86-781b-46ba-f108-8fb1ab02a849"
      },
      "outputs": [
        {
          "data": {
            "text/html": [
              "<div>\n",
              "<style scoped>\n",
              "    .dataframe tbody tr th:only-of-type {\n",
              "        vertical-align: middle;\n",
              "    }\n",
              "\n",
              "    .dataframe tbody tr th {\n",
              "        vertical-align: top;\n",
              "    }\n",
              "\n",
              "    .dataframe thead th {\n",
              "        text-align: right;\n",
              "    }\n",
              "</style>\n",
              "<table border=\"1\" class=\"dataframe\">\n",
              "  <thead>\n",
              "    <tr style=\"text-align: right;\">\n",
              "      <th></th>\n",
              "      <th>review</th>\n",
              "      <th>type</th>\n",
              "    </tr>\n",
              "  </thead>\n",
              "  <tbody>\n",
              "    <tr>\n",
              "      <th>0</th>\n",
              "      <td>simplistic , silly and tedious .</td>\n",
              "      <td>positive</td>\n",
              "    </tr>\n",
              "    <tr>\n",
              "      <th>1</th>\n",
              "      <td>it's so laddish and juvenile , only teenage bo...</td>\n",
              "      <td>positive</td>\n",
              "    </tr>\n",
              "  </tbody>\n",
              "</table>\n",
              "</div>"
            ],
            "text/plain": [
              "                                              review      type\n",
              "0                   simplistic , silly and tedious .  positive\n",
              "1  it's so laddish and juvenile , only teenage bo...  positive"
            ]
          },
          "execution_count": 29,
          "metadata": {},
          "output_type": "execute_result"
        }
      ],
      "source": [
        "positive = pd.read_csv(\"./data/positive_reviews.txt\", sep='%-%', header=None, engine=\"python\")\n",
        "positive[\"type\"] = \"positive\"\n",
        "negative = pd.read_csv(\"./data/negative_reviews.txt\", sep='%-%', header=None, engine=\"python\")\n",
        "negative[\"type\"] = \"negative\"\n",
        "df = pd.concat((positive, negative), ignore_index=True)\n",
        "df.columns = [\"review\", \"type\"]\n",
        "df.head(2)"
      ]
    },
    {
      "cell_type": "code",
      "execution_count": null,
      "metadata": {
        "id": "NFJasX-L4_o-"
      },
      "outputs": [],
      "source": [
        "class_encoder_2 = LabelEncoder()\n",
        "df.type = class_encoder_2.fit_transform(df.type)"
      ]
    },
    {
      "cell_type": "code",
      "execution_count": null,
      "metadata": {
        "id": "7VNQYpu34_o-"
      },
      "outputs": [],
      "source": [
        "stopwords = nltk.corpus.stopwords.words('english')\n",
        "lemmatizer = nltk.stem.WordNetLemmatizer()\n",
        "puttern = re.compile(\"^[a-z]+$\")\n",
        "def preprocess(text):\n",
        "    text = text.lower().strip()\n",
        "    words = [lemmatizer.lemmatize(word) for word in nltk.word_tokenize(text) if (puttern.search(word)) and (word not in stopwords)]\n",
        "    return words"
      ]
    },
    {
      "cell_type": "code",
      "execution_count": null,
      "metadata": {
        "id": "hbNvwJgi4_o_"
      },
      "outputs": [],
      "source": [
        "df.review = df.review.apply(preprocess)"
      ]
    },
    {
      "cell_type": "code",
      "execution_count": null,
      "metadata": {
        "id": "lqWHB7Ph4_o_"
      },
      "outputs": [],
      "source": [
        "X = df.review\n",
        "y = df.type\n",
        "n_classes = y.nunique()\n",
        "X_train, X_test, y_train, y_test = train_test_split(X, y, test_size=0.2, random_state=1)"
      ]
    },
    {
      "cell_type": "code",
      "execution_count": null,
      "metadata": {
        "id": "WbXzZr_n4_o_"
      },
      "outputs": [],
      "source": [
        "class Vocab:\n",
        "    def __init__(self, data):\n",
        "        self.max_seq_len = data.apply(lambda x: len(x)).max()\n",
        "        tokens = set()\n",
        "        for item in data:\n",
        "            tokens.update(item)\n",
        "        tokens = list(tokens)\n",
        "        tokens.insert(0, \"<PAD>\")\n",
        "        tokens.insert(1, \"<UNK>\")\n",
        "        self.idx_to_token = dict(enumerate(tokens))\n",
        "        self.token_to_idx = {token: idx for idx, token in self.idx_to_token.items()}\n",
        "        self.vocab_len = len(self.idx_to_token)"
      ]
    },
    {
      "cell_type": "code",
      "execution_count": null,
      "metadata": {
        "id": "4MzEOeOB4_pA"
      },
      "outputs": [],
      "source": [
        "class ReviewsDataset(Dataset):\n",
        "    def __init__(self, X, y, vocab: Vocab):\n",
        "        self.X = X\n",
        "        self.y = y\n",
        "        self.vocab = vocab\n",
        "\n",
        "    def vectorize(self, review):\n",
        "        '''Генерирует представление отзыва'''\n",
        "        review_t = torch.zeros(self.vocab.max_seq_len).type(torch.long)\n",
        "        for i, token in enumerate(review):\n",
        "            try:\n",
        "                review_t[i] = self.vocab.token_to_idx[token]\n",
        "            except KeyError as ke:\n",
        "                review_t[i] = self.vocab.token_to_idx[\"<UNK>\"]\n",
        "        return review_t\n",
        "\n",
        "    def __len__(self):\n",
        "        return len(self.X)\n",
        "\n",
        "    def __getitem__(self, idx):\n",
        "        return self.vectorize(self.X.iloc[idx]), self.y.iloc[idx]"
      ]
    },
    {
      "cell_type": "markdown",
      "metadata": {
        "id": "XfcLpCjb4_pA"
      },
      "source": [
        "2.2. Обучите классификатор.\n",
        "  \n",
        "  * Для преобразования последовательности индексов в последовательность векторов используйте `nn.Embedding`\n",
        "    - подберите адекватную размерность вектора эмбеддинга:\n",
        "    - модуль `nn.Embedding` обучается\n",
        "\n",
        "  * Используйте одномерные свертки и пулинг (`nn.Conv1d`, `nn.MaxPool1d`)\n",
        "    - обратите внимание, что `nn.Conv1d` ожидает на вход трехмерный тензор размерности `(batch, embedding_dim, seq_len)`"
      ]
    },
    {
      "cell_type": "code",
      "execution_count": null,
      "metadata": {
        "id": "3MoUFrhN4_pA"
      },
      "outputs": [],
      "source": [
        "vocab = Vocab(X_train)\n",
        "train_dataset = ReviewsDataset(X_train, y_train, vocab)\n",
        "test_dataset = ReviewsDataset(X_test, y_test, vocab)\n",
        "train_loader = DataLoader(train_dataset, batch_size=128, shuffle=True)\n",
        "test_loader = DataLoader(test_dataset, batch_size=128, shuffle=False)"
      ]
    },
    {
      "cell_type": "code",
      "execution_count": null,
      "metadata": {
        "id": "LDlI8P_54_pA"
      },
      "outputs": [],
      "source": [
        "class MyOwnClassifier(nn.Module):\n",
        "    def __init__(self, num_embeddings, embedding_dim, dropout_level=0.5):\n",
        "        super(MyOwnClassifier, self).__init__()\n",
        "        self.embedding = nn.Embedding(num_embeddings, embedding_dim)\n",
        "        self.l1 = nn.Sequential(\n",
        "            nn.Conv1d(embedding_dim, 256, kernel_size=5),\n",
        "            nn.BatchNorm1d(256),\n",
        "            nn.MaxPool1d(2),\n",
        "        )\n",
        "        self.l2 = nn.Sequential(\n",
        "            nn.Conv1d(256, 512, kernel_size=3),\n",
        "            nn.BatchNorm1d(512),\n",
        "            nn.MaxPool1d(2),\n",
        "        )\n",
        "#         self.l3 = nn.Sequential(\n",
        "#             nn.Conv1d(256, 512, kernel_size=3),\n",
        "#             nn.BatchNorm1d(512),\n",
        "#             nn.MaxPool1d(2),\n",
        "#         )\n",
        "        self.drop = nn.Dropout(p=dropout_level)\n",
        "        self.fc1 = nn.Sequential(\n",
        "            nn.Linear(6*512, 1024),\n",
        "#             nn.Softmax(dim=1),\n",
        "            nn.ReLU(),\n",
        "\n",
        "        )\n",
        "#         self.fc2 = nn.Sequential(\n",
        "#             nn.Dropout(p=dropout_level),\n",
        "#             nn.Linear(1024, 256),\n",
        "# #             nn.Softmax(dim=1),\n",
        "#             nn.ReLU(),\n",
        "#         )\n",
        "        self.fc3 = nn.Sequential(\n",
        "            nn.Linear(1024, n_classes),\n",
        "            nn.Softmax(dim=1),\n",
        "        )\n",
        "\n",
        "    def forward(self, x, training=False):\n",
        "#         print(training)\n",
        "        x = self.embedding(x).transpose(1,2)\n",
        "        x = self.l1(x)\n",
        "        x = self.l2(x)\n",
        "#         x = self.l3(x)\n",
        "        x = x.view(x.size(0), -1)\n",
        "        if training:\n",
        "            x = self.drop(x)\n",
        "        x = self.fc1(x)\n",
        "#         x = self.fc2(x)\n",
        "        if training:\n",
        "            x = self.drop(x)\n",
        "        x = self.fc3(x)\n",
        "        return x"
      ]
    },
    {
      "cell_type": "code",
      "execution_count": null,
      "metadata": {
        "id": "x7wllS854_pB"
      },
      "outputs": [],
      "source": [
        "model = MyOwnClassifier(num_embeddings=vocab.vocab_len, embedding_dim=128, dropout_level=0.9)\n",
        "criterion = nn.CrossEntropyLoss()\n",
        "optimizer = optim.Adam(model.parameters(), lr=0.0001)"
      ]
    },
    {
      "cell_type": "code",
      "execution_count": null,
      "metadata": {
        "id": "pSwkY9ay4_pB",
        "outputId": "71fb2ac0-4a4c-4d44-ebaf-d54ddfcae3d4"
      },
      "outputs": [
        {
          "name": "stdout",
          "output_type": "stream",
          "text": [
            "#0 Training loss: 0.7655 training_acc: 0.4960 val_loss: 0.7087 val_acc: 0.5035\n",
            "#5 Training loss: 0.7448 training_acc: 0.5135 val_loss: 0.6946 val_acc: 0.5148\n",
            "#10 Training loss: 0.7278 training_acc: 0.5277 val_loss: 0.6932 val_acc: 0.5546\n",
            "#15 Training loss: 0.7233 training_acc: 0.5226 val_loss: 0.6897 val_acc: 0.5649\n",
            "#20 Training loss: 0.6777 training_acc: 0.5854 val_loss: 0.6734 val_acc: 0.5917\n",
            "#25 Training loss: 0.6434 training_acc: 0.6386 val_loss: 0.6786 val_acc: 0.5748\n",
            "#30 Training loss: 0.5983 training_acc: 0.6887 val_loss: 0.6653 val_acc: 0.6071\n",
            "#35 Training loss: 0.5670 training_acc: 0.7295 val_loss: 0.6536 val_acc: 0.6329\n",
            "#40 Training loss: 0.5124 training_acc: 0.7901 val_loss: 0.6581 val_acc: 0.6273\n",
            "#45 Training loss: 0.4705 training_acc: 0.8362 val_loss: 0.6984 val_acc: 0.5963\n",
            "#50 Training loss: 0.4417 training_acc: 0.8674 val_loss: 0.6595 val_acc: 0.6324\n",
            "#55 Training loss: 0.4138 training_acc: 0.8968 val_loss: 0.6948 val_acc: 0.6015\n",
            "#60 Training loss: 0.3900 training_acc: 0.9210 val_loss: 0.6867 val_acc: 0.6123\n",
            "#65 Training loss: 0.3910 training_acc: 0.9202 val_loss: 0.6917 val_acc: 0.6128\n",
            "#70 Training loss: 0.3630 training_acc: 0.9490 val_loss: 0.6554 val_acc: 0.6465\n",
            "#75 Training loss: 0.3604 training_acc: 0.9518 val_loss: 0.6671 val_acc: 0.6338\n",
            "#80 Training loss: 0.3592 training_acc: 0.9536 val_loss: 0.6609 val_acc: 0.6395\n",
            "#85 Training loss: 0.3577 training_acc: 0.9545 val_loss: 0.6567 val_acc: 0.6479\n",
            "#90 Training loss: 0.3505 training_acc: 0.9621 val_loss: 0.6912 val_acc: 0.6109\n",
            "#95 Training loss: 0.3490 training_acc: 0.9639 val_loss: 0.6668 val_acc: 0.6381\n",
            "#100 Training loss: 0.3431 training_acc: 0.9700 val_loss: 0.6598 val_acc: 0.6423\n"
          ]
        }
      ],
      "source": [
        "hard_training(model, criterion, optimizer, n_epochs=101)"
      ]
    },
    {
      "cell_type": "code",
      "execution_count": null,
      "metadata": {
        "id": "EF8atkEU4_pB",
        "outputId": "3e0c403e-9e38-431f-c1fc-3c028a591392"
      },
      "outputs": [
        {
          "name": "stdout",
          "output_type": "stream",
          "text": [
            "              precision    recall  f1-score   support\n",
            "\n",
            "         0.0       0.62      0.72      0.67      1067\n",
            "         1.0       0.67      0.56      0.61      1066\n",
            "\n",
            "    accuracy                           0.64      2133\n",
            "   macro avg       0.65      0.64      0.64      2133\n",
            "weighted avg       0.65      0.64      0.64      2133\n",
            "\n"
          ]
        }
      ],
      "source": [
        "GloP_boB(model)"
      ]
    },
    {
      "cell_type": "markdown",
      "metadata": {
        "id": "IfYxi7jg4_pC"
      },
      "source": [
        "2.7 Измерить точность на тестовой выборке. Проверить работоспособность модели: придумать небольшой отзыв, прогнать его через модель и вывести номер предсказанного класса (сделать это для явно позитивного и явно негативного отзыва)\n",
        "* Целевое значение accuracy на валидации - 70+%"
      ]
    },
    {
      "cell_type": "code",
      "execution_count": null,
      "metadata": {
        "id": "Aqc4uaHh4_pC"
      },
      "outputs": [],
      "source": [
        "def test_review(review):\n",
        "    x = train_dataset.vectorize(review).unsqueeze(0)\n",
        "    variety, predictions = model(x).topk(k=1, dim=1)\n",
        "    variety = variety.cpu().detach().view(-1)\n",
        "    pred_ = predictions.cpu().detach().view(-1)\n",
        "    pred_ = class_encoder_2.inverse_transform(pred_)\n",
        "    out_ = \", \".join([f\"{nat}:{frac:.2f}\" for nat, frac in zip(pred_, variety)])\n",
        "    print(f\"{review} --- {out_}\")"
      ]
    },
    {
      "cell_type": "code",
      "execution_count": null,
      "metadata": {
        "id": "ApWDXfT84_pC"
      },
      "outputs": [],
      "source": [
        "reviews_ = [\n",
        "    \"The last time I had lunch here, I really liked the soup. Excellent. I'll come again.\",\n",
        "    \"It feels like I dined on frogs. I will not visit this institution again.\"\n",
        "]"
      ]
    },
    {
      "cell_type": "code",
      "execution_count": null,
      "metadata": {
        "id": "keaYWVSX4_pD",
        "outputId": "db6b738d-6886-43db-8e75-01b3ee873afe"
      },
      "outputs": [
        {
          "name": "stdout",
          "output_type": "stream",
          "text": [
            "['last', 'time', 'lunch', 'really', 'liked', 'soup', 'excellent', 'come'] --- positive:0.60\n",
            "['feel', 'like', 'dined', 'frog', 'visit', 'institution'] --- negative:1.00\n"
          ]
        }
      ],
      "source": [
        "for review in reviews_:\n",
        "     test_review(preprocess(review))"
      ]
    },
    {
      "cell_type": "code",
      "execution_count": null,
      "metadata": {
        "id": "6OvZKyF84_pD"
      },
      "outputs": [],
      "source": [
        "#лол все норм"
      ]
    }
  ],
  "metadata": {
    "accelerator": "GPU",
    "colab": {
      "provenance": []
    },
    "kernelspec": {
      "display_name": "Python 3 (ipykernel)",
      "language": "python",
      "name": "python3"
    },
    "language_info": {
      "codemirror_mode": {
        "name": "ipython",
        "version": 3
      },
      "file_extension": ".py",
      "mimetype": "text/x-python",
      "name": "python",
      "nbconvert_exporter": "python",
      "pygments_lexer": "ipython3",
      "version": "3.10.9"
    }
  },
  "nbformat": 4,
  "nbformat_minor": 0
}