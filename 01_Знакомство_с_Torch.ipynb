{
  "cells": [
    {
      "cell_type": "markdown",
      "metadata": {
        "id": "_gE94V3G1RCx"
      },
      "source": [
        "# 01. Знакомство с `torch.Tensor`\n",
        "\n",
        "V 0.1 04.02.2021"
      ]
    },
    {
      "cell_type": "markdown",
      "metadata": {
        "id": "TlWOXn0f1RC7"
      },
      "source": [
        "---"
      ]
    },
    {
      "cell_type": "markdown",
      "metadata": {
        "id": "lZfJ1FRM1RC8"
      },
      "source": [
        "При решении данных задач не подразумевается использования циклов или генераторов Python, если в задании не сказано обратного. Решение должно опираться на использование функционала библиотеки `torch`.\n",
        "\n",
        "[PyTorch documentation](https://pytorch.org/docs/stable/#pytorch-documentation)"
      ]
    },
    {
      "cell_type": "code",
      "execution_count": null,
      "metadata": {
        "id": "SVgIa40nm2gM",
        "outputId": "758cb160-caf7-4057-9e0b-85f26d880497"
      },
      "outputs": [
        {
          "name": "stdout",
          "output_type": "stream",
          "text": [
            "Collecting torchNote: you may need to restart the kernel to use updated packages.\n",
            "\n",
            "  Downloading torch-2.0.1-cp38-cp38-win_amd64.whl (172.4 MB)\n",
            "     -------------------------------------- 172.4/172.4 MB 1.1 MB/s eta 0:00:00\n",
            "Requirement already satisfied: jinja2 in c:\\users\\user\\anaconda3\\lib\\site-packages (from torch) (2.11.3)\n",
            "Requirement already satisfied: sympy in c:\\users\\user\\anaconda3\\lib\\site-packages (from torch) (1.11.1)\n",
            "Requirement already satisfied: typing-extensions in c:\\users\\user\\anaconda3\\lib\\site-packages (from torch) (4.3.0)\n",
            "Requirement already satisfied: filelock in c:\\users\\user\\anaconda3\\lib\\site-packages (from torch) (3.6.0)\n",
            "Requirement already satisfied: networkx in c:\\users\\user\\anaconda3\\lib\\site-packages (from torch) (2.8.4)\n",
            "Requirement already satisfied: MarkupSafe>=0.23 in c:\\users\\user\\anaconda3\\lib\\site-packages (from jinja2->torch) (2.0.1)\n",
            "Requirement already satisfied: mpmath>=0.19 in c:\\users\\user\\anaconda3\\lib\\site-packages (from sympy->torch) (1.2.1)\n",
            "Installing collected packages: torch\n",
            "Successfully installed torch-2.0.1\n"
          ]
        }
      ],
      "source": [
        "pip install torch"
      ]
    },
    {
      "cell_type": "code",
      "execution_count": null,
      "metadata": {
        "id": "b3AW8rF-1RC9"
      },
      "outputs": [],
      "source": [
        "import torch"
      ]
    },
    {
      "cell_type": "markdown",
      "metadata": {
        "id": "vow49PuE1RC9"
      },
      "source": [
        "## 1.1 Создание тензоров и выполнение базовых операций над ними\n",
        "\n",
        "[Документация по функциям для создания тензоров](https://pytorch.org/docs/stable/torch.html#creation-ops)\n",
        "\n",
        "[Документация по функциям для работы с индексами](https://pytorch.org/docs/stable/torch.html#indexing-slicing-joining-mutating-ops)"
      ]
    },
    {
      "cell_type": "markdown",
      "metadata": {
        "id": "wBIwO1SB1RC-"
      },
      "source": [
        "1.1.1 Создайте двумерный тензор размера (8, 8). Используя как можно меньше операций, добейтесь расстановки кодов \"шахматных фигур\".\n",
        "\n",
        "Ожидаемый результат:\n",
        "\n",
        "```\n",
        "[[-4., -3., -2., -6., -5., -2., -3., -4.],\n",
        " [-1., -1., -1., -1., -1., -1., -1., -1.],\n",
        " [0., 0., 0., 0., 0., 0., 0., 0.],\n",
        " [0., 0., 0., 0., 0., 0., 0., 0.],\n",
        " [0., 0., 0., 0., 0., 0., 0., 0.],\n",
        " [0., 0., 0., 0., 0., 0., 0., 0.],\n",
        " [1., 1., 1., 1., 1., 1., 1., 1.],\n",
        " [4., 3., 2., 6., 5., 2., 3., 4.]]\n",
        "\n",
        "```"
      ]
    },
    {
      "cell_type": "code",
      "execution_count": null,
      "metadata": {
        "id": "i3MojKUzm2gO",
        "outputId": "72a1ffb5-079b-4977-e8b2-e1b6b6d11575"
      },
      "outputs": [
        {
          "data": {
            "text/plain": [
              "tensor([[-4., -3., -2., -6., -5., -2., -3., -4.],\n",
              "        [-1., -1., -1., -1., -1., -1., -1., -1.],\n",
              "        [ 0.,  0.,  0.,  0.,  0.,  0.,  0.,  0.],\n",
              "        [ 0.,  0.,  0.,  0.,  0.,  0.,  0.,  0.],\n",
              "        [ 0.,  0.,  0.,  0.,  0.,  0.,  0.,  0.],\n",
              "        [ 0.,  0.,  0.,  0.,  0.,  0.,  0.,  0.],\n",
              "        [ 1.,  1.,  1.,  1.,  1.,  1.,  1.,  1.],\n",
              "        [ 4.,  3.,  2.,  6.,  5.,  2.,  3.,  4.]])"
            ]
          },
          "execution_count": 2,
          "metadata": {},
          "output_type": "execute_result"
        }
      ],
      "source": [
        "chessboard = torch.zeros(8, 8)\n",
        "chessboard[0] = torch.tensor([-4, -3, -2, -6, -5, -2, -3, -4])\n",
        "chessboard[1] = torch.tensor([-1] * 8)\n",
        "chessboard[6] = torch.tensor([1] * 8)\n",
        "chessboard[7] = torch.tensor([4, 3, 2, 6, 5, 2, 3, 4])\n",
        "\n",
        "chessboard"
      ]
    },
    {
      "cell_type": "markdown",
      "metadata": {
        "id": "20x5RE1V1RC_"
      },
      "source": [
        "1.1.2 Средствами `torch` рассчитать произведения четных чисел от 2 до 20 на ближайшие к ним бОльшие нечетные числа."
      ]
    },
    {
      "cell_type": "code",
      "execution_count": null,
      "metadata": {
        "id": "RQAsWFaQm2gP",
        "outputId": "86448fef-5465-40c8-83be-3b05cccfa36c"
      },
      "outputs": [
        {
          "data": {
            "text/plain": [
              "tensor([  6,  20,  42,  72, 110, 156, 210, 272, 342, 420])"
            ]
          },
          "execution_count": 3,
          "metadata": {},
          "output_type": "execute_result"
        }
      ],
      "source": [
        "even_numbers = torch.arange(2, 21, 2)\n",
        "odd_numbers = even_numbers + 1\n",
        "mult = even_numbers * odd_numbers\n",
        "\n",
        "mult"
      ]
    },
    {
      "cell_type": "markdown",
      "metadata": {
        "id": "N_-t5GRM1RC_"
      },
      "source": [
        "1.1.3 Создать тензор размера 11x7 вида: [[1, 2, 3, ..., 7], [11, 12, 13, ..., 17], [21, 22, 23, ..., 27], ..., [101, 102, 103, ..., 107]]"
      ]
    },
    {
      "cell_type": "code",
      "execution_count": null,
      "metadata": {
        "id": "gzsS-Md3m2gQ",
        "outputId": "2d31dff3-734c-44d1-d1a4-044b278be9ad"
      },
      "outputs": [
        {
          "data": {
            "text/plain": [
              "tensor([[  1,   2,   3,   4,   5,   6,   7],\n",
              "        [ 11,  12,  13,  14,  15,  16,  17],\n",
              "        [ 21,  22,  23,  24,  25,  26,  27],\n",
              "        [ 31,  32,  33,  34,  35,  36,  37],\n",
              "        [ 41,  42,  43,  44,  45,  46,  47],\n",
              "        [ 51,  52,  53,  54,  55,  56,  57],\n",
              "        [ 61,  62,  63,  64,  65,  66,  67],\n",
              "        [ 71,  72,  73,  74,  75,  76,  77],\n",
              "        [ 81,  82,  83,  84,  85,  86,  87],\n",
              "        [ 91,  92,  93,  94,  95,  96,  97],\n",
              "        [101, 102, 103, 104, 105, 106, 107]])"
            ]
          },
          "execution_count": 4,
          "metadata": {},
          "output_type": "execute_result"
        }
      ],
      "source": [
        "tensor = torch.arange(1, 102, 10).unsqueeze(1) + torch.arange(0, 7)\n",
        "tensor"
      ]
    },
    {
      "cell_type": "markdown",
      "metadata": {
        "id": "oxVeUiHR1RC_"
      },
      "source": [
        "1.1.4 Написать функцию, которая для целых значений `n` и `m` будет возвращать тензор размера `n`x`m`, заполненный текстурой размера 2x2, состоящей из следующих значений:\n",
        "\n",
        "```\n",
        "0 1\n",
        "\n",
        "2 3\n",
        "\n",
        "```\n",
        "\n",
        "Пример для n = 4 и m = 5:\n",
        "\n",
        "```\n",
        "0 1 0 1 0\n",
        "\n",
        "2 3 2 3 2\n",
        "\n",
        "0 1 0 1 0\n",
        "\n",
        "2 3 2 3 2\n",
        "```"
      ]
    },
    {
      "cell_type": "code",
      "execution_count": null,
      "metadata": {
        "id": "O2V3-I-3m2gR",
        "outputId": "083f9253-0e4a-4a53-9669-7ea3a8de1bd9"
      },
      "outputs": [
        {
          "name": "stdout",
          "output_type": "stream",
          "text": [
            "n: 4\n",
            "m: 5\n",
            "tensor([[0, 1, 0, 1, 0],\n",
            "        [2, 3, 2, 3, 2],\n",
            "        [0, 1, 0, 1, 0],\n",
            "        [2, 3, 2, 3, 2]], dtype=torch.int32)\n"
          ]
        }
      ],
      "source": [
        "def create_texture_tensor(n, m):\n",
        "    texture = torch.tensor([[0, 1], [2, 3]])\n",
        "\n",
        "    result = torch.zeros(n, m, dtype=torch.int32)\n",
        "    for i in range(n):\n",
        "        for j in range(m):\n",
        "            result[i][j] = texture[i % 2][j % 2]\n",
        "\n",
        "    return result\n",
        "\n",
        "n = int(input('n: '))\n",
        "m = int(input('m: '))\n",
        "result = create_texture_tensor(n, m)\n",
        "print(result)"
      ]
    },
    {
      "cell_type": "markdown",
      "metadata": {
        "id": "WH9hxJse1RDA"
      },
      "source": [
        "1.1.5 Сгенерировать двумерный тензор `t` размерности (4, 7), состоящий из случайных действительных чисел, равномерно распределенных в дипазоне от 0 до 20. Нормализовать значения массива с помощью преобразования вида $ax+b$ так, что после нормализации максимальный элемент масива будет равен 1.0, минимальный 0.0"
      ]
    },
    {
      "cell_type": "code",
      "execution_count": null,
      "metadata": {
        "id": "-r7ZHtmGm2gR",
        "outputId": "d7537df5-ed20-4be0-93ba-485d8ee09b21"
      },
      "outputs": [
        {
          "name": "stdout",
          "output_type": "stream",
          "text": [
            "tensor([[ 7.8254,  6.7040, 13.6347,  0.2103, 12.3617,  1.7436,  9.7535],\n",
            "        [ 8.0134,  9.1429,  4.8480,  6.8725,  1.4621, 10.4661,  1.1506],\n",
            "        [15.2166,  7.3776,  7.8434,  8.0943, 10.6864, 13.5474, 14.8215],\n",
            "        [18.8479, 17.8137, 18.3146,  5.9347,  7.1713,  7.4464, 10.8474]])\n",
            "tensor([[0.4086, 0.3484, 0.7203, 0.0000, 0.6520, 0.0823, 0.5120],\n",
            "        [0.4187, 0.4793, 0.2488, 0.3575, 0.0672, 0.5503, 0.0504],\n",
            "        [0.8052, 0.3846, 0.4096, 0.4230, 0.5621, 0.7156, 0.7840],\n",
            "        [1.0000, 0.9445, 0.9714, 0.3071, 0.3735, 0.3882, 0.5707]])\n"
          ]
        }
      ],
      "source": [
        "tensor = 20 * torch.rand(4, 7)\n",
        "\n",
        "print(tensor)\n",
        "min_value = tensor.min()\n",
        "max_value = tensor.max()\n",
        "\n",
        "a = 1.0 / (max_value - min_value)\n",
        "b = -a * min_value\n",
        "normalized_tensor = a * tensor + b\n",
        "\n",
        "print(normalized_tensor)"
      ]
    },
    {
      "cell_type": "markdown",
      "metadata": {
        "id": "vPqIeewXB-mM"
      },
      "source": [
        "[Random Sampling](https://pytorch.org/docs/stable/torch.html#random-sampling)\n",
        "\n",
        "[Distributions](https://pytorch.org/docs/stable/distributions.html)"
      ]
    },
    {
      "cell_type": "markdown",
      "metadata": {
        "id": "K_R6cwq11RDE"
      },
      "source": [
        "1.1.6 Задать два двумерных тензора `ar1` и `ar2` размерности (4, 7), состоящих из случайных целых чисел в пределах от 0 до 10. Построить двумерный тензор размерности (4, 7), каждый элемент которого представляет собой максимум из двух значений, находящихся на аналогичной позиции в массивах `ar1`, `ar2`.\n",
        "\n",
        "[Reductions ops](https://pytorch.org/docs/stable/torch.html#reduction-ops)"
      ]
    },
    {
      "cell_type": "code",
      "execution_count": null,
      "metadata": {
        "id": "Mpc-1iK7m2gS",
        "outputId": "d84d366b-49a0-409d-97b0-1c4ac859d7dd"
      },
      "outputs": [
        {
          "name": "stdout",
          "output_type": "stream",
          "text": [
            "tensor([[ 6,  1,  0,  3,  0, 10,  3],\n",
            "        [10,  0,  9,  9,  7,  6,  3],\n",
            "        [ 3,  8,  3,  6,  2,  3,  1],\n",
            "        [ 3,  5,  4, 10,  8,  5,  1]])\n",
            "tensor([[ 9,  4,  4,  5,  5,  2,  8],\n",
            "        [10,  3, 10,  9,  8,  7,  5],\n",
            "        [ 4,  3,  2,  4, 10,  0,  0],\n",
            "        [ 6,  2,  3,  4,  2,  5,  8]])\n",
            "tensor([[ 9,  4,  4,  5,  5, 10,  8],\n",
            "        [10,  3, 10,  9,  8,  7,  5],\n",
            "        [ 4,  8,  3,  6, 10,  3,  1],\n",
            "        [ 6,  5,  4, 10,  8,  5,  8]])\n"
          ]
        }
      ],
      "source": [
        "t1 = torch.randint(0, 11, (4, 7))\n",
        "t2 = torch.randint(0, 11, (4, 7))\n",
        "print(t1)\n",
        "print(t2)\n",
        "result = torch.max(t1, t2)\n",
        "\n",
        "print(result)"
      ]
    },
    {
      "cell_type": "markdown",
      "metadata": {
        "id": "x6zmMhyKBPWQ"
      },
      "source": [
        "1.1.7 Создать тензор из 20 случайных целых чисел от 0 до 100. Получить второе сверху значение в тензоре. Определить индекс этого значения."
      ]
    },
    {
      "cell_type": "code",
      "execution_count": null,
      "metadata": {
        "id": "zMu-5jKem2gS",
        "outputId": "86c2a72d-819f-48c0-beba-2482fcd70772"
      },
      "outputs": [
        {
          "name": "stdout",
          "output_type": "stream",
          "text": [
            "Тензор: tensor([56, 85, 75, 76, 30, 81, 75,  3, 27, 15, 94, 98, 47,  7, 95, 12, 92,  0,\n",
            "         9, 28])\n",
            "Отсортированный тензор: tensor([98, 95, 94, 92, 85, 81, 76, 75, 75, 56, 47, 30, 28, 27, 15, 12,  9,  7,\n",
            "         3,  0])\n",
            "Второе сверху значение: tensor(95)\n",
            "Индекс элементов с вторым сверху значением: tensor(14)\n"
          ]
        }
      ],
      "source": [
        "random_tensor = torch.randint(0, 101, (20,))\n",
        "\n",
        "sorted_tensor, ind = torch.sort(random_tensor, descending=True)\n",
        "\n",
        "second_highest_value = sorted_tensor[1]\n",
        "\n",
        "print(\"Тензор:\", random_tensor)\n",
        "print(\"Отсортированный тензор:\", sorted_tensor)\n",
        "print(\"Второе сверху значение:\", second_highest_value)\n",
        "print(\"Индекс элементов с вторым сверху значением:\", ind[1])"
      ]
    },
    {
      "cell_type": "markdown",
      "metadata": {
        "id": "Xshsy8fD1RDE"
      },
      "source": [
        "## 1.2 Распространение"
      ]
    },
    {
      "cell_type": "markdown",
      "metadata": {
        "id": "jlP22HAJCo28"
      },
      "source": [
        "[Numpy broadcasting](https://numpy.org/devdocs/user/theory.broadcasting.html)\n",
        "\n",
        "[Torch broadcasting](https://pytorch.org/docs/stable/notes/broadcasting.html)"
      ]
    },
    {
      "cell_type": "markdown",
      "metadata": {
        "id": "uRD6-8Gd1RDF"
      },
      "source": [
        "1.2.1 Создать тензор 11x7 вида: `[[1, 2, 3, ..., 7], [11, 12, 13, ..., 17], [21, 22, 23, ..., 27], ..., [101, 102, 103, ..., 107]]`. При решении задачи применить технику распространения."
      ]
    },
    {
      "cell_type": "code",
      "execution_count": null,
      "metadata": {
        "id": "UKNt7yj6m2gT",
        "outputId": "ccba1de7-169a-4d12-c884-fd73cb014154"
      },
      "outputs": [
        {
          "data": {
            "text/plain": [
              "tensor([[  1,   2,   3,   4,   5,   6,   7],\n",
              "        [ 11,  12,  13,  14,  15,  16,  17],\n",
              "        [ 21,  22,  23,  24,  25,  26,  27],\n",
              "        [ 31,  32,  33,  34,  35,  36,  37],\n",
              "        [ 41,  42,  43,  44,  45,  46,  47],\n",
              "        [ 51,  52,  53,  54,  55,  56,  57],\n",
              "        [ 61,  62,  63,  64,  65,  66,  67],\n",
              "        [ 71,  72,  73,  74,  75,  76,  77],\n",
              "        [ 81,  82,  83,  84,  85,  86,  87],\n",
              "        [ 91,  92,  93,  94,  95,  96,  97],\n",
              "        [101, 102, 103, 104, 105, 106, 107]])"
            ]
          },
          "execution_count": 13,
          "metadata": {},
          "output_type": "execute_result"
        }
      ],
      "source": [
        "tensor = torch.arange(1, 102, 10).unsqueeze(1) + torch.arange(0, 7)\n",
        "tensor"
      ]
    },
    {
      "cell_type": "markdown",
      "metadata": {
        "id": "iSY9Iday1RDF"
      },
      "source": [
        "1.2.2 Вычесть одномерный тензор `b_1d` из двухмерного тензора `a_2d`, так, чтобы каждый элемент одномерного тензора вычитался из всех элементов соответствующих строк двумерного тензора.\n",
        "\n",
        "_Пример:_\n",
        "\n",
        "Для входа:\n",
        "```python\n",
        "a_2d = np.array([[3,3,3],[4,4,4],[5,5,5]])\n",
        "b_1d = np.array([1,2,3])\n",
        "```\n",
        "\n",
        "Ожидается резульат:\n",
        "\n",
        "```python\n",
        "[[2 2 2]\n",
        " [2 2 2]\n",
        " [2 2 2]]\n",
        "```"
      ]
    },
    {
      "cell_type": "code",
      "execution_count": null,
      "metadata": {
        "id": "dLzt_oRNm2gU",
        "outputId": "a9aeba2e-9f9b-4eba-fc75-29c81c7a3fd0"
      },
      "outputs": [
        {
          "name": "stdout",
          "output_type": "stream",
          "text": [
            "tensor([[2, 2, 2],\n",
            "        [2, 2, 2],\n",
            "        [2, 2, 2]])\n"
          ]
        }
      ],
      "source": [
        "a_2d = torch.tensor([[3, 3, 3], [4, 4, 4], [5, 5, 5]])\n",
        "b_1d = torch.tensor([1, 2, 3])\n",
        "\n",
        "result = a_2d - b_1d.view(3, 1)\n",
        "\n",
        "print(result)"
      ]
    },
    {
      "cell_type": "markdown",
      "metadata": {
        "id": "dFTvPsY91RDF"
      },
      "source": [
        "## 1.3 Индексы, маскирование и прихотливое индексирование\n",
        "\n",
        "[Документация по функциям для работы с индексами](https://pytorch.org/docs/stable/torch.html#indexing-slicing-joining-mutating-ops)"
      ]
    },
    {
      "cell_type": "markdown",
      "metadata": {
        "id": "McYtDYhH1RDG"
      },
      "source": [
        "1.3.1 Получить индексы, для которых элементы тензоров `a` и `b` совпадают.\n",
        "\n",
        "_Пример:_\n",
        "\n",
        "Для входа:\n",
        "```python\n",
        "a = np.array([1,2,3,2,3,4,3,4,5,6])\n",
        "b = np.array([7,2,10,2,7,4,9,4,9,8])\n",
        "```\n",
        "\n",
        "Ожидается резульат:\n",
        "\n",
        "```python\n",
        "array([1, 3, 5, 7])\n",
        "```"
      ]
    },
    {
      "cell_type": "code",
      "execution_count": null,
      "metadata": {
        "id": "a7ESEvfDm2gU",
        "outputId": "15ac806b-ac2b-4603-d7c9-c2fdbfe7d190"
      },
      "outputs": [
        {
          "name": "stdout",
          "output_type": "stream",
          "text": [
            "tensor([3, 0, 3, 6, 1, 5, 2, 3, 0, 0]) tensor([0, 4, 4, 2, 5, 3, 0, 5, 0, 2])\n"
          ]
        },
        {
          "data": {
            "text/plain": [
              "tensor([8])"
            ]
          },
          "execution_count": 15,
          "metadata": {},
          "output_type": "execute_result"
        }
      ],
      "source": [
        "a = torch.randint(0, 7, (10,))\n",
        "b = torch.randint(0, 7, (10,))\n",
        "print(a, b)\n",
        "torch.where(a==b)[0]"
      ]
    },
    {
      "cell_type": "markdown",
      "metadata": {
        "id": "MnBq3nfy1RDG"
      },
      "source": [
        "1.3.2 Инвертировать порядок элементов в двумерном тензоре `torch.arange(9).view(3,3)`.\n",
        "\n",
        "Ожидаемый результат:\n",
        "\n",
        "\n",
        "```python\n",
        "array([[8, 7, 6],\n",
        "       [5, 4, 3],\n",
        "       [2, 1, 0]])\n",
        "```"
      ]
    },
    {
      "cell_type": "code",
      "execution_count": null,
      "metadata": {
        "id": "vtplnMtIm2gV",
        "outputId": "fffb77df-635f-4ad6-f5a8-4080870ab54a"
      },
      "outputs": [
        {
          "data": {
            "text/plain": [
              "tensor([[8, 7, 6],\n",
              "        [5, 4, 3],\n",
              "        [2, 1, 0]])"
            ]
          },
          "execution_count": 16,
          "metadata": {},
          "output_type": "execute_result"
        }
      ],
      "source": [
        "tensor = torch.arange(9).view(3,3)\n",
        "tensor.flip(1).flip(0)"
      ]
    },
    {
      "cell_type": "markdown",
      "metadata": {
        "id": "tANsLnOC1RDH"
      },
      "source": [
        "1.3.3 Из входного тензора a получить только элементы, находящиеся в диапазоне от 5 до 10.\n",
        "\n",
        "_Пример:_\n",
        "\n",
        "Для входа:\n",
        "```python\n",
        "a = np.array([2, 6, 1, 9, 10, 3, 27])\n",
        "```\n",
        "\n",
        "Ожидается резульат:\n",
        "\n",
        "```python\n",
        "array([6, 9, 10])\n",
        "```"
      ]
    },
    {
      "cell_type": "code",
      "execution_count": null,
      "metadata": {
        "id": "mhSyXBcPm2gV",
        "outputId": "15974bbb-d1bf-4939-8aca-b890748e701e"
      },
      "outputs": [
        {
          "name": "stdout",
          "output_type": "stream",
          "text": [
            "tensor([ 4, 11, 12, 14,  9, 14, 10, 12, 10,  0])\n"
          ]
        },
        {
          "data": {
            "text/plain": [
              "tensor([ 9, 10, 10])"
            ]
          },
          "execution_count": 17,
          "metadata": {},
          "output_type": "execute_result"
        }
      ],
      "source": [
        "tensor = torch.randint(0, 15, (10, ))\n",
        "print(tensor)\n",
        "tensor[(tensor>=5) & (tensor<=10)]"
      ]
    },
    {
      "cell_type": "markdown",
      "metadata": {
        "id": "3vlK0gV21RDH"
      },
      "source": [
        "1.3.4 Поменять местами столбец 1 и 2 тензора `np.arange(9).reshape(3,3)`"
      ]
    },
    {
      "cell_type": "code",
      "execution_count": null,
      "metadata": {
        "id": "ETNOO5Wlm2gV",
        "outputId": "48a76185-376b-4e8d-ac4f-f1819080d198"
      },
      "outputs": [
        {
          "name": "stdout",
          "output_type": "stream",
          "text": [
            "tensor([[0, 1, 2],\n",
            "        [3, 4, 5],\n",
            "        [6, 7, 8]])\n",
            "tensor([[1, 0, 2],\n",
            "        [4, 3, 5],\n",
            "        [7, 6, 8]])\n"
          ]
        }
      ],
      "source": [
        "tensor = torch.arange(9).reshape(3,3)\n",
        "print(tensor)\n",
        "tensor = tensor[:, [1, 0, 2]]\n",
        "\n",
        "print(tensor)"
      ]
    },
    {
      "cell_type": "markdown",
      "metadata": {
        "id": "cheFtWhU1RDH"
      },
      "source": [
        "1.3.5 Создать тензор 8 на 10 из случайных целых чисел из диапазона от 0 до 10 и найти в ней строку (ее индекс и вывести саму строку), в которой сумма значений минимальна."
      ]
    },
    {
      "cell_type": "code",
      "execution_count": null,
      "metadata": {
        "id": "yNULlF1zm2gW",
        "outputId": "fbebef76-9eb7-4bd6-a072-5fdde4acbd29"
      },
      "outputs": [
        {
          "name": "stdout",
          "output_type": "stream",
          "text": [
            "tensor([[ 8,  2,  3,  0,  7,  9,  4,  4, 10, 10],\n",
            "        [10,  4,  3,  3,  2,  9,  8,  2,  9,  8],\n",
            "        [ 1,  4,  8,  4,  1,  4,  7,  9,  0,  8],\n",
            "        [ 9,  1, 10,  0,  7,  5,  3,  6,  3,  2],\n",
            "        [ 0, 10,  7,  5,  8,  5,  1,  4, 10,  0],\n",
            "        [ 9,  8,  5, 10,  5,  9,  8,  8,  9,  0],\n",
            "        [10,  1,  3,  7,  1,  8,  4,  5,  9,  4],\n",
            "        [ 3,  0,  6,  4,  2,  0,  5,  7,  9,  1]])\n",
            "Сумма элементов в каждой строке: tensor([57, 58, 46, 46, 50, 71, 52, 37])\n",
            "Индекс строки с минимальной суммой: 7\n",
            "tensor([3, 0, 6, 4, 2, 0, 5, 7, 9, 1])\n"
          ]
        }
      ],
      "source": [
        "tensor = torch.randint(0, 11, (8, 10))\n",
        "print(tensor)\n",
        "sum_row = tensor.sum(dim=1)\n",
        "print('Сумма элементов в каждой строке:', sum_row)\n",
        "ind = sum_row.argmin()\n",
        "print('Индекс строки с минимальной суммой:', ind.item())\n",
        "print(tensor[ind])"
      ]
    },
    {
      "cell_type": "markdown",
      "metadata": {
        "id": "grOCNU4XFE2B"
      },
      "source": [
        "1.3.6 Cоздать тензор из 20 случайных целых чисел от 0 до 100. Обрезать значения тензора (заменить значения, выходящие за диапазон, на крайние значения) снизу по значению 30, сверху по значению 70."
      ]
    },
    {
      "cell_type": "code",
      "execution_count": null,
      "metadata": {
        "id": "TObhVzgDm2ge",
        "outputId": "d5af650f-b697-4ec5-b658-185dee84b5d6"
      },
      "outputs": [
        {
          "name": "stdout",
          "output_type": "stream",
          "text": [
            "tensor([93,  6, 83, 61, 62, 87,  7, 17, 55, 17, 99, 12, 75, 60,  5, 46, 71, 40,\n",
            "        16, 37])\n"
          ]
        },
        {
          "data": {
            "text/plain": [
              "tensor([70, 30, 70, 61, 62, 70, 30, 30, 55, 30, 70, 30, 70, 60, 30, 46, 70, 40,\n",
              "        30, 37])"
            ]
          },
          "execution_count": 20,
          "metadata": {},
          "output_type": "execute_result"
        }
      ],
      "source": [
        "tensor = torch.randint(0, 101, (20, ))\n",
        "print(tensor)\n",
        "tensor = torch.clamp(tensor, min=30, max=70)\n",
        "tensor"
      ]
    },
    {
      "cell_type": "markdown",
      "metadata": {
        "id": "HNfQjY8P1RDI"
      },
      "source": [
        "1.3.7 Создать два тензора размера 30 на 3 из случайных целых чисел из диапазона от 0 до 10 и найти все значения первого тензора, которые больше соответсвующих (по расположению) значений второго тензора. Подсчитать сумму этих значений."
      ]
    },
    {
      "cell_type": "code",
      "execution_count": null,
      "metadata": {
        "id": "PVOQkMoJm2gf",
        "outputId": "34148425-2d12-46f3-f813-910c9353daca"
      },
      "outputs": [
        {
          "name": "stdout",
          "output_type": "stream",
          "text": [
            "tensor([10,  8,  6,  9,  8,  9,  3,  9,  5,  7,  6,  7,  9,  9,  9, 10,  9,  9,\n",
            "         8,  8,  7, 10, 10, 10,  4,  3,  4,  6,  6,  7, 10, 10,  9, 10,  7,  4,\n",
            "         8, 10,  5,  8,  8,  7,  7,  4,  8,  7,  7,  3, 10])\n"
          ]
        },
        {
          "data": {
            "text/plain": [
              "367"
            ]
          },
          "execution_count": 21,
          "metadata": {},
          "output_type": "execute_result"
        }
      ],
      "source": [
        "t1 = torch.randint(0, 11, (30, 3))\n",
        "t2 = torch.randint(0, 11, (30, 3))\n",
        "val = t1[t1>t2]\n",
        "print(val)\n",
        "sum(val).item()"
      ]
    },
    {
      "cell_type": "markdown",
      "metadata": {
        "id": "doBCxYJA1RDI"
      },
      "source": [
        "1.3.8 При помощи прихотливого индексирования для двухмерного массива размерности (20, 20), состоящего из случайных целых чисел в пределах от 0 до 10 получить массив элементов находящихся на диагонали, проходящей над основной диагональю."
      ]
    },
    {
      "cell_type": "code",
      "execution_count": null,
      "metadata": {
        "id": "pi-gIZvQm2gg",
        "outputId": "789298da-9ebe-48a5-f7f7-21cf96856e76"
      },
      "outputs": [
        {
          "data": {
            "text/plain": [
              "tensor([ 4,  5,  6,  8,  4,  0,  5,  3,  8,  2, 10,  2,  2,  7,  3,  5,  6,  9,\n",
              "         8])"
            ]
          },
          "execution_count": 22,
          "metadata": {},
          "output_type": "execute_result"
        }
      ],
      "source": [
        "tensor = torch.randint(0, 11, (20, 20))\n",
        "row = torch.arange(0, 19)\n",
        "col = torch.arange(1, 20)\n",
        "# print(tensor)\n",
        "diag = tensor[row, col]\n",
        "diag"
      ]
    },
    {
      "cell_type": "markdown",
      "metadata": {
        "id": "6M1lkfLp1RDJ"
      },
      "source": [
        "1.3.9 Задать два двухмерных тензора `ar1` и `ar2` размерности (5, 10), состоящих из случайных целых чисел в пределах от 0 до 10. Удвоить все значения `ar1`, которые совпадают со значениями `ar2`, расположенными на аналогичных позициях."
      ]
    },
    {
      "cell_type": "code",
      "execution_count": null,
      "metadata": {
        "id": "lHL8YRMCm2gh",
        "outputId": "64af7ea3-7f0d-43f5-9074-a52ec0d2ccb8"
      },
      "outputs": [
        {
          "name": "stdout",
          "output_type": "stream",
          "text": [
            "tensor([[ 3,  2,  1,  2,  6,  0,  7,  2,  3,  4],\n",
            "        [ 5,  5,  7, 10, 10,  6,  5,  6,  8,  5],\n",
            "        [ 7,  2,  8,  8,  2,  5,  6,  1,  9,  5],\n",
            "        [ 7,  7,  9,  8, 10,  7,  4,  0,  7,  6],\n",
            "        [ 7,  3, 10,  0,  7,  7, 10,  2,  5,  9]])\n",
            "tensor([[ 5,  8,  3,  5,  4,  6,  4,  3, 10,  8],\n",
            "        [ 1, 10,  5,  7,  2,  7, 10,  5,  7,  1],\n",
            "        [ 4,  0,  6,  8,  4,  8,  4,  5,  5,  1],\n",
            "        [ 5,  1,  2,  7,  8,  1,  2,  3,  7,  0],\n",
            "        [ 1,  7,  2,  9,  1,  8,  1, 10,  8,  0]])\n"
          ]
        },
        {
          "data": {
            "text/plain": [
              "tensor([[ 3,  2,  1,  2,  6,  0,  7,  2,  3,  4],\n",
              "        [ 5,  5,  7, 10, 10,  6,  5,  6,  8,  5],\n",
              "        [ 7,  2,  8, 16,  2,  5,  6,  1,  9,  5],\n",
              "        [ 7,  7,  9,  8, 10,  7,  4,  0, 14,  6],\n",
              "        [ 7,  3, 10,  0,  7,  7, 10,  2,  5,  9]])"
            ]
          },
          "execution_count": 23,
          "metadata": {},
          "output_type": "execute_result"
        }
      ],
      "source": [
        "ar1 = torch.randint(0, 11, (5, 10))\n",
        "ar2 = torch.randint(0, 11, (5, 10))\n",
        "print(ar1)\n",
        "print(ar2)\n",
        "ar1[ar1==ar2] *= 2\n",
        "ar1"
      ]
    },
    {
      "cell_type": "markdown",
      "metadata": {
        "id": "Qe2oVr4p1RDJ"
      },
      "source": [
        "1.3.10 Заданы три двухмерных тензора `ar1`, `ar2` и `ar3` размерности (4, 7), состоящие из случайных целых чисел в пределах от 0 до 10. Обнулить все элементы `ar1`, которые больше соответствующих (находящихся в соответствующих позициях) элементов `ar2` и меньше соответствующих элементов `ar3`."
      ]
    },
    {
      "cell_type": "code",
      "execution_count": null,
      "metadata": {
        "id": "5BUq9yL1m2gh",
        "outputId": "b3ea6ceb-2a6a-478d-841a-27c9ad36ec96"
      },
      "outputs": [
        {
          "name": "stdout",
          "output_type": "stream",
          "text": [
            "tensor([[ 2,  9,  5,  3, 10,  8,  4],\n",
            "        [ 5,  0,  6, 10,  2,  3,  0],\n",
            "        [ 4,  2,  5,  8,  3,  5,  3],\n",
            "        [ 4,  2,  5,  8, 10,  9, 10]])\n",
            "tensor([[10,  2,  1, 10,  9,  1,  1],\n",
            "        [ 5,  2, 10, 10,  1,  6,  8],\n",
            "        [ 7,  2,  7,  6,  4,  2,  0],\n",
            "        [ 2,  7,  4,  4,  3,  9,  4]])\n",
            "tensor([[ 2,  7,  2,  8,  0,  7,  5],\n",
            "        [ 6,  2, 10,  9,  0,  1,  9],\n",
            "        [ 4,  6,  9,  3,  8,  9,  5],\n",
            "        [ 0,  1,  2,  2,  0,  0,  7]])\n"
          ]
        },
        {
          "data": {
            "text/plain": [
              "tensor([[ 2,  9,  5,  3, 10,  8,  0],\n",
              "        [ 5,  0,  6, 10,  2,  3,  0],\n",
              "        [ 4,  2,  5,  8,  3,  0,  0],\n",
              "        [ 4,  2,  5,  8, 10,  9, 10]])"
            ]
          },
          "execution_count": 24,
          "metadata": {},
          "output_type": "execute_result"
        }
      ],
      "source": [
        "ar1 = torch.randint(0, 11, (4, 7))\n",
        "ar2 = torch.randint(0, 11, (4, 7))\n",
        "ar3 = torch.randint(0, 11, (4, 7))\n",
        "print(ar1)\n",
        "print(ar2)\n",
        "print(ar3)\n",
        "ar1[(ar1>ar2) & (ar1<ar3)] = 0\n",
        "ar1"
      ]
    },
    {
      "cell_type": "markdown",
      "metadata": {
        "id": "BTcRVeYh1RDK"
      },
      "source": [
        "1.3.11 Задан двумерный тензор `ar1` размерности (20, 5), состоящий из случайных целых чисел в пределах от 0 до 20. Определить, в каких столбцах не менее 5 раз встречается значение, максимальное по своей строке."
      ]
    },
    {
      "cell_type": "code",
      "execution_count": null,
      "metadata": {
        "id": "4pEfS3Oum2gi",
        "outputId": "36ec33b5-f4dc-414e-a872-32a3dd474f24"
      },
      "outputs": [
        {
          "name": "stdout",
          "output_type": "stream",
          "text": [
            "tensor([[ 6, 11,  7, 17,  8],\n",
            "        [13,  5,  7, 20, 12],\n",
            "        [12, 12, 10, 18,  7],\n",
            "        [10, 10,  2,  9, 18],\n",
            "        [ 7, 18,  0,  5,  8],\n",
            "        [11, 20,  4,  6, 11],\n",
            "        [14,  4, 19, 13,  5],\n",
            "        [ 1, 14, 18,  5, 11],\n",
            "        [ 2, 10,  3, 19, 18],\n",
            "        [10, 20,  6, 18, 14],\n",
            "        [15,  7,  0,  1, 15],\n",
            "        [19, 17,  8,  9,  0],\n",
            "        [18,  8,  9, 18,  8],\n",
            "        [16, 12,  7,  9,  8],\n",
            "        [13,  1,  5, 19,  0],\n",
            "        [ 5, 14, 11,  7, 12],\n",
            "        [18, 14, 13, 10,  5],\n",
            "        [ 6, 17, 14, 20, 18],\n",
            "        [18,  3, 11, 13, 17],\n",
            "        [ 3,  1, 14, 18,  8]])\n",
            "Столбцы, в которых максимальное значение встречается не менее 5 раз: [0, 3]\n"
          ]
        }
      ],
      "source": [
        "\n",
        "ar1 = torch.randint(0, 21, (20, 5))\n",
        "print(ar1)\n",
        "max_values, max_indices = torch.max(ar1, dim=1)\n",
        "\n",
        "# print(max_values.view(-1, 1))\n",
        "# Создаем маску, которая указывает, в каких столбцах максимальное значение встречается не менее 5 раз\n",
        "mask = torch.sum(ar1 == max_values.view(-1, 1), dim=0) >= 5\n",
        "\n",
        "# Получаем индексы столбцов, где условие выполняется\n",
        "columns_with_condition_met = torch.nonzero(mask).squeeze().tolist()\n",
        "\n",
        "print(\"Столбцы, в которых максимальное значение встречается не менее 5 раз:\", columns_with_condition_met)\n"
      ]
    },
    {
      "cell_type": "markdown",
      "metadata": {
        "id": "ZeYlNWNE1RDK"
      },
      "source": [
        "1.3.12 Задан двумерный тензор `ar1` размерности (4, 7), состоящий из случайных  чисел в пределах от 0 до 1. Обнулить все значения в массиве, расположенные строго правее и ниже максимального элемента массива."
      ]
    },
    {
      "cell_type": "code",
      "execution_count": null,
      "metadata": {
        "id": "CCk0oEBhm2gj",
        "outputId": "ba5ae15f-625f-42b9-e281-5e28272e8b49"
      },
      "outputs": [
        {
          "name": "stdout",
          "output_type": "stream",
          "text": [
            "tensor([[0.0471, 0.6598, 0.7108, 0.1684, 0.3774, 0.6696, 0.6458],\n",
            "        [0.5996, 0.6527, 0.9410, 0.3968, 0.2812, 0.4318, 0.0055],\n",
            "        [0.7555, 0.9402, 0.0920, 0.5265, 0.9625, 0.2357, 0.1120],\n",
            "        [0.4104, 0.4305, 0.5332, 0.8102, 0.1490, 0.2012, 0.4725]])\n",
            "Координаты макс числа: [2, 4]\n",
            "tensor([[0.0471, 0.6598, 0.7108, 0.1684, 0.3774, 0.6696, 0.6458],\n",
            "        [0.5996, 0.6527, 0.9410, 0.3968, 0.2812, 0.4318, 0.0055],\n",
            "        [0.7555, 0.9402, 0.0920, 0.5265, 0.9625, 0.0000, 0.0000],\n",
            "        [0.4104, 0.4305, 0.5332, 0.8102, 0.0000, 0.0000, 0.0000]])\n"
          ]
        }
      ],
      "source": [
        "ar1 = torch.rand(4, 7)\n",
        "print(ar1)\n",
        "max_ind= torch.argmax(ar1)\n",
        "max_coords = [(max_ind // ar1.shape[1]).tolist(), (max_ind % ar1.shape[1]).tolist()]\n",
        "print('Координаты макс числа:', max_coords)\n",
        "ar1[max_coords[0]:, max_coords[1]+1:] = 0\n",
        "ar1[max_coords[0]+1:, max_coords[1]] = 0\n",
        "print(ar1)"
      ]
    },
    {
      "cell_type": "markdown",
      "metadata": {
        "id": "pYxX90B11RDL"
      },
      "source": [
        "1.3.13 Построить \"one-hot encoding\" для одномерного тензора, содержащего целые числа (длина вектора заранее неизвестна, набор значений заранее неизвестен, при этом в итоговой матрице должны присутствовать столбцы для всех натуральных чисел вплоть до максимального встречающегося в исходном массиве).\n",
        "\n",
        "Пример:\n",
        "\n",
        "для тензора `torch.tensor([2, 3, 2, 2, 2, 1])`.\n",
        "\n",
        "Ожидается результат:\n",
        "\n",
        "```python\n",
        "tensor([[0., 1., 0.],\n",
        "        [0., 0., 1.],\n",
        "        [0., 1., 0.],\n",
        "        [0., 1., 0.],\n",
        "        [0., 1., 0.],\n",
        "        [1., 0., 0.]])\n",
        "```"
      ]
    },
    {
      "cell_type": "code",
      "execution_count": null,
      "metadata": {
        "id": "JAXTK8kRm2gj",
        "outputId": "34e777d3-6a2c-4947-b15b-05fbdd31d9ca"
      },
      "outputs": [
        {
          "name": "stdout",
          "output_type": "stream",
          "text": [
            "tensor([0, 1, 3, 3, 3])\n"
          ]
        },
        {
          "data": {
            "text/plain": [
              "tensor([[1., 0., 0.],\n",
              "        [0., 1., 0.],\n",
              "        [0., 0., 1.],\n",
              "        [0., 0., 1.],\n",
              "        [0., 0., 1.]])"
            ]
          },
          "execution_count": 27,
          "metadata": {},
          "output_type": "execute_result"
        }
      ],
      "source": [
        "tensor = torch.randint(0, 4, (5,))\n",
        "print(tensor)\n",
        "num_classes = tensor.unique().size()[0]\n",
        "\n",
        "ohe_tensor = torch.zeros(tensor.size()[0], tensor.unique().size()[0])\n",
        "for i, element in enumerate(tensor.unique()):\n",
        "    ohe_tensor[:, i] = torch.where(tensor == element, 1, 0)\n",
        "ohe_tensor"
      ]
    },
    {
      "cell_type": "markdown",
      "metadata": {
        "id": "GYU8DmNTDLN8"
      },
      "source": [
        "1.3.14 Создать тензор `arr` из 20 случайных целых чисел от 0 до 100. Найти самое частое значение в тензоре.\n",
        "Найти индексы в тензоре, соответствующие самому частому значению. Проверить, как работет алгоритм при двух значениях, имеющих наибольшую встречаемость, предложить приемлемое поведение алгоритма для этого случая."
      ]
    },
    {
      "cell_type": "code",
      "execution_count": null,
      "metadata": {
        "id": "95-VQUmXm2gk",
        "outputId": "921c6042-66b6-4a3d-efdb-62148a1f44d2"
      },
      "outputs": [
        {
          "name": "stdout",
          "output_type": "stream",
          "text": [
            "tensor([73, 92, 10, 43, 65,  9, 81, 22, 25, 75, 45, 47, 27, 84, 99, 95, 98, 47,\n",
            "        74, 57])\n",
            "47\n"
          ]
        },
        {
          "data": {
            "text/plain": [
              "tensor([11, 17])"
            ]
          },
          "execution_count": 28,
          "metadata": {},
          "output_type": "execute_result"
        }
      ],
      "source": [
        "arr = torch.randint(0, 101, (20, ))\n",
        "print(arr)\n",
        "most_common_value = arr.mode().values.item()\n",
        "print(most_common_value)\n",
        "torch.nonzero(arr == most_common_value).squeeze()"
      ]
    },
    {
      "cell_type": "markdown",
      "metadata": {
        "id": "UenAEfEG1RDN"
      },
      "source": [
        "## 1.4 Математические задачи"
      ]
    },
    {
      "cell_type": "markdown",
      "metadata": {
        "id": "6weDrqJR1RDN"
      },
      "source": [
        "1.4.1 Приблизительно (с погрешностью порядка 1%) рассчитать на какой части интервала от 0 до 10 значение функции x * sin(x) больше 0.5."
      ]
    },
    {
      "cell_type": "code",
      "execution_count": null,
      "metadata": {
        "id": "cj6wZKMnm2gk",
        "outputId": "1ca73c52-6eed-4dd4-8a21-78427ed69372"
      },
      "outputs": [
        {
          "data": {
            "text/plain": [
              "0.5241"
            ]
          },
          "execution_count": 29,
          "metadata": {},
          "output_type": "execute_result"
        }
      ],
      "source": [
        "import math\n",
        "\n",
        "x = torch.linspace(0, 10, 10000)\n",
        "\n",
        "y = x * torch.sin(x)\n",
        "\n",
        "count = torch.sum(y > 0.5).item()\n",
        "fraction = count / len(x)\n",
        "fraction"
      ]
    },
    {
      "cell_type": "markdown",
      "metadata": {
        "id": "B9xAv8TR1RDN"
      },
      "source": [
        "1.4.2 Найти все простые числа в пределах ста. (Для решения предлагается использовать Решето Эратосфена) Использовать не более 1 цикла (желательно)."
      ]
    },
    {
      "cell_type": "code",
      "execution_count": null,
      "metadata": {
        "id": "eAfEemBLm2gl",
        "outputId": "5f49058f-89eb-4dea-dc21-aaf2f7673ae2"
      },
      "outputs": [
        {
          "name": "stdout",
          "output_type": "stream",
          "text": [
            "Простые числа в пределах ста: [2, 3, 5, 7, 11, 13, 17, 19, 23, 29, 31, 37, 41, 43, 47, 53, 59, 61, 67, 71, 73, 79, 83, 89, 97]\n"
          ]
        }
      ],
      "source": [
        "max_number = 100\n",
        "\n",
        "is_prime = torch.ones(max_number + 1, dtype=torch.bool)\n",
        "\n",
        "is_prime[0:2] = False\n",
        "\n",
        "current_prime = 2\n",
        "\n",
        "while current_prime * current_prime <= max_number:\n",
        "    if is_prime[current_prime]:\n",
        "        is_prime[current_prime * current_prime::current_prime] = False\n",
        "    current_prime += 1\n",
        "\n",
        "prime_numbers = torch.nonzero(is_prime).squeeze().tolist()\n",
        "\n",
        "print(\"Простые числа в пределах ста:\", prime_numbers)"
      ]
    },
    {
      "cell_type": "markdown",
      "metadata": {
        "id": "AHupFoTR1RDN"
      },
      "source": [
        "1.4.3 Найти евклидово расстояние между двумя одномерными тензорами одинаковой размерности, не используя готовые решения из библиотек."
      ]
    },
    {
      "cell_type": "code",
      "execution_count": null,
      "metadata": {
        "id": "6o0nYB1Qm2gl",
        "outputId": "0211f247-e91c-4788-d59f-a61d359e062a"
      },
      "outputs": [
        {
          "data": {
            "text/plain": [
              "5.196152210235596"
            ]
          },
          "execution_count": 31,
          "metadata": {},
          "output_type": "execute_result"
        }
      ],
      "source": [
        "tensor1 = torch.tensor([0, 0, 0])\n",
        "tensor2 = torch.tensor([3, 3, 3])\n",
        "\n",
        "euc_distance = torch.sqrt(torch.sum(torch.square(tensor1 - tensor2)))\n",
        "euc_distance.item()"
      ]
    },
    {
      "cell_type": "markdown",
      "metadata": {
        "id": "j-ZvjWDKDVMQ"
      },
      "source": [
        "1.4.4 Создать двумерный тензор 20 на 3, содержащий случайные целые числа от 0 до 100.\n",
        "Интерпретируя тензор как 20 векторов из 3х компонент, отсортировать его по длине векторов."
      ]
    },
    {
      "cell_type": "code",
      "execution_count": null,
      "metadata": {
        "id": "Sow1fINim2gl",
        "outputId": "4ab56fea-cd03-4480-f090-794c82ab0405"
      },
      "outputs": [
        {
          "name": "stdout",
          "output_type": "stream",
          "text": [
            "tensor([[ 48,  38,   9],\n",
            "        [ 93,   9,  89],\n",
            "        [ 26,  37,  11],\n",
            "        [ 25,  80,  11],\n",
            "        [ 59,  33,  75],\n",
            "        [ 53,  47,   8],\n",
            "        [ 22,  32,  90],\n",
            "        [ 10,  23,  54],\n",
            "        [ 68,  50,   9],\n",
            "        [ 41,  85,  11],\n",
            "        [  8,  49,  47],\n",
            "        [100,   3,  22],\n",
            "        [ 11,   5,  68],\n",
            "        [ 89,   7,  58],\n",
            "        [ 24,  89,  13],\n",
            "        [ 70,  15,   2],\n",
            "        [ 18,  20,  49],\n",
            "        [ 63,   5,  34],\n",
            "        [ 63,  12, 100],\n",
            "        [ 82,  89,  68]])\n",
            "Отсортированный тензор по длине векторов:\n",
            " tensor([[ 26,  37,  11],\n",
            "        [ 18,  20,  49],\n",
            "        [ 10,  23,  54],\n",
            "        [ 48,  38,   9],\n",
            "        [  8,  49,  47],\n",
            "        [ 11,   5,  68],\n",
            "        [ 53,  47,   8],\n",
            "        [ 70,  15,   2],\n",
            "        [ 63,   5,  34],\n",
            "        [ 25,  80,  11],\n",
            "        [ 68,  50,   9],\n",
            "        [ 24,  89,  13],\n",
            "        [ 41,  85,  11],\n",
            "        [ 22,  32,  90],\n",
            "        [ 59,  33,  75],\n",
            "        [100,   3,  22],\n",
            "        [ 89,   7,  58],\n",
            "        [ 63,  12, 100],\n",
            "        [ 93,   9,  89],\n",
            "        [ 82,  89,  68]])\n"
          ]
        }
      ],
      "source": [
        "tensor = torch.randint(0, 101, (20, 3))\n",
        "\n",
        "print(tensor)\n",
        "vector_lengths = torch.norm(tensor.to(torch.float64), dim=1)\n",
        "sorted_indices = torch.argsort(vector_lengths)\n",
        "\n",
        "sorted_tensor = tensor[sorted_indices]\n",
        "\n",
        "print(\"Отсортированный тензор по длине векторов:\\n\", sorted_tensor)"
      ]
    },
    {
      "cell_type": "markdown",
      "metadata": {
        "id": "IkBRFTKa1RDO"
      },
      "source": [
        "1.4.5 Найти \"локальные максимумы\" в одномерном тензоре (т.е. значения, большие предыдущего и последующего) `torch.tensor([1, 3, 7, 1, 2, 6, 0, 1])` и вывести их индексы."
      ]
    },
    {
      "cell_type": "code",
      "execution_count": null,
      "metadata": {
        "id": "tuhb_cJqm2gm",
        "outputId": "c9cf6a35-1932-49fb-cd51-fff4cdca53f4"
      },
      "outputs": [
        {
          "data": {
            "text/plain": [
              "tensor([2, 5])"
            ]
          },
          "execution_count": 33,
          "metadata": {},
          "output_type": "execute_result"
        }
      ],
      "source": [
        "tensor = torch.tensor([1, 3, 7, 1, 2, 6, 0, 1])\n",
        "\n",
        "local_max_indices = (tensor > torch.cat((tensor[:1], tensor[:-1]))) & (tensor > torch.cat((tensor[1:], tensor[-1:])))\n",
        "torch.nonzero(local_max_indices).squeeze()"
      ]
    },
    {
      "cell_type": "markdown",
      "metadata": {
        "id": "VXD58rlc1RDP"
      },
      "source": [
        "1.4.6 Задан произвольный массив numpy (например массив из 100 случайных числе от 0 до 1). Необходимо найти в нем число наиболее близкое к заданному."
      ]
    },
    {
      "cell_type": "code",
      "execution_count": null,
      "metadata": {
        "id": "VihydVIcm2gm",
        "outputId": "e0cd6733-99ec-4723-a5e7-15f2bcbc8abd"
      },
      "outputs": [
        {
          "name": "stdout",
          "output_type": "stream",
          "text": [
            "tensor([0.9377, 0.0183, 0.5965, 0.0968, 0.8238, 0.0727, 0.0953, 0.5258, 0.0603,\n",
            "        0.3697, 0.1285, 0.0479, 0.0076, 0.8157, 0.8678, 0.9132, 0.5215, 0.5340,\n",
            "        0.5199, 0.2772, 0.3989, 0.6399, 0.2950, 0.4100, 0.1255, 0.7963, 0.0583,\n",
            "        0.9118, 0.7411, 0.1939, 0.6435, 0.5313, 0.4829, 0.2161, 0.4617, 0.1470,\n",
            "        0.6883, 0.3319, 0.3831, 0.3991, 0.7669, 0.7089, 0.9850, 0.6398, 0.5387,\n",
            "        0.1609, 0.5247, 0.6422, 0.9384, 0.2688, 0.1154, 0.5261, 0.3984, 0.1402,\n",
            "        0.9204, 0.7553, 0.1843, 0.0552, 0.7319, 0.6616, 0.4554, 0.1785, 0.3558,\n",
            "        0.0631, 0.1442, 0.8434, 0.6744, 0.4646, 0.2520, 0.0547, 0.5388, 0.1827,\n",
            "        0.6442, 0.6789, 0.4148, 0.0595, 0.3182, 0.0590, 0.7263, 0.8291, 0.8408,\n",
            "        0.8884, 0.5651, 0.4479, 0.6144, 0.1716, 0.3990, 0.9960, 0.7940, 0.1317,\n",
            "        0.2384, 0.8779, 0.9306, 0.5166, 0.3805, 0.0800, 0.5944, 0.6377, 0.4518,\n",
            "        0.0760])\n"
          ]
        },
        {
          "data": {
            "text/plain": [
              "0.7552891373634338"
            ]
          },
          "execution_count": 34,
          "metadata": {},
          "output_type": "execute_result"
        }
      ],
      "source": [
        "random_tensor = torch.rand(100)\n",
        "\n",
        "target_number = 0.75\n",
        "print(random_tensor)\n",
        "closest_index = torch.abs(random_tensor - target_number).argmin()\n",
        "closest_value = random_tensor[closest_index]\n",
        "closest_value.item()"
      ]
    },
    {
      "cell_type": "markdown",
      "metadata": {
        "id": "81F_B2ij1RDP"
      },
      "source": [
        "1.4.7 Решить матричное уравнение `A*X*B=-C` - найти матрицу X. Где `A = [[-1, 2, 4], [-3, 1, 2], [-3, 0, 1]]`, `B=[[3, -1], [2, 1]]`, `C=[[7, 21], [11, 8], [8, 4]]`."
      ]
    },
    {
      "cell_type": "code",
      "execution_count": null,
      "metadata": {
        "id": "PuxNeTuom2gn",
        "outputId": "71adc051-1b24-4336-a64d-bd7e99637568"
      },
      "outputs": [
        {
          "name": "stdout",
          "output_type": "stream",
          "text": [
            "tensor([[ 1.0000e+00, -1.1921e-07],\n",
            "        [-2.0000e+00,  1.0000e+00],\n",
            "        [ 3.0000e+00, -4.0000e+00]])\n"
          ]
        }
      ],
      "source": [
        "A = torch.tensor([[-1, 2, 4], [-3, 1, 2], [-3, 0, 1]], dtype=torch.float)\n",
        "B = torch.tensor([[3, -1], [2, 1]], dtype=torch.float)\n",
        "C = torch.tensor([[7, 21], [11, 8], [8, 4]], dtype=torch.float)\n",
        "\n",
        "X = torch.matmul(torch.matmul(torch.inverse(A), -C), torch.inverse(B))\n",
        "print(X)"
      ]
    },
    {
      "cell_type": "markdown",
      "metadata": {
        "id": "1P7O19bj1RDP"
      },
      "source": [
        "1.4.8 Проверить, является ли система векторов a1 = (3; −3; 0; 7),\n",
        "a2 = (2; 2; 4; 7), a3 = (1; 2; 3; 4), a4 = (5; −4; 1; 3) линейно зависимой?"
      ]
    },
    {
      "cell_type": "code",
      "execution_count": null,
      "metadata": {
        "id": "DhtbvKDim2go",
        "outputId": "522ce619-736b-421d-af84-63e58d630051"
      },
      "outputs": [
        {
          "name": "stdout",
          "output_type": "stream",
          "text": [
            "Система векторов линейно зависима.\n"
          ]
        }
      ],
      "source": [
        "a1 = torch.tensor([3, -3, 0, 7], dtype=torch.float)\n",
        "a2 = torch.tensor([2, 2, 4, 7], dtype=torch.float)\n",
        "a3 = torch.tensor([1, 2, 3, 4], dtype=torch.float)\n",
        "a4 = torch.tensor([5, -4, 1, 3], dtype=torch.float)\n",
        "\n",
        "matrix = torch.stack([a1, a2, a3, a4])\n",
        "\n",
        "rank = torch.linalg.matrix_rank(matrix)\n",
        "\n",
        "if rank == matrix.shape[0]:\n",
        "    print(\"Система векторов линейно независима.\")\n",
        "else:\n",
        "    print(\"Система векторов линейно зависима.\")"
      ]
    },
    {
      "cell_type": "markdown",
      "metadata": {
        "id": "Jg_bzMVS1RDQ"
      },
      "source": [
        "1.4.9 Сгенирировать тензор из 200 случайных целых чисел, нормально распрделенных cо стандартным отклонением $\\sigma = 10$ и матожиданием $\\mu = 0$. Построить тензор гистограммы с 20 бинами."
      ]
    },
    {
      "cell_type": "code",
      "execution_count": null,
      "metadata": {
        "id": "sAq7od1Cm2go",
        "outputId": "fd502d19-59f8-46fc-fa9d-75208fd2c102"
      },
      "outputs": [
        {
          "data": {
            "image/png": "[encoded data removed]",
            "text/plain": [
              "<Figure size 640x480 with 1 Axes>"
            ]
          },
          "metadata": {},
          "output_type": "display_data"
        }
      ],
      "source": [
        "import matplotlib.pyplot as plt\n",
        "\n",
        "mu = 0\n",
        "sigma = 10\n",
        "num_samples = 200\n",
        "\n",
        "random_numbers = torch.normal(mu, sigma, size=(num_samples,))\n",
        "\n",
        "plt.hist(random_numbers, bins=20)\n",
        "plt.xlabel('Значение')\n",
        "plt.ylabel('Частота')\n",
        "plt.title('Гистограмма нормального распределения')\n",
        "plt.grid(True)\n",
        "\n",
        "plt.show()"
      ]
    },
    {
      "cell_type": "code",
      "execution_count": null,
      "metadata": {
        "id": "pJIJ-ExSm2go"
      },
      "outputs": [],
      "source": []
    },
    {
      "cell_type": "code",
      "execution_count": null,
      "metadata": {
        "id": "IFfIYYYQm2go"
      },
      "outputs": [],
      "source": []
    }
  ],
  "metadata": {
    "colab": {
      "provenance": []
    },
    "kernelspec": {
      "display_name": "Python 3 (ipykernel)",
      "language": "python",
      "name": "python3"
    },
    "language_info": {
      "codemirror_mode": {
        "name": "ipython",
        "version": 3
      },
      "file_extension": ".py",
      "mimetype": "text/x-python",
      "name": "python",
      "nbconvert_exporter": "python",
      "pygments_lexer": "ipython3",
      "version": "3.8.15"
    }
  },
  "nbformat": 4,
  "nbformat_minor": 0
}