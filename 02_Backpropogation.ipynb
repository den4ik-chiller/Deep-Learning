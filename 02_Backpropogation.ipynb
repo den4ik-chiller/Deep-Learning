{
  "cells": [
    {
      "cell_type": "code",
      "execution_count": null,
      "metadata": {
        "id": "PqC4R7SGseKa"
      },
      "outputs": [],
      "source": [
        "import torch"
      ]
    },
    {
      "cell_type": "markdown",
      "metadata": {
        "id": "0J2RM8f5wP33"
      },
      "source": [
        "## 2.1 Создание нейронов и полносвязных слоев"
      ]
    },
    {
      "cell_type": "markdown",
      "metadata": {
        "id": "_2ArJn_nsdZC"
      },
      "source": [
        "2.1.1. Используя операции над матрицами и векторами из библиотеки `torch`, реализовать нейрон с заданными весами `weights` и `bias`. Прогнать вектор `inputs` через нейрон и вывести результат."
      ]
    },
    {
      "cell_type": "code",
      "execution_count": null,
      "metadata": {
        "id": "f4agkY9WqPwe"
      },
      "outputs": [],
      "source": [
        "class Neuron:\n",
        "  def __init__(self, weights, bias):\n",
        "    # <создать атрибуты объекта weights и bias>\n",
        "    self.weights = weights\n",
        "    self.bias = bias\n",
        "\n",
        "    pass\n",
        "\n",
        "  def forward(self, inputs):\n",
        "    y_pred = self.weights @ inputs + self.bias\n",
        "    return y_pred\n",
        "    # <реализовать логику нейрона>\n"
      ]
    },
    {
      "cell_type": "code",
      "execution_count": null,
      "metadata": {
        "id": "HJRkSkHHsb7u"
      },
      "outputs": [],
      "source": [
        "inputs = torch.tensor([1.0, 2.0, 3.0, 4.0])\n",
        "weights = torch.tensor([-0.2, 0.3, -0.5, 0.7])\n",
        "bias = 3.14"
      ]
    },
    {
      "cell_type": "code",
      "execution_count": null,
      "metadata": {
        "colab": {
          "base_uri": "https://localhost:8080/"
        },
        "id": "8i8vNbUn30k_",
        "outputId": "7c895227-a6a3-4a3e-bcea-f0efe2b3ac7a"
      },
      "outputs": [
        {
          "data": {
            "text/plain": [
              "tensor(4.8400)"
            ]
          },
          "execution_count": 4,
          "metadata": {},
          "output_type": "execute_result"
        }
      ],
      "source": [
        "neuron_1 = Neuron(weights, bias)\n",
        "res = neuron_1.forward(inputs)\n",
        "res"
      ]
    },
    {
      "cell_type": "markdown",
      "metadata": {
        "id": "1qJvnwiyty37"
      },
      "source": [
        "2.1.2 Используя операции над матрицами и векторами из библиотеки `torch`, реализовать полносвязный слой с заданными весами `weights` и `biases`. Прогнать вектор `inputs` через слой и вывести результат."
      ]
    },
    {
      "cell_type": "code",
      "execution_count": null,
      "metadata": {
        "id": "fVWF3a9vtx90"
      },
      "outputs": [],
      "source": [
        "class Linear:\n",
        "  def __init__(self, weights, biases):\n",
        "    # <создать атрибуты объекта weights и biases>\n",
        "    self.weights = weights\n",
        "    self.biases = biases\n",
        "    pass\n",
        "\n",
        "  def forward(self, inputs):\n",
        "    #y_pred = torch.mm(inputs.view(1, -1), self.weights) + self.biases\n",
        "    y_pred = inputs @ self.weights + self.biases\n",
        "    return y_pred\n",
        "    # <реализовать логику слоя>"
      ]
    },
    {
      "cell_type": "code",
      "execution_count": null,
      "metadata": {
        "id": "Fo-JFnHPuFCS"
      },
      "outputs": [],
      "source": [
        "inputs = torch.tensor([1.0, 2.0, 3.0, 4.0])\n",
        "weights = torch.tensor([[-0.2, 0.3, -0.5, 0.7],\n",
        "                        [0.5, -0.91, 0.26, -0.5],\n",
        "                        [-0.26, -0.27, 0.17, 0.87]]).T\n",
        "\n",
        "biases = torch.tensor([3.14, 2.71, 7.2])"
      ]
    },
    {
      "cell_type": "code",
      "execution_count": null,
      "metadata": {
        "colab": {
          "base_uri": "https://localhost:8080/"
        },
        "id": "itgX17pT9Enp",
        "outputId": "ccb6bb20-7f82-4633-da87-f13cdf922483"
      },
      "outputs": [
        {
          "data": {
            "text/plain": [
              "tensor([ 4.8400,  0.1700, 10.3900])"
            ]
          },
          "execution_count": 7,
          "metadata": {},
          "output_type": "execute_result"
        }
      ],
      "source": [
        "linear = Linear(weights, biases)\n",
        "res = linear.forward(inputs)\n",
        "res"
      ]
    },
    {
      "cell_type": "markdown",
      "metadata": {
        "id": "mQtsJzcxuyGd"
      },
      "source": [
        "2.1.3 Реализовать полносвязный слой из __2.1.2__ таким образом, чтобы он мог принимать на вход матрицу (батч) с данными. Продемонстрировать работу.\n",
        "Результатом прогона сквозь слой должна быть матрица размера `batch_size` x `n_neurons`.\n"
      ]
    },
    {
      "cell_type": "code",
      "execution_count": null,
      "metadata": {
        "id": "Z8IizmtsuhO1"
      },
      "outputs": [],
      "source": [
        "inputs = torch.tensor([[1, 2, 3, 2.5],\n",
        "                       [2, 5, -1, 2],\n",
        "                       [-1.5, 2.7, 3.3, -0.8]])"
      ]
    },
    {
      "cell_type": "code",
      "execution_count": null,
      "metadata": {
        "colab": {
          "base_uri": "https://localhost:8080/"
        },
        "id": "1_4D-1CpAofK",
        "outputId": "64a9ec6d-d26c-4a80-ed64-35e28b8a634e"
      },
      "outputs": [
        {
          "data": {
            "text/plain": [
              "tensor([[ 3.7900,  0.9200,  9.0850],\n",
              "        [ 6.1400, -2.1000,  6.9000],\n",
              "        [ 2.0400,  0.7610,  6.7260]])"
            ]
          },
          "execution_count": 9,
          "metadata": {},
          "output_type": "execute_result"
        }
      ],
      "source": [
        "linear = Linear(weights, biases)\n",
        "res = linear.forward(inputs)\n",
        "res"
      ]
    },
    {
      "cell_type": "markdown",
      "metadata": {
        "id": "OQ2OxH4_vBLu"
      },
      "source": [
        "2.1.4 Используя операции над матрицами и векторами из библиотеки `torch`, реализовать полносвязный слой из `n_neurons` нейронов с `n_features` весами у каждого нейрона (инициализируются из стандартного нормального распределения). Прогнать вектор `inputs` через слой и вывести результат. Результатом прогона сквозь слой должна быть матрица размера `batch_size` x `n_neurons`."
      ]
    },
    {
      "cell_type": "code",
      "execution_count": null,
      "metadata": {
        "id": "IOv52EdovASs"
      },
      "outputs": [],
      "source": [
        "class Linear:\n",
        "  def __init__(self, n_features, n_neurons):\n",
        "    # <создать атрибуты объекта weights и biases>\n",
        "    self.weights = torch.randn(n_features, n_neurons)\n",
        "    self.biases = torch.randn(n_neurons)\n",
        "    pass\n",
        "\n",
        "  def forward(self, inputs):\n",
        "    y_pred = inputs @ self.weights + self.biases\n",
        "    return y_pred\n",
        "    # <реализовать логику слоя>"
      ]
    },
    {
      "cell_type": "code",
      "execution_count": null,
      "metadata": {
        "id": "5C4CNUPOFDLp"
      },
      "outputs": [],
      "source": []
    },
    {
      "cell_type": "code",
      "execution_count": null,
      "metadata": {
        "colab": {
          "base_uri": "https://localhost:8080/"
        },
        "id": "siXB757jD4dy",
        "outputId": "c0350a9b-9f5b-4ae4-a46e-6b136579c771"
      },
      "outputs": [
        {
          "data": {
            "text/plain": [
              "tensor([[ 3.1749, -4.1070, -9.6691, -5.9675, -1.2821,  2.7056,  1.2249,  1.9970,\n",
              "         -3.6447, -6.8334],\n",
              "        [ 0.1357, -8.5860, -0.7812, -2.7921, -2.3487, -3.9591,  3.6050,  1.3824,\n",
              "         -3.1515,  2.9284],\n",
              "        [ 1.8354, -1.0604, -4.7900,  1.3429, -0.3729,  4.0463, -2.6644,  6.6371,\n",
              "         -3.9895, -9.5411]])"
            ]
          },
          "execution_count": 11,
          "metadata": {},
          "output_type": "execute_result"
        }
      ],
      "source": [
        "linear = Linear(inputs.size()[1], 10)\n",
        "res = linear.forward(inputs)\n",
        "res"
      ]
    },
    {
      "cell_type": "markdown",
      "metadata": {
        "id": "IPG4UqL4wajI"
      },
      "source": [
        "2.1.5 Используя решение из __2.1.4__, создать 2 полносвязных слоя и пропустить матрицу `inputs` последовательно через эти два слоя. Количество нейронов в первом слое выбрать произвольно, количество нейронов во втором слое выбрать так, чтобы результатом прогона являлась матрица (3x7)."
      ]
    },
    {
      "cell_type": "code",
      "execution_count": null,
      "metadata": {
        "id": "RjjQIQlTxJE6"
      },
      "outputs": [],
      "source": [
        "inputs = torch.tensor([[1, 2, 3, 2.5],\n",
        "                       [2, 5, -1, 2],\n",
        "                       [-1.5, 2.7, 3.3, -0.8]])"
      ]
    },
    {
      "cell_type": "code",
      "execution_count": null,
      "metadata": {
        "colab": {
          "base_uri": "https://localhost:8080/"
        },
        "id": "pPsi_Q61HxTd",
        "outputId": "327f6bf8-6e2b-4b9c-ce0e-812c79019b5a"
      },
      "outputs": [
        {
          "data": {
            "text/plain": [
              "tensor([[ 2.6500, -3.2112,  2.7832,  8.8280,  1.7367,  6.0315,  2.5102,  8.1850,\n",
              "         -5.0049,  2.3640],\n",
              "        [-0.8230, -6.5269,  2.7592, 13.4393, -7.2846,  8.7223, -0.0234,  7.7123,\n",
              "          5.4089,  8.9987],\n",
              "        [ 1.6469, -8.5963,  1.1676,  3.1147, -2.0571,  4.5551, -2.4509,  9.0943,\n",
              "         -3.7321, -3.0394]])"
            ]
          },
          "execution_count": 13,
          "metadata": {},
          "output_type": "execute_result"
        }
      ],
      "source": [
        "linear = Linear(inputs.size()[1], 10)\n",
        "res = linear.forward(inputs)\n",
        "res"
      ]
    },
    {
      "cell_type": "code",
      "execution_count": null,
      "metadata": {
        "colab": {
          "base_uri": "https://localhost:8080/"
        },
        "id": "L3Ajh3k1GjF-",
        "outputId": "74a6f078-9691-465f-dfe6-307515e821ca"
      },
      "outputs": [
        {
          "data": {
            "text/plain": [
              "tensor([[ 15.9642, -13.6953, -12.0553,  17.7373, -15.2645, -23.6649,  -3.3924],\n",
              "        [-12.2785, -13.3955, -16.0230,  45.0331,   4.6199, -11.9443,  10.9978],\n",
              "        [  4.0390,  -5.7855,  -8.8736,   6.7156,   6.6784,  -3.8775,  10.2195]])"
            ]
          },
          "execution_count": 14,
          "metadata": {},
          "output_type": "execute_result"
        }
      ],
      "source": [
        "linear = Linear(res.size()[1], 7)\n",
        "res2 = linear.forward(res)\n",
        "res2"
      ]
    },
    {
      "cell_type": "code",
      "execution_count": null,
      "metadata": {
        "id": "RPb6rKWMGep3"
      },
      "outputs": [],
      "source": []
    },
    {
      "cell_type": "markdown",
      "metadata": {
        "id": "cRVH_2K7xTBC"
      },
      "source": [
        "## 2.2 Создание функций активации"
      ]
    },
    {
      "cell_type": "markdown",
      "metadata": {
        "id": "B9kngE6Fxs9D"
      },
      "source": [
        "2.2.1 Используя операции над матрицами и векторами из библиотеки `torch`, реализовать функцию активации ReLU:\n",
        "\n",
        "![](https://wikimedia.org/api/rest_v1/media/math/render/svg/f4353f4e3e484130504049599d2e7b040793e1eb)\n",
        "\n",
        "Создать матрицу размера (4,3), заполненную числами из стандартного нормального распределения, и проверить работоспособность функции активации."
      ]
    },
    {
      "cell_type": "code",
      "execution_count": null,
      "metadata": {
        "colab": {
          "base_uri": "https://localhost:8080/"
        },
        "id": "xCBO28FqUCmA",
        "outputId": "d8755a91-d72d-4959-87fb-7eb95f6341c3"
      },
      "outputs": [
        {
          "data": {
            "text/plain": [
              "tensor([[ 2.3774,  0.6865,  0.1025],\n",
              "        [ 0.3304,  0.7629, -0.7630],\n",
              "        [-0.9299,  0.9810, -0.2276],\n",
              "        [-0.4788,  0.8248, -1.0171]])"
            ]
          },
          "execution_count": 15,
          "metadata": {},
          "output_type": "execute_result"
        }
      ],
      "source": [
        "inputs = torch.randn(4, 3)\n",
        "inputs"
      ]
    },
    {
      "cell_type": "code",
      "execution_count": null,
      "metadata": {
        "id": "jZLvMRByxSTC"
      },
      "outputs": [],
      "source": [
        "class ReLU:\n",
        "  def forward(self, inputs):\n",
        "    # <реализовать логику ReLU>\n",
        "\n",
        "    return torch.where(inputs > 0, inputs, 0)\n"
      ]
    },
    {
      "cell_type": "code",
      "execution_count": null,
      "metadata": {
        "colab": {
          "base_uri": "https://localhost:8080/"
        },
        "id": "wR1XtLKnTtyN",
        "outputId": "988fcd60-5576-4dba-8676-0bc2c59ea073"
      },
      "outputs": [
        {
          "data": {
            "text/plain": [
              "tensor([[2.3774, 0.6865, 0.1025],\n",
              "        [0.3304, 0.7629, 0.0000],\n",
              "        [0.0000, 0.9810, 0.0000],\n",
              "        [0.0000, 0.8248, 0.0000]])"
            ]
          },
          "execution_count": 17,
          "metadata": {},
          "output_type": "execute_result"
        }
      ],
      "source": [
        "relu = ReLU()\n",
        "relu.forward(inputs)"
      ]
    },
    {
      "cell_type": "markdown",
      "metadata": {
        "id": "puExCWiKyTtb"
      },
      "source": [
        "2.2.2 Используя операции над матрицами и векторами из библиотеки `torch`, реализовать функцию активации softmax:\n",
        "\n",
        "![](https://wikimedia.org/api/rest_v1/media/math/render/svg/6d7500d980c313da83e4117da701bf7c8f1982f5)\n",
        "\n",
        "Создать матрицу размера (4,3), заполненную числами из стандартного нормального распределения, и проверить работоспособность функции активации. Строки матрицы трактовать как выходы линейного слоя некоторого классификатора для 4 различных примеров."
      ]
    },
    {
      "cell_type": "code",
      "execution_count": null,
      "metadata": {
        "colab": {
          "base_uri": "https://localhost:8080/"
        },
        "id": "0kWjuoZULAOz",
        "outputId": "1d87aef2-1c8f-4c55-f0c8-3640eac2b44b"
      },
      "outputs": [
        {
          "data": {
            "text/plain": [
              "tensor([[ 0.8684, -0.3406, -2.2935],\n",
              "        [-1.1955,  0.5883,  0.6745],\n",
              "        [-0.4988,  0.5811,  0.9111],\n",
              "        [ 0.3989,  1.8376,  0.3344]])"
            ]
          },
          "execution_count": 18,
          "metadata": {},
          "output_type": "execute_result"
        }
      ],
      "source": [
        "inputs = torch.randn(4, 3)\n",
        "inputs"
      ]
    },
    {
      "cell_type": "code",
      "execution_count": null,
      "metadata": {
        "id": "Rmos9IWMK7H-"
      },
      "outputs": [],
      "source": [
        "import numpy as np"
      ]
    },
    {
      "cell_type": "code",
      "execution_count": null,
      "metadata": {
        "colab": {
          "base_uri": "https://localhost:8080/"
        },
        "id": "LviquNc7LU5N",
        "outputId": "39930d67-9e70-4615-d4a8-754ac36abcdd"
      },
      "outputs": [
        {
          "data": {
            "text/plain": [
              "tensor(0.7458)"
            ]
          },
          "execution_count": 20,
          "metadata": {},
          "output_type": "execute_result"
        }
      ],
      "source": [
        "np.exp(inputs[0][0])/torch.sum(np.exp(inputs[0]))"
      ]
    },
    {
      "cell_type": "code",
      "execution_count": null,
      "metadata": {
        "colab": {
          "base_uri": "https://localhost:8080/"
        },
        "id": "nKBp5XeFMNMT",
        "outputId": "24aa1290-9f55-4ebc-c254-60f2e5a46031"
      },
      "outputs": [
        {
          "data": {
            "text/plain": [
              "tensor(3.1954)"
            ]
          },
          "execution_count": 21,
          "metadata": {},
          "output_type": "execute_result"
        }
      ],
      "source": [
        "torch.sum(np.exp(inputs[0]))"
      ]
    },
    {
      "cell_type": "code",
      "execution_count": null,
      "metadata": {
        "colab": {
          "base_uri": "https://localhost:8080/"
        },
        "id": "OxQXu32iLqwK",
        "outputId": "f82ab8a2-4e8e-4fb8-8601-61c888aa13f2"
      },
      "outputs": [
        {
          "data": {
            "text/plain": [
              "tensor([[3.1954],\n",
              "        [4.0666],\n",
              "        [4.8822],\n",
              "        [9.1684]])"
            ]
          },
          "execution_count": 22,
          "metadata": {},
          "output_type": "execute_result"
        }
      ],
      "source": [
        "torch.sum(np.exp(inputs), 1).reshape(4, -1)"
      ]
    },
    {
      "cell_type": "code",
      "execution_count": null,
      "metadata": {
        "id": "fXNcFlqqyKHl"
      },
      "outputs": [],
      "source": [
        "class Softmax:\n",
        "  def forward(self, inputs):\n",
        "    # <реализовать логику Softmax>\n",
        "    return np.exp(inputs)/(torch.sum(np.exp(inputs), 1).reshape(inputs.size()[0], -1))"
      ]
    },
    {
      "cell_type": "code",
      "execution_count": null,
      "metadata": {
        "colab": {
          "base_uri": "https://localhost:8080/"
        },
        "id": "B3BhRtR-LLz9",
        "outputId": "3be4e8b2-c1a1-4510-f18d-331b4063bfcc"
      },
      "outputs": [
        {
          "data": {
            "text/plain": [
              "tensor([[0.7458, 0.2226, 0.0316],\n",
              "        [0.0744, 0.4428, 0.4828],\n",
              "        [0.1244, 0.3662, 0.5094],\n",
              "        [0.1625, 0.6851, 0.1524]])"
            ]
          },
          "execution_count": 24,
          "metadata": {},
          "output_type": "execute_result"
        }
      ],
      "source": [
        "softmax = Softmax()\n",
        "softmax.forward(inputs)"
      ]
    },
    {
      "cell_type": "markdown",
      "metadata": {
        "id": "vxVK2TYez_Ye"
      },
      "source": [
        "2.2.3 Используя операции над матрицами и векторами из библиотеки `torch`, реализовать функцию активации ELU:\n",
        "\n",
        "![](https://wikimedia.org/api/rest_v1/media/math/render/svg/eb23becd37c3602c4838e53f532163279192e4fd)\n",
        "\n",
        "Создать матрицу размера (4,3), заполненную числами из стандартного нормального распределения, и проверить работоспособность функции активации."
      ]
    },
    {
      "cell_type": "code",
      "execution_count": null,
      "metadata": {
        "colab": {
          "base_uri": "https://localhost:8080/"
        },
        "id": "OQfIQAxSO8Hv",
        "outputId": "c0bcf126-f708-4b0f-ef18-93f011ad40ac"
      },
      "outputs": [
        {
          "data": {
            "text/plain": [
              "tensor([[-0.3827,  0.2354,  0.2527],\n",
              "        [-0.4738, -0.7288, -0.8742],\n",
              "        [ 0.9855,  0.4688, -1.4691],\n",
              "        [ 1.9084, -2.0529,  1.6824]])"
            ]
          },
          "execution_count": 25,
          "metadata": {},
          "output_type": "execute_result"
        }
      ],
      "source": [
        "inputs = torch.randn(4, 3)\n",
        "inputs"
      ]
    },
    {
      "cell_type": "code",
      "execution_count": null,
      "metadata": {
        "id": "NzMz7HDLySxK"
      },
      "outputs": [],
      "source": [
        "class ELU:\n",
        "  def __init__(self, alpha):\n",
        "    # <создать атрибут объекта alpha>\n",
        "    self.alpha = alpha\n",
        "    pass\n",
        "\n",
        "  def forward(self, inputs):\n",
        "    # <реализовать логику ReLU>\n",
        "    return torch.where(inputs > 0, inputs, self.alpha * (torch.exp(inputs)-1))"
      ]
    },
    {
      "cell_type": "code",
      "execution_count": null,
      "metadata": {
        "colab": {
          "base_uri": "https://localhost:8080/"
        },
        "id": "ftNK1_8sO2Ym",
        "outputId": "c5b18d1c-b5b8-4e2a-9091-205e34a71b08"
      },
      "outputs": [
        {
          "data": {
            "text/plain": [
              "tensor([[-0.0032,  0.2354,  0.2527],\n",
              "        [-0.0038, -0.0052, -0.0058],\n",
              "        [ 0.9855,  0.4688, -0.0077],\n",
              "        [ 1.9084, -0.0087,  1.6824]])"
            ]
          },
          "execution_count": 27,
          "metadata": {},
          "output_type": "execute_result"
        }
      ],
      "source": [
        "elu = ELU(0.01)\n",
        "elu.forward(inputs)"
      ]
    },
    {
      "cell_type": "markdown",
      "metadata": {
        "id": "0peh8r-20Pof"
      },
      "source": [
        "## 2.3 Создание функции потерь"
      ]
    },
    {
      "cell_type": "markdown",
      "metadata": {
        "id": "EY-k3eEs0f7f"
      },
      "source": [
        "2.3.1 Используя операции над матрицами и векторами из библиотеки `torch`, реализовать функцию потерь MSE:\n",
        "\n",
        "![](https://wikimedia.org/api/rest_v1/media/math/render/svg/e258221518869aa1c6561bb75b99476c4734108e)\n",
        "\n",
        "Создать полносвязный слой с 1 нейроном, прогнать через него батч `inputs` и посчитать значение MSE, трактуя вектор `y` как вектор правильных ответов."
      ]
    },
    {
      "cell_type": "code",
      "execution_count": null,
      "metadata": {
        "id": "f9-wdj5Tz-br"
      },
      "outputs": [],
      "source": [
        "class MSELoss:\n",
        "  def forward(self, y_pred, y_true):\n",
        "    return sum(((y_pred - y_true) ** 2)/y_pred.size()[0])\n",
        "    # <реализовать логику MSE>"
      ]
    },
    {
      "cell_type": "code",
      "execution_count": null,
      "metadata": {
        "id": "NAyuDU9F1Vuz"
      },
      "outputs": [],
      "source": [
        "inputs = torch.tensor([[1, 2, 3, 2.5],\n",
        "                       [2, 5, -1, 2],\n",
        "                       [-1.5, 2.7, 3.3, -0.8]])\n",
        "\n",
        "y = torch.tensor([2, 3, 4])"
      ]
    },
    {
      "cell_type": "code",
      "execution_count": null,
      "metadata": {
        "colab": {
          "base_uri": "https://localhost:8080/"
        },
        "id": "Oe5qDpRGPlZ8",
        "outputId": "db5f2c44-665a-46e9-f04a-fca5fec7279f"
      },
      "outputs": [
        {
          "data": {
            "text/plain": [
              "tensor([[-1.0681],\n",
              "        [-2.3008],\n",
              "        [ 0.8457]])"
            ]
          },
          "execution_count": 30,
          "metadata": {},
          "output_type": "execute_result"
        }
      ],
      "source": [
        "linear = Linear(inputs.size()[1], 1)\n",
        "res = linear.forward(inputs)\n",
        "res"
      ]
    },
    {
      "cell_type": "code",
      "execution_count": null,
      "metadata": {
        "colab": {
          "base_uri": "https://localhost:8080/"
        },
        "id": "cbL6hcLCTEYB",
        "outputId": "bad22fcf-dae8-40e7-972a-03e44acc87a6"
      },
      "outputs": [
        {
          "data": {
            "text/plain": [
              "5.5251674966666675"
            ]
          },
          "execution_count": 31,
          "metadata": {},
          "output_type": "execute_result"
        }
      ],
      "source": [
        "((2 - 0.8285) ** 2 + (3 + 0.8132) ** 2 + (4 - 4.8140) ** 2)/3"
      ]
    },
    {
      "cell_type": "code",
      "execution_count": null,
      "metadata": {
        "colab": {
          "base_uri": "https://localhost:8080/"
        },
        "id": "FOtPrejFSTGQ",
        "outputId": "d977b841-7f4a-479c-dd46-b85b19ca80ce"
      },
      "outputs": [
        {
          "data": {
            "text/plain": [
              "tensor(15.8204)"
            ]
          },
          "execution_count": 32,
          "metadata": {},
          "output_type": "execute_result"
        }
      ],
      "source": [
        "loss = MSELoss()\n",
        "loss.forward(y, res.reshape(1, -1)[0])"
      ]
    },
    {
      "cell_type": "markdown",
      "metadata": {
        "id": "uaR7rILd1eWR"
      },
      "source": [
        "2.3.2 Используя операции над матрицами и векторами из библиотеки `torch`, реализовать функцию потерь Categorical Cross-Entropy:\n",
        "\n",
        "<img src=\"https://i.ibb.co/93gy1dN/Screenshot-9.png\" width=\"200\">\n",
        "\n",
        "Создать полносвязный слой с 3 нейронами и прогнать через него батч `inputs`. Полученный результат пропустить через функцию активации softmax. Посчитать значение CCE, трактуя вектор `y` как вектор правильных ответов."
      ]
    },
    {
      "cell_type": "code",
      "execution_count": null,
      "metadata": {
        "id": "wtHxeENLxicP"
      },
      "outputs": [],
      "source": [
        "from torch.nn import CrossEntropyLoss"
      ]
    },
    {
      "cell_type": "code",
      "execution_count": null,
      "metadata": {
        "id": "p_Pt8kJ8xs1F"
      },
      "outputs": [],
      "source": [
        "loss = CrossEntropyLoss()"
      ]
    },
    {
      "cell_type": "code",
      "execution_count": null,
      "metadata": {
        "id": "hQl8pJsT3HcF"
      },
      "outputs": [],
      "source": [
        "class CategoricalCrossentropyLoss:\n",
        "  def forward(self, y_pred, y_true):\n",
        "    # <реализовать логику CCE>\n",
        "    softmax_pred = torch.softmax(y_pred, dim=1)\n",
        "    cce = -torch.log(softmax_pred.gather(1, y_true.view(-1, 1)))\n",
        "    return cce.mean()"
      ]
    },
    {
      "cell_type": "code",
      "execution_count": null,
      "metadata": {
        "id": "s7Qoupfo1ZGJ"
      },
      "outputs": [],
      "source": [
        "inputs = torch.tensor([[1, 2, 3, 2.5],\n",
        "                        [2, 5, -1, 2],\n",
        "                        [-1.5, 2.7, 3.3, -0.8]])\n",
        "y = torch.tensor([1, 0, 0])"
      ]
    },
    {
      "cell_type": "code",
      "execution_count": null,
      "metadata": {
        "colab": {
          "base_uri": "https://localhost:8080/"
        },
        "id": "z7WIXi78VAbr",
        "outputId": "eaeb9909-8a63-4b1e-9c07-e76337b11762"
      },
      "outputs": [
        {
          "data": {
            "text/plain": [
              "tensor([[ 9.2373, -8.3214,  3.7348],\n",
              "        [12.7696, -8.9813, -3.9353],\n",
              "        [ 0.0849, -4.0625,  5.3135]])"
            ]
          },
          "execution_count": 39,
          "metadata": {},
          "output_type": "execute_result"
        }
      ],
      "source": [
        "linear = Linear(inputs.size()[1], 3)\n",
        "res = linear.forward(inputs)\n",
        "res"
      ]
    },
    {
      "cell_type": "code",
      "execution_count": null,
      "metadata": {
        "colab": {
          "base_uri": "https://localhost:8080/"
        },
        "id": "FqckECGUVhuK",
        "outputId": "98ecaced-cd5f-4a3b-883f-d1f2e0cb1622"
      },
      "outputs": [
        {
          "data": {
            "text/plain": [
              "tensor([[9.9594e-01, 2.3583e-08, 4.0602e-03],\n",
              "        [1.0000e+00, 3.5785e-10, 5.5609e-08],\n",
              "        [5.3316e-03, 8.4271e-05, 9.9458e-01]])"
            ]
          },
          "execution_count": 40,
          "metadata": {},
          "output_type": "execute_result"
        }
      ],
      "source": [
        "softmax.forward(res)"
      ]
    },
    {
      "cell_type": "code",
      "execution_count": null,
      "metadata": {
        "colab": {
          "base_uri": "https://localhost:8080/"
        },
        "id": "FeSR_SzEWAPC",
        "outputId": "55be3696-801f-4985-d731-ebde672241e5"
      },
      "outputs": [
        {
          "data": {
            "text/plain": [
              "tensor(7.5989)"
            ]
          },
          "execution_count": 41,
          "metadata": {},
          "output_type": "execute_result"
        }
      ],
      "source": [
        "ccl = CategoricalCrossentropyLoss()\n",
        "ccl.forward(res, y)"
      ]
    },
    {
      "cell_type": "code",
      "execution_count": null,
      "metadata": {
        "colab": {
          "base_uri": "https://localhost:8080/"
        },
        "id": "TygLiJv66DZm",
        "outputId": "34455617-3c5d-4fe5-85dd-383798b61747"
      },
      "outputs": [
        {
          "data": {
            "text/plain": [
              "tensor(7.5989)"
            ]
          },
          "execution_count": 42,
          "metadata": {},
          "output_type": "execute_result"
        }
      ],
      "source": [
        "loss = CrossEntropyLoss()\n",
        "loss(res, y)"
      ]
    },
    {
      "cell_type": "markdown",
      "metadata": {
        "id": "fA6dbanf44_4"
      },
      "source": [
        "2.3.3 Модифицировать 2.3.1, добавив L2-регуляризацию.\n",
        "\n",
        "![](https://wikimedia.org/api/rest_v1/media/math/render/svg/d92ca2429275bfdc0474523babbafe014ca8b580)\n"
      ]
    },
    {
      "cell_type": "code",
      "execution_count": null,
      "metadata": {
        "id": "ADsZxD-h4_Os"
      },
      "outputs": [],
      "source": [
        "class MSELossL2:\n",
        "  def __init__(self, lambda_):\n",
        "    self.lambda_ = lambda_\n",
        "\n",
        "  def data_loss(self, y_pred, y_true):\n",
        "    return torch.sum(torch.pow(y_true - y_pred, 2))\n",
        "\n",
        "  def reg_loss(self, layer):\n",
        "    return self.lambda_ * torch.sum(layer, dim=1)\n",
        "\n",
        "  def forward(self, y_pred, y_true, layer):\n",
        "    return self.data_loss(y_pred, y_true) + self.reg_loss(layer)"
      ]
    },
    {
      "cell_type": "code",
      "execution_count": null,
      "metadata": {
        "id": "2qolq2OgwtUx"
      },
      "outputs": [],
      "source": []
    },
    {
      "cell_type": "markdown",
      "metadata": {
        "id": "w049ZSdR6qQi"
      },
      "source": [
        "## 2.4 Обратное распространение ошибки"
      ]
    },
    {
      "cell_type": "markdown",
      "metadata": {
        "id": "pBtCfSME9W7Q"
      },
      "source": [
        "2.4.1 Используя один нейрон и SGD (1 пример за шаг), решите задачу регрессии"
      ]
    },
    {
      "cell_type": "code",
      "execution_count": null,
      "metadata": {
        "id": "4xmI-QJ66WAF"
      },
      "outputs": [],
      "source": [
        "from sklearn.datasets import make_regression\n",
        "\n",
        "X, y, coef = make_regression(n_features=4, n_informative=4, coef=True, bias=0.5)\n",
        "X = torch.tensor(X, dtype=torch.float32)\n",
        "# <преобразуйте массивы numpy в тензоры torch с типом torch.float32\n",
        "y = torch.tensor(y, dtype=torch.float32)\n",
        "# <преобразуйте массивы numpy в тензоры torch с типом torch.float32"
      ]
    },
    {
      "cell_type": "code",
      "execution_count": null,
      "metadata": {
        "colab": {
          "base_uri": "https://localhost:8080/"
        },
        "id": "Lv3uqYCEr2nN",
        "outputId": "7a853d84-5ded-4fac-ec6b-77ee589c7651"
      },
      "outputs": [
        {
          "name": "stdout",
          "output_type": "stream",
          "text": [
            "Epoch [1/500], Loss: 11896.3096\n",
            "Epoch [2/500], Loss: 11288.1680\n",
            "Epoch [3/500], Loss: 10711.2598\n",
            "Epoch [4/500], Loss: 10163.9736\n",
            "Epoch [5/500], Loss: 9644.7822\n",
            "Epoch [6/500], Loss: 9152.2373\n",
            "Epoch [7/500], Loss: 8684.9648\n",
            "Epoch [8/500], Loss: 8241.6621\n",
            "Epoch [9/500], Loss: 7821.0933\n",
            "Epoch [10/500], Loss: 7422.0874\n",
            "Epoch [11/500], Loss: 7043.5342\n",
            "Epoch [12/500], Loss: 6684.3813\n",
            "Epoch [13/500], Loss: 6343.6294\n",
            "Epoch [14/500], Loss: 6020.3311\n",
            "Epoch [15/500], Loss: 5713.5879\n",
            "Epoch [16/500], Loss: 5422.5498\n",
            "Epoch [17/500], Loss: 5146.4077\n",
            "Epoch [18/500], Loss: 4884.3955\n",
            "Epoch [19/500], Loss: 4635.7881\n",
            "Epoch [20/500], Loss: 4399.8950\n",
            "Epoch [21/500], Loss: 4176.0645\n",
            "Epoch [22/500], Loss: 3963.6755\n",
            "Epoch [23/500], Loss: 3762.1421\n",
            "Epoch [24/500], Loss: 3570.9053\n",
            "Epoch [25/500], Loss: 3389.4368\n",
            "Epoch [26/500], Loss: 3217.2366\n",
            "Epoch [27/500], Loss: 3053.8284\n",
            "Epoch [28/500], Loss: 2898.7610\n",
            "Epoch [29/500], Loss: 2751.6064\n",
            "Epoch [30/500], Loss: 2611.9595\n",
            "Epoch [31/500], Loss: 2479.4355\n",
            "Epoch [32/500], Loss: 2353.6687\n",
            "Epoch [33/500], Loss: 2234.3137\n",
            "Epoch [34/500], Loss: 2121.0420\n",
            "Epoch [35/500], Loss: 2013.5417\n",
            "Epoch [36/500], Loss: 1911.5177\n",
            "Epoch [37/500], Loss: 1814.6892\n",
            "Epoch [38/500], Loss: 1722.7909\n",
            "Epoch [39/500], Loss: 1635.5707\n",
            "Epoch [40/500], Loss: 1552.7885\n",
            "Epoch [41/500], Loss: 1474.2178\n",
            "Epoch [42/500], Loss: 1399.6438\n",
            "Epoch [43/500], Loss: 1328.8617\n",
            "Epoch [44/500], Loss: 1261.6779\n",
            "Epoch [45/500], Loss: 1197.9086\n",
            "Epoch [46/500], Loss: 1137.3793\n",
            "Epoch [47/500], Loss: 1079.9249\n",
            "Epoch [48/500], Loss: 1025.3882\n",
            "Epoch [49/500], Loss: 973.6202\n",
            "Epoch [50/500], Loss: 924.4800\n",
            "Epoch [51/500], Loss: 877.8334\n",
            "Epoch [52/500], Loss: 833.5530\n",
            "Epoch [53/500], Loss: 791.5186\n",
            "Epoch [54/500], Loss: 751.6155\n",
            "Epoch [55/500], Loss: 713.7351\n",
            "Epoch [56/500], Loss: 677.7742\n",
            "Epoch [57/500], Loss: 643.6354\n",
            "Epoch [58/500], Loss: 611.2258\n",
            "Epoch [59/500], Loss: 580.4571\n",
            "Epoch [60/500], Loss: 551.2460\n",
            "Epoch [61/500], Loss: 523.5133\n",
            "Epoch [62/500], Loss: 497.1837\n",
            "Epoch [63/500], Loss: 472.1860\n",
            "Epoch [64/500], Loss: 448.4523\n",
            "Epoch [65/500], Loss: 425.9185\n",
            "Epoch [66/500], Loss: 404.5235\n",
            "Epoch [67/500], Loss: 384.2097\n",
            "Epoch [68/500], Loss: 364.9219\n",
            "Epoch [69/500], Loss: 346.6082\n",
            "Epoch [70/500], Loss: 329.2189\n",
            "Epoch [71/500], Loss: 312.7072\n",
            "Epoch [72/500], Loss: 297.0288\n",
            "Epoch [73/500], Loss: 282.1412\n",
            "Epoch [74/500], Loss: 268.0043\n",
            "Epoch [75/500], Loss: 254.5802\n",
            "Epoch [76/500], Loss: 241.8326\n",
            "Epoch [77/500], Loss: 229.7274\n",
            "Epoch [78/500], Loss: 218.2318\n",
            "Epoch [79/500], Loss: 207.3152\n",
            "Epoch [80/500], Loss: 196.9481\n",
            "Epoch [81/500], Loss: 187.1027\n",
            "Epoch [82/500], Loss: 177.7526\n",
            "Epoch [83/500], Loss: 168.8730\n",
            "Epoch [84/500], Loss: 160.4397\n",
            "Epoch [85/500], Loss: 152.4303\n",
            "Epoch [86/500], Loss: 144.8236\n",
            "Epoch [87/500], Loss: 137.5989\n",
            "Epoch [88/500], Loss: 130.7370\n",
            "Epoch [89/500], Loss: 124.2197\n",
            "Epoch [90/500], Loss: 118.0295\n",
            "Epoch [91/500], Loss: 112.1500\n",
            "Epoch [92/500], Loss: 106.5654\n",
            "Epoch [93/500], Loss: 101.2608\n",
            "Epoch [94/500], Loss: 96.2221\n",
            "Epoch [95/500], Loss: 91.4359\n",
            "Epoch [96/500], Loss: 86.8895\n",
            "Epoch [97/500], Loss: 82.5708\n",
            "Epoch [98/500], Loss: 78.4684\n",
            "Epoch [99/500], Loss: 74.5713\n",
            "Epoch [100/500], Loss: 70.8692\n",
            "Epoch [101/500], Loss: 67.3522\n",
            "Epoch [102/500], Loss: 64.0111\n",
            "Epoch [103/500], Loss: 60.8371\n",
            "Epoch [104/500], Loss: 57.8216\n",
            "Epoch [105/500], Loss: 54.9568\n",
            "Epoch [106/500], Loss: 52.2350\n",
            "Epoch [107/500], Loss: 49.6491\n",
            "Epoch [108/500], Loss: 47.1923\n",
            "Epoch [109/500], Loss: 44.8580\n",
            "Epoch [110/500], Loss: 42.6401\n",
            "Epoch [111/500], Loss: 40.5328\n",
            "Epoch [112/500], Loss: 38.5305\n",
            "Epoch [113/500], Loss: 36.6280\n",
            "Epoch [114/500], Loss: 34.8202\n",
            "Epoch [115/500], Loss: 33.1023\n",
            "Epoch [116/500], Loss: 31.4700\n",
            "Epoch [117/500], Loss: 29.9189\n",
            "Epoch [118/500], Loss: 28.4450\n",
            "Epoch [119/500], Loss: 27.0443\n",
            "Epoch [120/500], Loss: 25.7132\n",
            "Epoch [121/500], Loss: 24.4482\n",
            "Epoch [122/500], Loss: 23.2460\n",
            "Epoch [123/500], Loss: 22.1035\n",
            "Epoch [124/500], Loss: 21.0177\n",
            "Epoch [125/500], Loss: 19.9857\n",
            "Epoch [126/500], Loss: 19.0049\n",
            "Epoch [127/500], Loss: 18.0727\n",
            "Epoch [128/500], Loss: 17.1867\n",
            "Epoch [129/500], Loss: 16.3446\n",
            "Epoch [130/500], Loss: 15.5441\n",
            "Epoch [131/500], Loss: 14.7832\n",
            "Epoch [132/500], Loss: 14.0600\n",
            "Epoch [133/500], Loss: 13.3725\n",
            "Epoch [134/500], Loss: 12.7190\n",
            "Epoch [135/500], Loss: 12.0978\n",
            "Epoch [136/500], Loss: 11.5073\n",
            "Epoch [137/500], Loss: 10.9459\n",
            "Epoch [138/500], Loss: 10.4121\n",
            "Epoch [139/500], Loss: 9.9048\n",
            "Epoch [140/500], Loss: 9.4224\n",
            "Epoch [141/500], Loss: 8.9638\n",
            "Epoch [142/500], Loss: 8.5277\n",
            "Epoch [143/500], Loss: 8.1131\n",
            "Epoch [144/500], Loss: 7.7190\n",
            "Epoch [145/500], Loss: 7.3442\n",
            "Epoch [146/500], Loss: 6.9878\n",
            "Epoch [147/500], Loss: 6.6489\n",
            "Epoch [148/500], Loss: 6.3267\n",
            "Epoch [149/500], Loss: 6.0203\n",
            "Epoch [150/500], Loss: 5.7289\n",
            "Epoch [151/500], Loss: 5.4518\n",
            "Epoch [152/500], Loss: 5.1883\n",
            "Epoch [153/500], Loss: 4.9377\n",
            "Epoch [154/500], Loss: 4.6994\n",
            "Epoch [155/500], Loss: 4.4727\n",
            "Epoch [156/500], Loss: 4.2571\n",
            "Epoch [157/500], Loss: 4.0521\n",
            "Epoch [158/500], Loss: 3.8570\n",
            "Epoch [159/500], Loss: 3.6715\n",
            "Epoch [160/500], Loss: 3.4951\n",
            "Epoch [161/500], Loss: 3.3272\n",
            "Epoch [162/500], Loss: 3.1676\n",
            "Epoch [163/500], Loss: 3.0157\n",
            "Epoch [164/500], Loss: 2.8712\n",
            "Epoch [165/500], Loss: 2.7337\n",
            "Epoch [166/500], Loss: 2.6030\n",
            "Epoch [167/500], Loss: 2.4785\n",
            "Epoch [168/500], Loss: 2.3602\n",
            "Epoch [169/500], Loss: 2.2475\n",
            "Epoch [170/500], Loss: 2.1404\n",
            "Epoch [171/500], Loss: 2.0384\n",
            "Epoch [172/500], Loss: 1.9414\n",
            "Epoch [173/500], Loss: 1.8491\n",
            "Epoch [174/500], Loss: 1.7612\n",
            "Epoch [175/500], Loss: 1.6776\n",
            "Epoch [176/500], Loss: 1.5980\n",
            "Epoch [177/500], Loss: 1.5223\n",
            "Epoch [178/500], Loss: 1.4502\n",
            "Epoch [179/500], Loss: 1.3816\n",
            "Epoch [180/500], Loss: 1.3163\n",
            "Epoch [181/500], Loss: 1.2542\n",
            "Epoch [182/500], Loss: 1.1950\n",
            "Epoch [183/500], Loss: 1.1387\n",
            "Epoch [184/500], Loss: 1.0851\n",
            "Epoch [185/500], Loss: 1.0341\n",
            "Epoch [186/500], Loss: 0.9855\n",
            "Epoch [187/500], Loss: 0.9393\n",
            "Epoch [188/500], Loss: 0.8953\n",
            "Epoch [189/500], Loss: 0.8533\n",
            "Epoch [190/500], Loss: 0.8134\n",
            "Epoch [191/500], Loss: 0.7754\n",
            "Epoch [192/500], Loss: 0.7392\n",
            "Epoch [193/500], Loss: 0.7047\n",
            "Epoch [194/500], Loss: 0.6719\n",
            "Epoch [195/500], Loss: 0.6407\n",
            "Epoch [196/500], Loss: 0.6109\n",
            "Epoch [197/500], Loss: 0.5825\n",
            "Epoch [198/500], Loss: 0.5555\n",
            "Epoch [199/500], Loss: 0.5298\n",
            "Epoch [200/500], Loss: 0.5053\n",
            "Epoch [201/500], Loss: 0.4820\n",
            "Epoch [202/500], Loss: 0.4597\n",
            "Epoch [203/500], Loss: 0.4385\n",
            "Epoch [204/500], Loss: 0.4184\n",
            "Epoch [205/500], Loss: 0.3991\n",
            "Epoch [206/500], Loss: 0.3808\n",
            "Epoch [207/500], Loss: 0.3633\n",
            "Epoch [208/500], Loss: 0.3467\n",
            "Epoch [209/500], Loss: 0.3309\n",
            "Epoch [210/500], Loss: 0.3157\n",
            "Epoch [211/500], Loss: 0.3013\n",
            "Epoch [212/500], Loss: 0.2876\n",
            "Epoch [213/500], Loss: 0.2745\n",
            "Epoch [214/500], Loss: 0.2621\n",
            "Epoch [215/500], Loss: 0.2502\n",
            "Epoch [216/500], Loss: 0.2389\n",
            "Epoch [217/500], Loss: 0.2280\n",
            "Epoch [218/500], Loss: 0.2177\n",
            "Epoch [219/500], Loss: 0.2079\n",
            "Epoch [220/500], Loss: 0.1986\n",
            "Epoch [221/500], Loss: 0.1896\n",
            "Epoch [222/500], Loss: 0.1811\n",
            "Epoch [223/500], Loss: 0.1730\n",
            "Epoch [224/500], Loss: 0.1653\n",
            "Epoch [225/500], Loss: 0.1579\n",
            "Epoch [226/500], Loss: 0.1508\n",
            "Epoch [227/500], Loss: 0.1441\n",
            "Epoch [228/500], Loss: 0.1377\n",
            "Epoch [229/500], Loss: 0.1316\n",
            "Epoch [230/500], Loss: 0.1258\n",
            "Epoch [231/500], Loss: 0.1202\n",
            "Epoch [232/500], Loss: 0.1149\n",
            "Epoch [233/500], Loss: 0.1098\n",
            "Epoch [234/500], Loss: 0.1050\n",
            "Epoch [235/500], Loss: 0.1004\n",
            "Epoch [236/500], Loss: 0.0960\n",
            "Epoch [237/500], Loss: 0.0918\n",
            "Epoch [238/500], Loss: 0.0877\n",
            "Epoch [239/500], Loss: 0.0839\n",
            "Epoch [240/500], Loss: 0.0803\n",
            "Epoch [241/500], Loss: 0.0768\n",
            "Epoch [242/500], Loss: 0.0734\n",
            "Epoch [243/500], Loss: 0.0702\n",
            "Epoch [244/500], Loss: 0.0672\n",
            "Epoch [245/500], Loss: 0.0643\n",
            "Epoch [246/500], Loss: 0.0615\n",
            "Epoch [247/500], Loss: 0.0589\n",
            "Epoch [248/500], Loss: 0.0564\n",
            "Epoch [249/500], Loss: 0.0539\n",
            "Epoch [250/500], Loss: 0.0516\n",
            "Epoch [251/500], Loss: 0.0494\n",
            "Epoch [252/500], Loss: 0.0473\n",
            "Epoch [253/500], Loss: 0.0453\n",
            "Epoch [254/500], Loss: 0.0434\n",
            "Epoch [255/500], Loss: 0.0415\n",
            "Epoch [256/500], Loss: 0.0398\n",
            "Epoch [257/500], Loss: 0.0381\n",
            "Epoch [258/500], Loss: 0.0365\n",
            "Epoch [259/500], Loss: 0.0350\n",
            "Epoch [260/500], Loss: 0.0335\n",
            "Epoch [261/500], Loss: 0.0321\n",
            "Epoch [262/500], Loss: 0.0308\n",
            "Epoch [263/500], Loss: 0.0295\n",
            "Epoch [264/500], Loss: 0.0282\n",
            "Epoch [265/500], Loss: 0.0271\n",
            "Epoch [266/500], Loss: 0.0259\n",
            "Epoch [267/500], Loss: 0.0249\n",
            "Epoch [268/500], Loss: 0.0238\n",
            "Epoch [269/500], Loss: 0.0229\n",
            "Epoch [270/500], Loss: 0.0219\n",
            "Epoch [271/500], Loss: 0.0210\n",
            "Epoch [272/500], Loss: 0.0202\n",
            "Epoch [273/500], Loss: 0.0193\n",
            "Epoch [274/500], Loss: 0.0186\n",
            "Epoch [275/500], Loss: 0.0178\n",
            "Epoch [276/500], Loss: 0.0171\n",
            "Epoch [277/500], Loss: 0.0164\n",
            "Epoch [278/500], Loss: 0.0157\n",
            "Epoch [279/500], Loss: 0.0151\n",
            "Epoch [280/500], Loss: 0.0145\n",
            "Epoch [281/500], Loss: 0.0139\n",
            "Epoch [282/500], Loss: 0.0133\n",
            "Epoch [283/500], Loss: 0.0128\n",
            "Epoch [284/500], Loss: 0.0123\n",
            "Epoch [285/500], Loss: 0.0118\n",
            "Epoch [286/500], Loss: 0.0113\n",
            "Epoch [287/500], Loss: 0.0109\n",
            "Epoch [288/500], Loss: 0.0105\n",
            "Epoch [289/500], Loss: 0.0100\n",
            "Epoch [290/500], Loss: 0.0097\n",
            "Epoch [291/500], Loss: 0.0093\n",
            "Epoch [292/500], Loss: 0.0089\n",
            "Epoch [293/500], Loss: 0.0086\n",
            "Epoch [294/500], Loss: 0.0082\n",
            "Epoch [295/500], Loss: 0.0079\n",
            "Epoch [296/500], Loss: 0.0076\n",
            "Epoch [297/500], Loss: 0.0073\n",
            "Epoch [298/500], Loss: 0.0070\n",
            "Epoch [299/500], Loss: 0.0067\n",
            "Epoch [300/500], Loss: 0.0065\n",
            "Epoch [301/500], Loss: 0.0062\n",
            "Epoch [302/500], Loss: 0.0060\n",
            "Epoch [303/500], Loss: 0.0058\n",
            "Epoch [304/500], Loss: 0.0055\n",
            "Epoch [305/500], Loss: 0.0053\n",
            "Epoch [306/500], Loss: 0.0051\n",
            "Epoch [307/500], Loss: 0.0049\n",
            "Epoch [308/500], Loss: 0.0048\n",
            "Epoch [309/500], Loss: 0.0046\n",
            "Epoch [310/500], Loss: 0.0044\n",
            "Epoch [311/500], Loss: 0.0042\n",
            "Epoch [312/500], Loss: 0.0041\n",
            "Epoch [313/500], Loss: 0.0039\n",
            "Epoch [314/500], Loss: 0.0038\n",
            "Epoch [315/500], Loss: 0.0036\n",
            "Epoch [316/500], Loss: 0.0035\n",
            "Epoch [317/500], Loss: 0.0034\n",
            "Epoch [318/500], Loss: 0.0032\n",
            "Epoch [319/500], Loss: 0.0031\n",
            "Epoch [320/500], Loss: 0.0030\n",
            "Epoch [321/500], Loss: 0.0029\n",
            "Epoch [322/500], Loss: 0.0028\n",
            "Epoch [323/500], Loss: 0.0027\n",
            "Epoch [324/500], Loss: 0.0026\n",
            "Epoch [325/500], Loss: 0.0025\n",
            "Epoch [326/500], Loss: 0.0024\n",
            "Epoch [327/500], Loss: 0.0023\n",
            "Epoch [328/500], Loss: 0.0022\n",
            "Epoch [329/500], Loss: 0.0022\n",
            "Epoch [330/500], Loss: 0.0021\n",
            "Epoch [331/500], Loss: 0.0020\n",
            "Epoch [332/500], Loss: 0.0019\n",
            "Epoch [333/500], Loss: 0.0019\n",
            "Epoch [334/500], Loss: 0.0018\n",
            "Epoch [335/500], Loss: 0.0017\n",
            "Epoch [336/500], Loss: 0.0017\n",
            "Epoch [337/500], Loss: 0.0016\n",
            "Epoch [338/500], Loss: 0.0015\n",
            "Epoch [339/500], Loss: 0.0015\n",
            "Epoch [340/500], Loss: 0.0014\n",
            "Epoch [341/500], Loss: 0.0014\n",
            "Epoch [342/500], Loss: 0.0013\n",
            "Epoch [343/500], Loss: 0.0013\n",
            "Epoch [344/500], Loss: 0.0012\n",
            "Epoch [345/500], Loss: 0.0012\n",
            "Epoch [346/500], Loss: 0.0012\n",
            "Epoch [347/500], Loss: 0.0011\n",
            "Epoch [348/500], Loss: 0.0011\n",
            "Epoch [349/500], Loss: 0.0010\n",
            "Epoch [350/500], Loss: 0.0010\n",
            "Epoch [351/500], Loss: 0.0010\n",
            "Epoch [352/500], Loss: 0.0009\n",
            "Epoch [353/500], Loss: 0.0009\n",
            "Epoch [354/500], Loss: 0.0009\n",
            "Epoch [355/500], Loss: 0.0008\n",
            "Epoch [356/500], Loss: 0.0008\n",
            "Epoch [357/500], Loss: 0.0008\n",
            "Epoch [358/500], Loss: 0.0008\n",
            "Epoch [359/500], Loss: 0.0007\n",
            "Epoch [360/500], Loss: 0.0007\n",
            "Epoch [361/500], Loss: 0.0007\n",
            "Epoch [362/500], Loss: 0.0007\n",
            "Epoch [363/500], Loss: 0.0006\n",
            "Epoch [364/500], Loss: 0.0006\n",
            "Epoch [365/500], Loss: 0.0006\n",
            "Epoch [366/500], Loss: 0.0006\n",
            "Epoch [367/500], Loss: 0.0006\n",
            "Epoch [368/500], Loss: 0.0005\n",
            "Epoch [369/500], Loss: 0.0005\n",
            "Epoch [370/500], Loss: 0.0005\n",
            "Epoch [371/500], Loss: 0.0005\n",
            "Epoch [372/500], Loss: 0.0005\n",
            "Epoch [373/500], Loss: 0.0005\n",
            "Epoch [374/500], Loss: 0.0004\n",
            "Epoch [375/500], Loss: 0.0004\n",
            "Epoch [376/500], Loss: 0.0004\n",
            "Epoch [377/500], Loss: 0.0004\n",
            "Epoch [378/500], Loss: 0.0004\n",
            "Epoch [379/500], Loss: 0.0004\n",
            "Epoch [380/500], Loss: 0.0004\n",
            "Epoch [381/500], Loss: 0.0003\n",
            "Epoch [382/500], Loss: 0.0003\n",
            "Epoch [383/500], Loss: 0.0003\n",
            "Epoch [384/500], Loss: 0.0003\n",
            "Epoch [385/500], Loss: 0.0003\n",
            "Epoch [386/500], Loss: 0.0003\n",
            "Epoch [387/500], Loss: 0.0003\n",
            "Epoch [388/500], Loss: 0.0003\n",
            "Epoch [389/500], Loss: 0.0003\n",
            "Epoch [390/500], Loss: 0.0003\n",
            "Epoch [391/500], Loss: 0.0002\n",
            "Epoch [392/500], Loss: 0.0002\n",
            "Epoch [393/500], Loss: 0.0002\n",
            "Epoch [394/500], Loss: 0.0002\n",
            "Epoch [395/500], Loss: 0.0002\n",
            "Epoch [396/500], Loss: 0.0002\n",
            "Epoch [397/500], Loss: 0.0002\n",
            "Epoch [398/500], Loss: 0.0002\n",
            "Epoch [399/500], Loss: 0.0002\n",
            "Epoch [400/500], Loss: 0.0002\n",
            "Epoch [401/500], Loss: 0.0002\n",
            "Epoch [402/500], Loss: 0.0002\n",
            "Epoch [403/500], Loss: 0.0002\n",
            "Epoch [404/500], Loss: 0.0002\n",
            "Epoch [405/500], Loss: 0.0002\n",
            "Epoch [406/500], Loss: 0.0001\n",
            "Epoch [407/500], Loss: 0.0001\n",
            "Epoch [408/500], Loss: 0.0001\n",
            "Epoch [409/500], Loss: 0.0001\n",
            "Epoch [410/500], Loss: 0.0001\n",
            "Epoch [411/500], Loss: 0.0001\n",
            "Epoch [412/500], Loss: 0.0001\n",
            "Epoch [413/500], Loss: 0.0001\n",
            "Epoch [414/500], Loss: 0.0001\n",
            "Epoch [415/500], Loss: 0.0001\n",
            "Epoch [416/500], Loss: 0.0001\n",
            "Epoch [417/500], Loss: 0.0001\n",
            "Epoch [418/500], Loss: 0.0001\n",
            "Epoch [419/500], Loss: 0.0001\n",
            "Epoch [420/500], Loss: 0.0001\n",
            "Epoch [421/500], Loss: 0.0001\n",
            "Epoch [422/500], Loss: 0.0001\n",
            "Epoch [423/500], Loss: 0.0001\n",
            "Epoch [424/500], Loss: 0.0001\n",
            "Epoch [425/500], Loss: 0.0001\n",
            "Epoch [426/500], Loss: 0.0001\n",
            "Epoch [427/500], Loss: 0.0001\n",
            "Epoch [428/500], Loss: 0.0001\n",
            "Epoch [429/500], Loss: 0.0001\n",
            "Epoch [430/500], Loss: 0.0001\n",
            "Epoch [431/500], Loss: 0.0001\n",
            "Epoch [432/500], Loss: 0.0001\n",
            "Epoch [433/500], Loss: 0.0001\n",
            "Epoch [434/500], Loss: 0.0001\n",
            "Epoch [435/500], Loss: 0.0001\n",
            "Epoch [436/500], Loss: 0.0001\n",
            "Epoch [437/500], Loss: 0.0001\n",
            "Epoch [438/500], Loss: 0.0001\n",
            "Epoch [439/500], Loss: 0.0001\n",
            "Epoch [440/500], Loss: 0.0000\n",
            "Epoch [441/500], Loss: 0.0000\n",
            "Epoch [442/500], Loss: 0.0000\n",
            "Epoch [443/500], Loss: 0.0000\n",
            "Epoch [444/500], Loss: 0.0000\n",
            "Epoch [445/500], Loss: 0.0000\n",
            "Epoch [446/500], Loss: 0.0000\n",
            "Epoch [447/500], Loss: 0.0000\n",
            "Epoch [448/500], Loss: 0.0000\n",
            "Epoch [449/500], Loss: 0.0000\n",
            "Epoch [450/500], Loss: 0.0000\n",
            "Epoch [451/500], Loss: 0.0000\n",
            "Epoch [452/500], Loss: 0.0000\n",
            "Epoch [453/500], Loss: 0.0000\n",
            "Epoch [454/500], Loss: 0.0000\n",
            "Epoch [455/500], Loss: 0.0000\n",
            "Epoch [456/500], Loss: 0.0000\n",
            "Epoch [457/500], Loss: 0.0000\n",
            "Epoch [458/500], Loss: 0.0000\n",
            "Epoch [459/500], Loss: 0.0000\n",
            "Epoch [460/500], Loss: 0.0000\n",
            "Epoch [461/500], Loss: 0.0000\n",
            "Epoch [462/500], Loss: 0.0000\n",
            "Epoch [463/500], Loss: 0.0000\n",
            "Epoch [464/500], Loss: 0.0000\n",
            "Epoch [465/500], Loss: 0.0000\n",
            "Epoch [466/500], Loss: 0.0000\n",
            "Epoch [467/500], Loss: 0.0000\n",
            "Epoch [468/500], Loss: 0.0000\n",
            "Epoch [469/500], Loss: 0.0000\n",
            "Epoch [470/500], Loss: 0.0000\n",
            "Epoch [471/500], Loss: 0.0000\n",
            "Epoch [472/500], Loss: 0.0000\n",
            "Epoch [473/500], Loss: 0.0000\n",
            "Epoch [474/500], Loss: 0.0000\n",
            "Epoch [475/500], Loss: 0.0000\n",
            "Epoch [476/500], Loss: 0.0000\n",
            "Epoch [477/500], Loss: 0.0000\n",
            "Epoch [478/500], Loss: 0.0000\n",
            "Epoch [479/500], Loss: 0.0000\n",
            "Epoch [480/500], Loss: 0.0000\n",
            "Epoch [481/500], Loss: 0.0000\n",
            "Epoch [482/500], Loss: 0.0000\n",
            "Epoch [483/500], Loss: 0.0000\n",
            "Epoch [484/500], Loss: 0.0000\n",
            "Epoch [485/500], Loss: 0.0000\n",
            "Epoch [486/500], Loss: 0.0000\n",
            "Epoch [487/500], Loss: 0.0000\n",
            "Epoch [488/500], Loss: 0.0000\n",
            "Epoch [489/500], Loss: 0.0000\n",
            "Epoch [490/500], Loss: 0.0000\n",
            "Epoch [491/500], Loss: 0.0000\n",
            "Epoch [492/500], Loss: 0.0000\n",
            "Epoch [493/500], Loss: 0.0000\n",
            "Epoch [494/500], Loss: 0.0000\n",
            "Epoch [495/500], Loss: 0.0000\n",
            "Epoch [496/500], Loss: 0.0000\n",
            "Epoch [497/500], Loss: 0.0000\n",
            "Epoch [498/500], Loss: 0.0000\n",
            "Epoch [499/500], Loss: 0.0000\n",
            "Epoch [500/500], Loss: 0.0000\n",
            "Predicted output: tensor([[28.3959]])\n"
          ]
        }
      ],
      "source": [
        "import torch\n",
        "import torch.nn as nn\n",
        "import torch.optim as optim\n",
        "from sklearn.datasets import make_regression\n",
        "\n",
        "\n",
        "X, y, coef = make_regression(n_features=4, n_informative=4, coef=True, bias=0.5)\n",
        "X = torch.from_numpy(X).float()\n",
        "y = torch.from_numpy(y).float()\n",
        "\n",
        "model = nn.Linear(4, 1)\n",
        "\n",
        "criterion = nn.MSELoss()\n",
        "optimizer = optim.SGD(model.parameters(), lr=0.01)\n",
        "\n",
        "num_epochs = 500\n",
        "for epoch in range(num_epochs):\n",
        "    outputs = model.forward(X)\n",
        "    loss = criterion(outputs.T, y)\n",
        "    loss.backward()\n",
        "    optimizer.step()\n",
        "    optimizer.zero_grad()\n",
        "    print(f'Epoch [{epoch+1}/{num_epochs}], Loss: {loss.item():.4f}')\n",
        "\n",
        "with torch.no_grad():\n",
        "    test_input = torch.randn(1, 4)\n",
        "    predicted_output = model(test_input)\n",
        "    print(f'Predicted output: {predicted_output}')"
      ]
    },
    {
      "cell_type": "markdown",
      "metadata": {
        "id": "KpPSPYSpD9Ey"
      },
      "source": [
        "[Граф вычислений для этой задачи](https://i.ibb.co/2dhDxZx/photo-2021-02-15-17-18-04.jpg)"
      ]
    },
    {
      "cell_type": "markdown",
      "metadata": {
        "id": "Fc1sXtGd_J-y"
      },
      "source": [
        "2.4.1.1 Реализуйте класс `SquaredLoss`\n"
      ]
    },
    {
      "cell_type": "code",
      "execution_count": null,
      "metadata": {
        "id": "llFigkqd_JRU"
      },
      "outputs": [],
      "source": [
        "class SquaredLoss:\n",
        "    def forward(self, y_pred, y_true):\n",
        "        # <реализовать логику MSE>\n",
        "        return (y_pred - y_true) ** 2\n",
        "\n",
        "    def backward(self, y_pred, y_true):\n",
        "        self.dinput = 2 * (y_pred - y_true)# df/dc"
      ]
    },
    {
      "cell_type": "markdown",
      "metadata": {
        "id": "GY7ForfM97UQ"
      },
      "source": [
        "2.4.1.2. Модифицируйте класс `Neuron` из __2.1.1__:\n",
        "\n",
        "  1) Сделайте так, чтобы веса нейрона инициализировались из стандартного нормального распределения\n",
        "\n",
        "  2) Реализуйте расчет градиента относительно весов `weights` и `bias`"
      ]
    },
    {
      "cell_type": "code",
      "execution_count": null,
      "metadata": {
        "id": "L0KqxPJU9kAN"
      },
      "outputs": [],
      "source": [
        "class Neuron:\n",
        "    def __init__(self, n_inputs):\n",
        "        # <создать атрибуты объекта weights и bias>\n",
        "        self.weights = torch.randn(n_inputs)\n",
        "        self.bias = torch.randn(1)\n",
        "\n",
        "    def forward(self, inputs):\n",
        "        # <реализовать логику нейрона>\n",
        "        self.inputs = inputs\n",
        "        return (inputs * self.weights).sum() + self.bias\n",
        "\n",
        "    def backward(self, dvalue):\n",
        "        # dvalue - значение производной, которое приходит нейрону от следующего слоя сети\n",
        "        # в данном случае это будет значение df/dc (созданное методом backwards у объекта MSELoss)\n",
        "        self.dweights = dvalue * self.inputs# df/dW\n",
        "        self.dinput =  dvalue * self.weights# df/wX\n",
        "        self.dbias = dvalue# df/db"
      ]
    },
    {
      "cell_type": "markdown",
      "metadata": {
        "id": "rKcO4zOLACxM"
      },
      "source": [
        "2.4.1.3 Допишите цикл для настройки весов нейрона\n",
        "\n",
        "[SGD](https://ru.wikipedia.org/wiki/%D0%A1%D1%82%D0%BE%D1%85%D0%B0%D1%81%D1%82%D0%B8%D1%87%D0%B5%D1%81%D0%BA%D0%B8%D0%B9_%D0%B3%D1%80%D0%B0%D0%B4%D0%B8%D0%B5%D0%BD%D1%82%D0%BD%D1%8B%D0%B9_%D1%81%D0%BF%D1%83%D1%81%D0%BA)\n",
        "\n",
        "![](https://wikimedia.org/api/rest_v1/media/math/render/svg/dda3670f8a8996a0d3bf80856bb4a166cc8db6d4)"
      ]
    },
    {
      "cell_type": "code",
      "execution_count": null,
      "metadata": {
        "id": "_g_FvwvmALJd"
      },
      "outputs": [],
      "source": [
        "n_inputs = X.shape[-1]# <размерность элемента выборки >\n",
        "learning_rate = 0.1 #  скорость обучения\n",
        "n_epoch = 100 #  количество эпох\n",
        "\n",
        "neuron = Neuron(n_inputs)\n",
        "loss = SquaredLoss()\n",
        "\n",
        "losses = []\n",
        "for epoch in range(100):\n",
        "    for x_example, y_example in zip(X, y):\n",
        "        # forward pass\n",
        "        y_pred = neuron.forward(x_example)# <прогон через нейрон>\n",
        "        curr_loss = loss.forward(y_pred, y_example) # <прогон через функцию потерь>\n",
        "        losses.append(curr_loss)\n",
        "\n",
        "        # backprop\n",
        "        # <вызов методов backward>\n",
        "        # обратите внимание на последовательность вызовов: от конца к началу\n",
        "        loss.backward(y_pred, y_example)\n",
        "        neuron.backward(loss.dinput)\n",
        "        # <шаг оптимизации для весов (weights и bias) нейрона>\n",
        "        neuron.weights -= learning_rate * neuron.dweights\n",
        "        neuron.bias -= learning_rate * neuron.dbias"
      ]
    },
    {
      "cell_type": "code",
      "execution_count": null,
      "metadata": {
        "colab": {
          "base_uri": "https://localhost:8080/"
        },
        "id": "4OCe6iPA4e97",
        "outputId": "ba4ab0e7-a3b1-419c-a068-6432d70c364e"
      },
      "outputs": [
        {
          "data": {
            "text/plain": [
              "[tensor([6163.1641]),\n",
              " tensor([2.3283e-10]),\n",
              " tensor([5.8208e-11]),\n",
              " tensor([2.3283e-10]),\n",
              " tensor([5.8208e-11]),\n",
              " tensor([2.3283e-10]),\n",
              " tensor([5.8208e-11])]"
            ]
          },
          "execution_count": 71,
          "metadata": {},
          "output_type": "execute_result"
        }
      ],
      "source": [
        "losses[::1500]"
      ]
    },
    {
      "cell_type": "markdown",
      "metadata": {
        "id": "ebibge9VEgF7"
      },
      "source": [
        "2.4.2 Решите задачу 2.4.1, используя пакетный градиентный спуск"
      ]
    },
    {
      "cell_type": "markdown",
      "metadata": {
        "id": "as-QeWSdOELd"
      },
      "source": [
        "Вычисления для этой задачи:\n",
        "[1](https://i.ibb.co/rmtQT6P/photo-2021-02-15-18-00-43.jpg)\n",
        "[2](https://i.ibb.co/NmCFVnQ/photo-2021-02-15-18-01-17.jpg)"
      ]
    },
    {
      "cell_type": "markdown",
      "metadata": {
        "id": "dr9qq4H_J3zt"
      },
      "source": [
        "2.4.1.1 Модифицируйте класс `MSELoss` из __2.3.1__, реализовав расчет производной относительно предыдущего слоя с учетом того, что теперь работа ведется с батчами, а не с индивидуальными примерами\n"
      ]
    },
    {
      "cell_type": "code",
      "execution_count": null,
      "metadata": {
        "id": "L8wjk9iPMQ4x"
      },
      "outputs": [],
      "source": [
        "class MSELoss:\n",
        "    def forward(self, y_pred, y_true):\n",
        "        return ((y_pred.view(-1, 1) - y_true.view(-1, 1)) ** 2).mean()\n",
        "\n",
        "    def backward(self, y_pred, y_true):\n",
        "        self.dinput = -2 *(y_true.view(-1, 1) - y_pred.view(-1, 1)) / y_true.shape[0]"
      ]
    },
    {
      "cell_type": "markdown",
      "metadata": {
        "id": "E3fSHCEtJjX8"
      },
      "source": [
        "2.4.2.2. Модифицируйте класс `Neuron` из __2.4.1.2__:\n",
        "\n",
        "  1) Реализуйте метод `forward` таким образом, чтобы он мог принимать на вход матрицу (батч) с данными.\n",
        "\n",
        "  2) Реализуйте расчет градиента относительно весов `weights` и `bias` с учетом того, что теперь работа ведется с батчами, а не с индивидуальными примерами"
      ]
    },
    {
      "cell_type": "code",
      "execution_count": null,
      "metadata": {
        "id": "o_OpuAP0Jpz1"
      },
      "outputs": [],
      "source": [
        "class Neuron:\n",
        "    def __init__(self, n_inputs):\n",
        "#         self.n_inputs = n_inputs\n",
        "        self.weights = torch.randn(1, n_inputs).T\n",
        "        self.bias = torch.randn(1)\n",
        "\n",
        "    def forward(self, inputs):\n",
        "        self.inputs = inputs\n",
        "        return torch.matmul(inputs, self.weights) + self.bias # <реализовать логику нейрона>\n",
        "\n",
        "    def backward(self, dvalue):\n",
        "        # dvalue - значение градиента, которое приходит нейрону от следующего слоя сети\n",
        "        # в данном случае это будет градиент L по y^ (созданный методом backwards у объекта MSELoss)\n",
        "        self.dweights = torch.matmul(self.inputs.T, dvalue) # df/dW\n",
        "        self.dbias = dvalue.sum()# df/db"
      ]
    },
    {
      "cell_type": "markdown",
      "metadata": {
        "id": "zO-NZrgKMBFx"
      },
      "source": [
        "2.4.2.3 Допишите цикл для настройки весов нейрона"
      ]
    },
    {
      "cell_type": "code",
      "execution_count": null,
      "metadata": {
        "id": "Zqwm_7eqJim1"
      },
      "outputs": [],
      "source": [
        "n_inputs = X.shape[1]# <размерность элемента выборки >\n",
        "learning_rate = 0.1 #  скорость обучения\n",
        "n_epoch = 100 #  количество эпох\n",
        "\n",
        "neuron = Neuron(n_inputs)\n",
        "loss = MSELoss()\n",
        "\n",
        "losses = []\n",
        "\n",
        "for epoch in range(100):\n",
        "    # forward pass\n",
        "    y_pred =  neuron.forward(X)# <прогон через нейрон>\n",
        "    curr_loss = loss.forward(y_pred, y) # <прогон через функцию потерь>\n",
        "    losses.append(curr_loss)\n",
        "\n",
        "    # backprop\n",
        "    # <вызов методов backward>\n",
        "    # обратите внимание на последовательность вызовов: от конца к началу\n",
        "    loss.backward(y_pred, y)\n",
        "    neuron.backward(loss.dinput)\n",
        "    # <шаг оптимизации для весов (weights и bias) нейрона>\n",
        "    neuron.weights -= learning_rate * neuron.dweights\n",
        "    neuron.bias -= learning_rate * neuron.dbias"
      ]
    },
    {
      "cell_type": "code",
      "execution_count": null,
      "metadata": {
        "colab": {
          "base_uri": "https://localhost:8080/"
        },
        "id": "K3lBXfzq4NEU",
        "outputId": "477fbf70-6d3d-4d00-afdc-22639b4f3430"
      },
      "outputs": [
        {
          "data": {
            "text/plain": [
              "[tensor(11734.3486),\n",
              " tensor(33.4088),\n",
              " tensor(0.1422),\n",
              " tensor(0.0016),\n",
              " tensor(4.3216e-05),\n",
              " tensor(1.4242e-06),\n",
              " tensor(4.9872e-08),\n",
              " tensor(1.6980e-09),\n",
              " tensor(2.2712e-10),\n",
              " tensor(2.2584e-10)]"
            ]
          },
          "execution_count": 75,
          "metadata": {},
          "output_type": "execute_result"
        }
      ],
      "source": [
        "losses[::10]"
      ]
    },
    {
      "cell_type": "markdown",
      "metadata": {
        "id": "16VtP159OdMk"
      },
      "source": [
        "2.4.3  Используя один полносвязный слой и  пакетный градиетный спуск, решите задачу регрессии из __2.4.1__"
      ]
    },
    {
      "cell_type": "markdown",
      "metadata": {
        "id": "uj5febreSSZ7"
      },
      "source": [
        "2.4.3.1 Модифицируйте класс `Linear` из __2.1.4__. ([вычисление градиентов](https://i.ibb.co/kgVR6m6/photo-2021-02-15-21-30-28.jpg))"
      ]
    },
    {
      "cell_type": "code",
      "execution_count": null,
      "metadata": {
        "id": "9zWuhaLdSB2_"
      },
      "outputs": [],
      "source": [
        "class Linear:\n",
        "    def __init__(self, n_features, n_neurons):\n",
        "        # <создать атрибуты объекта weights и biases>\n",
        "        self.weights = torch.randn(n_neurons, n_features).T\n",
        "        self.biases = torch.randn(n_neurons)\n",
        "\n",
        "    def forward(self, inputs):\n",
        "        self.inputs = inputs\n",
        "        return torch.matmul(inputs, self.weights) + self.biases # <реализовать логику слоя>\n",
        "\n",
        "    def backward(self, dvalues):\n",
        "        self.dweights = torch.matmul(self.inputs.T, dvalues) # df/dW\n",
        "        self.dbiases = torch.matmul(torch.ones(dvalues.shape[0]), dvalues) # df/db\n",
        "        self.dinputs = torch.matmul(dvalues, self.weights.T) # df/dX"
      ]
    },
    {
      "cell_type": "markdown",
      "metadata": {
        "id": "j3w1hT9MS_Lt"
      },
      "source": [
        "2.4.3.2 Создайте слой с одним нейроном. Используя класс MSELoss из 2.4.2, убедитесь, что модель обучается"
      ]
    },
    {
      "cell_type": "code",
      "execution_count": null,
      "metadata": {
        "colab": {
          "base_uri": "https://localhost:8080/"
        },
        "id": "e7cvv_be5KjC",
        "outputId": "6da5d716-3067-42ba-f409-3788322b6207"
      },
      "outputs": [
        {
          "data": {
            "text/plain": [
              "[tensor(11783.7285),\n",
              " tensor(0.5017),\n",
              " tensor(0.0002),\n",
              " tensor(3.7773e-07),\n",
              " tensor(2.8640e-08)]"
            ]
          },
          "execution_count": 77,
          "metadata": {},
          "output_type": "execute_result"
        }
      ],
      "source": [
        "n_inputs = X.shape[1]  # <размерность элемента выборки >\n",
        "learning_rate = 0.01  #  скорость обучения\n",
        "n_epoch = 1000  #  количество эпох\n",
        "\n",
        "layer = Linear(n_inputs, 1)\n",
        "loss = MSELoss()\n",
        "\n",
        "losses = []\n",
        "\n",
        "for epoch in range(n_epoch):\n",
        "    # forward pass\n",
        "    y_pred = layer.forward(X)  # <прогон через нейрон>\n",
        "    curr_loss = loss.forward(y_pred, y)  # <прогон через функцию потерь>\n",
        "    losses.append(curr_loss)\n",
        "\n",
        "    # backprop\n",
        "    # <вызов методов backward>\n",
        "    # обратите внимание на последовательность вызовов: от конца к началу\n",
        "    loss.backward(y_pred, y)\n",
        "    layer.backward(loss.dinput)\n",
        "\n",
        "    # <шаг оптимизации для весов (weights и bias) нейрона>\n",
        "    layer.weights -= learning_rate * layer.dweights\n",
        "    layer.biases -= learning_rate * layer.dbiases\n",
        "\n",
        "losses[::200]"
      ]
    },
    {
      "cell_type": "markdown",
      "metadata": {
        "id": "RTkJV-F8TVuN"
      },
      "source": [
        "### 2.4.4 Используя наработки из 2.4, создайте нейросеть и решите задачу регрессии.\n",
        "\n",
        "Предлагаемая архитектура:\n",
        "1. Полносвязный слой с 10 нейронами\n",
        "2. Активация ReLU\n",
        "3. Полносвязный слой с 1 нейроном"
      ]
    },
    {
      "cell_type": "code",
      "execution_count": null,
      "metadata": {
        "id": "axUjpPz-SvS1"
      },
      "outputs": [],
      "source": [
        "X = torch.linspace(-1, 1, 100).view(-1, 1)\n",
        "y = X.pow(2) + 0.2 * torch.rand(X.size())"
      ]
    },
    {
      "cell_type": "code",
      "execution_count": null,
      "metadata": {
        "id": "LXoiNxkpTziV"
      },
      "outputs": [],
      "source": [
        "class Activation_ReLU:\n",
        "  def forward(self, inputs):\n",
        "    self.inputs = inputs\n",
        "    self.output = inputs.clip(min=0)\n",
        "    return self.output\n",
        "\n",
        "  def backward(self, dvalues):\n",
        "    self.dinputs = dvalues.clone()\n",
        "    self.dinputs[self.inputs <= 0] = 0"
      ]
    },
    {
      "cell_type": "code",
      "execution_count": null,
      "metadata": {
        "colab": {
          "base_uri": "https://localhost:8080/"
        },
        "id": "tXhspwW6T44T",
        "outputId": "52027238-ba65-42a7-a17d-5b2327d8806e"
      },
      "outputs": [
        {
          "name": "stdout",
          "output_type": "stream",
          "text": [
            "epoch 0 mean loss 2.642493963241577\n",
            "epoch 200 mean loss 0.03027968667447567\n",
            "epoch 400 mean loss 0.01727745123207569\n",
            "epoch 600 mean loss 0.01357178296893835\n",
            "epoch 800 mean loss 0.01138919498771429\n",
            "epoch 1000 mean loss 0.010001854039728642\n",
            "epoch 1200 mean loss 0.009117718786001205\n",
            "epoch 1400 mean loss 0.008562921546399593\n",
            "epoch 1600 mean loss 0.008166893385350704\n",
            "epoch 1800 mean loss 0.007887577638030052\n",
            "epoch 2000 mean loss 0.007700815796852112\n"
          ]
        }
      ],
      "source": [
        "# создание компонентов сети\n",
        "fc1 = Linear(X.shape[1], 10)\n",
        "relu1 = Activation_ReLU()\n",
        "fc2 = Linear(10, 1)\n",
        "\n",
        "loss = MSELoss()\n",
        "lr = 0.01\n",
        "\n",
        "ys = []\n",
        "for epoch in range(2001):\n",
        "    # <forward pass>\n",
        "    # fc1 > relu1 > fc2 > loss\n",
        "    y_pred = fc2.forward(relu1.forward(fc1.forward(X)))\n",
        "\n",
        "    data_loss = loss.forward(y_pred, y) # <прогон через функцию потерь>\n",
        "\n",
        "    if epoch % 200 == 0:\n",
        "        print(f'epoch {epoch} mean loss {data_loss}')\n",
        "        ys.append(y_pred)\n",
        "\n",
        "    # <backprop>\n",
        "    # loss > fc2 > relu1 > fc1\n",
        "    loss.backward(y_pred, y)\n",
        "    fc2.backward(loss.dinput)\n",
        "    relu1.backward(fc2.dinputs)\n",
        "    fc1.backward(relu1.dinputs)\n",
        "\n",
        "    # <шаг оптимизации для fc1>\n",
        "    fc1.weights -= lr * fc1.dweights\n",
        "    fc1.biases -= lr * fc1.dbiases\n",
        "\n",
        "    # <шаг оптимизации для fc2>\n",
        "    fc2.weights -= lr * fc2.dweights\n",
        "    fc2.biases -= lr * fc2.dbiases"
      ]
    },
    {
      "cell_type": "code",
      "execution_count": null,
      "metadata": {
        "colab": {
          "base_uri": "https://localhost:8080/",
          "height": 1000
        },
        "id": "kpKi0OfoUkwk",
        "outputId": "535f1d76-fce7-4ac8-faf7-5d43a1a0419b"
      },
      "outputs": [
        {
          "data": {
            "image/png": "[encoded data removed]",
            "text/plain": [
              "<Figure size 1000x4000 with 11 Axes>"
            ]
          },
          "metadata": {},
          "output_type": "display_data"
        }
      ],
      "source": [
        "import matplotlib.pyplot as plt\n",
        "\n",
        "fig, axs = plt.subplots(len(ys), 1, figsize=(10, 40))\n",
        "for ax, y_ in zip(axs, ys):\n",
        "ax.scatter(X.numpy(), y.numpy(), color = \"orange\")\n",
        "  ax.plot(X.numpy(), y_.numpy(), 'g-', lw=3)\n",
        "  ax.set_xlim(-1.05, 1.5)\n",
        "  ax.set_ylim(-0.25, 1.25)"
      ]
    }
  ],
  "metadata": {
    "colab": {
      "provenance": []
    },
    "kernelspec": {
      "display_name": "Python 3 (ipykernel)",
      "language": "python",
      "name": "python3"
    },
    "language_info": {
      "codemirror_mode": {
        "name": "ipython",
        "version": 3
      },
      "file_extension": ".py",
      "mimetype": "text/x-python",
      "name": "python",
      "nbconvert_exporter": "python",
      "pygments_lexer": "ipython3",
      "version": "3.8.15"
    }
  },
  "nbformat": 4,
  "nbformat_minor": 0
}